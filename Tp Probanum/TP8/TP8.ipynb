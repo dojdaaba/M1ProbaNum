{
 "cells": [
  {
   "cell_type": "markdown",
   "metadata": {},
   "source": [
    "# Le  package *boot*\n",
    "\n",
    "Le package **boot** contient des fonctions  puissantes et optimisées pour le bootstrap. En effet, les fonctions que vous avez programmées au dernier notebook sont toutes disponibles dans le package **boot**. Cela ne veut pas dire que votre travail a été inutile. Au fait, la mise en oeuvre des différentes fonctions bootstrap vous a sûrement aidé a mieux comprendre les méthodes !\n",
    "\n",
    "Maintenant chargons le package par l'instruction suivante :\n"
   ]
  },
  {
   "cell_type": "code",
   "execution_count": 1,
   "metadata": {},
   "outputs": [],
   "source": [
    "library(boot)"
   ]
  },
  {
   "cell_type": "markdown",
   "metadata": {},
   "source": [
    "### Répliques bootstrap\n",
    "\n",
    "La fonction de base est la fonction **boot**. Elle génère des répliques bootstrap d'un estimateur $T$ - au choix par le bootstrap paramétrique ou non paramétrique. Elle a des nombreuses options :"
   ]
  },
  {
   "cell_type": "raw",
   "metadata": {},
   "source": [
    "boot(data, statistic, R, sim = \"ordinary\", stype = c(\"i\", \"f\", \"w\"), \n",
    "     strata = rep(1,n), L = NULL, m = 0, weights = NULL, \n",
    "     ran.gen = function(d, p) d, mle = NULL, simple = FALSE, ...,\n",
    "     parallel = c(\"no\", \"multicore\", \"snow\"),\n",
    "     ncpus = getOption(\"boot.ncpus\", 1L), cl = NULL)"
   ]
  },
  {
   "cell_type": "markdown",
   "metadata": {},
   "source": [
    "Voyons d'abord le bootstrap nonparamétrique. Les arguments de **boot** sont les suivants : le vecteur des données (**data**), une fonction qui définit l'estimateur $T$ (**statistics**) et le nombre $B$ de répliques souhaités. Par exemple :"
   ]
  },
  {
   "cell_type": "code",
   "execution_count": 2,
   "metadata": {},
   "outputs": [
    {
     "data": {
      "text/plain": [
       "\n",
       "ORDINARY NONPARAMETRIC BOOTSTRAP\n",
       "\n",
       "\n",
       "Call:\n",
       "boot(data = obs, statistic = boot.mean, R = B)\n",
       "\n",
       "\n",
       "Bootstrap Statistics :\n",
       "      original     bias    std. error\n",
       "t1* -0.0941912 -0.0197479   0.2719792"
      ]
     },
     "metadata": {},
     "output_type": "display_data"
    }
   ],
   "source": [
    "n <- 20\n",
    "obs <- rnorm(n)\n",
    "B <- 10\n",
    "boot.mean <- function(obs, indice){\n",
    "    moy.boot <- mean(obs[indice]) # permet à boot de choisir les données\n",
    "    return(moy.boot)\n",
    "}\n",
    "repl.np <- boot(obs, boot.mean, B)\n",
    "repl.np"
   ]
  },
  {
   "cell_type": "markdown",
   "metadata": {},
   "source": [
    "On obtient toute une liste d'objets en sortie :\n",
    "\n"
   ]
  },
  {
   "cell_type": "code",
   "execution_count": 3,
   "metadata": {},
   "outputs": [
    {
     "data": {
      "text/html": [
       "<ol class=list-inline>\n",
       "\t<li>'t0'</li>\n",
       "\t<li>'t'</li>\n",
       "\t<li>'R'</li>\n",
       "\t<li>'data'</li>\n",
       "\t<li>'seed'</li>\n",
       "\t<li>'statistic'</li>\n",
       "\t<li>'sim'</li>\n",
       "\t<li>'call'</li>\n",
       "\t<li>'stype'</li>\n",
       "\t<li>'strata'</li>\n",
       "\t<li>'weights'</li>\n",
       "</ol>\n"
      ],
      "text/latex": [
       "\\begin{enumerate*}\n",
       "\\item 't0'\n",
       "\\item 't'\n",
       "\\item 'R'\n",
       "\\item 'data'\n",
       "\\item 'seed'\n",
       "\\item 'statistic'\n",
       "\\item 'sim'\n",
       "\\item 'call'\n",
       "\\item 'stype'\n",
       "\\item 'strata'\n",
       "\\item 'weights'\n",
       "\\end{enumerate*}\n"
      ],
      "text/markdown": [
       "1. 't0'\n",
       "2. 't'\n",
       "3. 'R'\n",
       "4. 'data'\n",
       "5. 'seed'\n",
       "6. 'statistic'\n",
       "7. 'sim'\n",
       "8. 'call'\n",
       "9. 'stype'\n",
       "10. 'strata'\n",
       "11. 'weights'\n",
       "\n",
       "\n"
      ],
      "text/plain": [
       " [1] \"t0\"        \"t\"         \"R\"         \"data\"      \"seed\"      \"statistic\"\n",
       " [7] \"sim\"       \"call\"      \"stype\"     \"strata\"    \"weights\"  "
      ]
     },
     "metadata": {},
     "output_type": "display_data"
    }
   ],
   "source": [
    "names(repl.np)"
   ]
  },
  {
   "cell_type": "markdown",
   "metadata": {},
   "source": [
    "dont les plus utiles sont :\n",
    "- repl.np\\$t0 : la valeur $t=T(x_1,\\dots,x_n)$ de l'estimateur sur les données observées\n",
    "- repl.np\\$t : le vecteur des répliques bootstrap de l'estimateur"
   ]
  },
  {
   "cell_type": "code",
   "execution_count": 4,
   "metadata": {},
   "outputs": [
    {
     "data": {
      "text/html": [
       "<table>\n",
       "<tbody>\n",
       "\t<tr><td>-0.45368470</td></tr>\n",
       "\t<tr><td>-0.07638852</td></tr>\n",
       "\t<tr><td> 0.01895007</td></tr>\n",
       "\t<tr><td>-0.50096064</td></tr>\n",
       "\t<tr><td>-0.28825825</td></tr>\n",
       "\t<tr><td> 0.09492866</td></tr>\n",
       "\t<tr><td> 0.16904587</td></tr>\n",
       "\t<tr><td>-0.13470408</td></tr>\n",
       "\t<tr><td> 0.32669565</td></tr>\n",
       "\t<tr><td>-0.29501499</td></tr>\n",
       "</tbody>\n",
       "</table>\n"
      ],
      "text/latex": [
       "\\begin{tabular}{l}\n",
       "\t -0.45368470\\\\\n",
       "\t -0.07638852\\\\\n",
       "\t  0.01895007\\\\\n",
       "\t -0.50096064\\\\\n",
       "\t -0.28825825\\\\\n",
       "\t  0.09492866\\\\\n",
       "\t  0.16904587\\\\\n",
       "\t -0.13470408\\\\\n",
       "\t  0.32669565\\\\\n",
       "\t -0.29501499\\\\\n",
       "\\end{tabular}\n"
      ],
      "text/markdown": [
       "\n",
       "| -0.45368470 |\n",
       "| -0.07638852 |\n",
       "|  0.01895007 |\n",
       "| -0.50096064 |\n",
       "| -0.28825825 |\n",
       "|  0.09492866 |\n",
       "|  0.16904587 |\n",
       "| -0.13470408 |\n",
       "|  0.32669565 |\n",
       "| -0.29501499 |\n",
       "\n"
      ],
      "text/plain": [
       "      [,1]       \n",
       " [1,] -0.45368470\n",
       " [2,] -0.07638852\n",
       " [3,]  0.01895007\n",
       " [4,] -0.50096064\n",
       " [5,] -0.28825825\n",
       " [6,]  0.09492866\n",
       " [7,]  0.16904587\n",
       " [8,] -0.13470408\n",
       " [9,]  0.32669565\n",
       "[10,] -0.29501499"
      ]
     },
     "metadata": {},
     "output_type": "display_data"
    }
   ],
   "source": [
    "repl.np$t"
   ]
  },
  {
   "cell_type": "code",
   "execution_count": 5,
   "metadata": {},
   "outputs": [
    {
     "data": {
      "text/html": [
       "-0.0941911960490378"
      ],
      "text/latex": [
       "-0.0941911960490378"
      ],
      "text/markdown": [
       "-0.0941911960490378"
      ],
      "text/plain": [
       "[1] -0.0941912"
      ]
     },
     "metadata": {},
     "output_type": "display_data"
    }
   ],
   "source": [
    "repl.np$t0"
   ]
  },
  {
   "cell_type": "markdown",
   "metadata": {},
   "source": [
    "Pour utiliser l'approche bootstrap paramétrique, c'est légèrement plus compliqué :\n",
    "- il faut préciser  **sim='parametric'**,\n",
    "- **statistic**  est une fonction qui prend en argument un vecteur de données et renvoie la valeur de l'estimateur sur ces données,\n",
    "-  **ran.gen** est la  fonction qui génère un échantillon bootstrap paramétrique. Elle prend en argument les données et une liste de paramètres.\n",
    "-  **mle** prend les valeurs observées des paramètres (que **boot** passera à la fonction **ran.gen**).\n",
    "\n",
    "Dans le cas de la moyenne empirique comme estimateur et des échantillons  bootstrap tirés selon une loi normale, ça donne ça:"
   ]
  },
  {
   "cell_type": "code",
   "execution_count": 6,
   "metadata": {},
   "outputs": [
    {
     "data": {
      "text/plain": [
       "\n",
       "PARAMETRIC BOOTSTRAP\n",
       "\n",
       "\n",
       "Call:\n",
       "boot(data = obs, statistic = mean, R = B, sim = \"parametric\", \n",
       "    ran.gen = ran.gen.norm, mle = list(mu = mean(obs), sig = sd(obs)))\n",
       "\n",
       "\n",
       "Bootstrap Statistics :\n",
       "      original      bias    std. error\n",
       "t1* -0.0941912 -0.02613339   0.2597448"
      ]
     },
     "metadata": {},
     "output_type": "display_data"
    }
   ],
   "source": [
    "ran.gen.norm <- function(data, param){\n",
    "  rnorm(length(data), param$mu, param$sig)\n",
    "}\n",
    "repl.param <- boot(obs, mean, B, sim='parametric', ran.gen=ran.gen.norm, \n",
    "                   mle=list(mu=mean(obs), sig=sd(obs)))\n",
    "repl.param"
   ]
  },
  {
   "cell_type": "markdown",
   "metadata": {},
   "source": [
    "## Question 1\n",
    "Considérons, une fois de plus, un échantillon $(X_1,\\dots,X_n)$ de loi exponentielle $\\mathcal E(\\theta)$. La quantité à estimer est $1/\\mathbb E[X_1]$, que l'on estime naturellement par $T=1/\\bar X_n$.\n",
    "- Quelle est l'instruction pour créer 1000 répliques bootstrap non paramétrique de l'estimateur $T$ en utilisant la fonction **boot** ?\n",
    "- A l'image de **ren.gen.norm**, écrire une fonction **ren.gen.exp** pour la génération d'échantillons bootstrap de loi exponentielle.\n",
    "- Utiliser **boot** pour créer des répliques bootstrap paramétrique de $T$."
   ]
  },
  {
   "cell_type": "markdown",
   "metadata": {},
   "source": [
    "Répliques bootstrap non paramétrique"
   ]
  },
  {
   "cell_type": "code",
   "execution_count": 7,
   "metadata": {},
   "outputs": [
    {
     "data": {
      "text/plain": [
       "\n",
       "ORDINARY NONPARAMETRIC BOOTSTRAP\n",
       "\n",
       "\n",
       "Call:\n",
       "boot(data = dataexp, statistic = function(obs, indice) 1/mean(obs[indice]), \n",
       "    R = 1000)\n",
       "\n",
       "\n",
       "Bootstrap Statistics :\n",
       "    original    bias    std. error\n",
       "t1* 5.164521 0.1465655    1.032285"
      ]
     },
     "metadata": {},
     "output_type": "display_data"
    }
   ],
   "source": [
    "dataexp <- rexp(20, 3)\n",
    "T.exp.np <- boot(dataexp, function(obs, indice)1/mean(obs[indice]), R=1000)\n",
    "T.exp.np"
   ]
  },
  {
   "cell_type": "code",
   "execution_count": 8,
   "metadata": {},
   "outputs": [],
   "source": [
    "## génération d'un échnatillon bootstrap de loi exponentielle\n",
    "ran.gen.exp <- function(data, param){\n",
    "  rexp(length(data), param)\n",
    "}\n"
   ]
  },
  {
   "cell_type": "markdown",
   "metadata": {},
   "source": [
    "Répliques bootstrap paramétrique"
   ]
  },
  {
   "cell_type": "code",
   "execution_count": 9,
   "metadata": {},
   "outputs": [
    {
     "data": {
      "text/plain": [
       "\n",
       "PARAMETRIC BOOTSTRAP\n",
       "\n",
       "\n",
       "Call:\n",
       "boot(data = dataexp, statistic = function(x) 1/mean(x), R = 1000, \n",
       "    sim = \"parametric\", ran.gen = ran.gen.exp, mle = 1/mean(dataexp))\n",
       "\n",
       "\n",
       "Bootstrap Statistics :\n",
       "    original    bias    std. error\n",
       "t1* 5.164521 0.2709473    1.286023"
      ]
     },
     "metadata": {},
     "output_type": "display_data"
    }
   ],
   "source": [
    "\n",
    "T.exp.param <- boot(dataexp, function(x)1/mean(x), 1000, sim='parametric',\n",
    "                    ran.gen=ran.gen.exp, mle=1/mean(dataexp))\n",
    "T.exp.param\n"
   ]
  },
  {
   "cell_type": "markdown",
   "metadata": {},
   "source": [
    "### Intervalles de confiance\n",
    "\n",
    "Pour le calcul de divers intervalles bootstrap, on utilise la fonction **boot.ci** :"
   ]
  },
  {
   "cell_type": "raw",
   "metadata": {},
   "source": [
    "boot.ci(boot.out, conf = 0.95, type = \"all\", \n",
    "        index = 1:min(2,length(boot.out$t0)), var.t0 = NULL, \n",
    "        var.t = NULL, t0 = NULL, t = NULL, L = NULL,\n",
    "        h = function(t) t, hdot = function(t) rep(1,length(t)),\n",
    "        hinv = function(t) t, ...)"
   ]
  },
  {
   "cell_type": "markdown",
   "metadata": {},
   "source": [
    "Le premier argument est un objet obtenu par un appel à **boot** (essentiellement, ce sont des répliques bootstrap de l'estimateur). \n",
    "\n",
    "Avec **type** on précise le(s) intervalles bootstrap souhaité(s) : au choix **c(\"norm\",\"basic\", \"stud\", \"perc\", \"bca\")** ou simplement **type = \"all\"** (par défaut) pour tous les intervalles.\n",
    "\n",
    "\n",
    "Voici l'appel le plus simple de **boot.ci** (qui produit un *warning* car l'intervalle studentisé nécessite plus d'information) pour calculer des intervalles de confiance bootstrap non paramétrique de la moyenne de la loi normale basés sur la moyenne empirique :"
   ]
  },
  {
   "cell_type": "code",
   "execution_count": 10,
   "metadata": {},
   "outputs": [
    {
     "name": "stderr",
     "output_type": "stream",
     "text": [
      "Warning message in boot.ci(repl.np):\n",
      "\"bootstrap variances needed for studentized intervals\""
     ]
    },
    {
     "data": {
      "text/plain": [
       "BOOTSTRAP CONFIDENCE INTERVAL CALCULATIONS\n",
       "Based on 1000 bootstrap replicates\n",
       "\n",
       "CALL : \n",
       "boot.ci(boot.out = repl.np)\n",
       "\n",
       "Intervals : \n",
       "Level      Normal              Basic         \n",
       "95%   (-0.5303,  0.3224 )   (-0.5397,  0.3269 )  \n",
       "\n",
       "Level     Percentile            BCa          \n",
       "95%   (-0.5153,  0.3514 )   (-0.5153,  0.3517 )  \n",
       "Calculations and Intervals on Original Scale"
      ]
     },
     "metadata": {},
     "output_type": "display_data"
    }
   ],
   "source": [
    "B <- 1000\n",
    "repl.np <- boot(obs, boot.mean, B)\n",
    "icb.np <- boot.ci(repl.np)\n",
    "icb.np"
   ]
  },
  {
   "cell_type": "markdown",
   "metadata": {
    "collapsed": true
   },
   "source": [
    "Au fait, l'instruction **boot.ci(repl.np)** calcule les quatre intervalles bootstrap suivants : l'intervalle par approximation normale $\\mathcal I^*_{\\text{norm}}$, l'intervalle de base $\\mathcal I^*_{\\text{basic}}$, l'intervalle par la méthode de percentile de base $\\mathcal I^*_{\\text{perc}}$ et l'intervalle par la méthode des percentiles ajustée $\\mathcal I^*_{\\mathrm{BC_a}}$. Plus précisément, **boot.ci** renvoie une liste avec les éléments suivants :"
   ]
  },
  {
   "cell_type": "code",
   "execution_count": 11,
   "metadata": {},
   "outputs": [
    {
     "data": {
      "text/html": [
       "<ol class=list-inline>\n",
       "\t<li>'R'</li>\n",
       "\t<li>'t0'</li>\n",
       "\t<li>'call'</li>\n",
       "\t<li>'normal'</li>\n",
       "\t<li>'basic'</li>\n",
       "\t<li>'percent'</li>\n",
       "\t<li>'bca'</li>\n",
       "</ol>\n"
      ],
      "text/latex": [
       "\\begin{enumerate*}\n",
       "\\item 'R'\n",
       "\\item 't0'\n",
       "\\item 'call'\n",
       "\\item 'normal'\n",
       "\\item 'basic'\n",
       "\\item 'percent'\n",
       "\\item 'bca'\n",
       "\\end{enumerate*}\n"
      ],
      "text/markdown": [
       "1. 'R'\n",
       "2. 't0'\n",
       "3. 'call'\n",
       "4. 'normal'\n",
       "5. 'basic'\n",
       "6. 'percent'\n",
       "7. 'bca'\n",
       "\n",
       "\n"
      ],
      "text/plain": [
       "[1] \"R\"       \"t0\"      \"call\"    \"normal\"  \"basic\"   \"percent\" \"bca\"    "
      ]
     },
     "metadata": {},
     "output_type": "display_data"
    }
   ],
   "source": [
    "names(icb.np)"
   ]
  },
  {
   "cell_type": "markdown",
   "metadata": {},
   "source": [
    "Voici le niveau de confiance nominal $1-\\alpha$ ainsi que les limites de l'intervalle $\\mathcal I^*_{\\text{norm}}$ :"
   ]
  },
  {
   "cell_type": "code",
   "execution_count": 12,
   "metadata": {},
   "outputs": [
    {
     "data": {
      "text/html": [
       "<table>\n",
       "<thead><tr><th scope=col>conf</th><th scope=col></th><th scope=col></th></tr></thead>\n",
       "<tbody>\n",
       "\t<tr><td>0.95      </td><td>-0.5303433</td><td>0.3223692 </td></tr>\n",
       "</tbody>\n",
       "</table>\n"
      ],
      "text/latex": [
       "\\begin{tabular}{lll}\n",
       " conf &  & \\\\\n",
       "\\hline\n",
       "\t 0.95       & -0.5303433 & 0.3223692 \\\\\n",
       "\\end{tabular}\n"
      ],
      "text/markdown": [
       "\n",
       "| conf |  |  |\n",
       "|---|---|---|\n",
       "| 0.95       | -0.5303433 | 0.3223692  |\n",
       "\n"
      ],
      "text/plain": [
       "     conf                     \n",
       "[1,] 0.95 -0.5303433 0.3223692"
      ]
     },
     "metadata": {},
     "output_type": "display_data"
    }
   ],
   "source": [
    "icb.np$normal"
   ]
  },
  {
   "cell_type": "markdown",
   "metadata": {},
   "source": [
    "Pour l'intervalle $\\mathcal I^*_{\\text{basic}}$ on a les informations suivantes : d'abord le niveau de confiance nominal, ensuite l'ordre utilisé des statistiques d'ordres dans les limites de l'intervalle, et enfin les limites de l'intervalle bootstrap :"
   ]
  },
  {
   "cell_type": "code",
   "execution_count": 13,
   "metadata": {},
   "outputs": [
    {
     "data": {
      "text/html": [
       "<table>\n",
       "<thead><tr><th scope=col>conf</th><th scope=col></th><th scope=col></th><th scope=col></th><th scope=col></th></tr></thead>\n",
       "<tbody>\n",
       "\t<tr><td>0.95      </td><td>975.98    </td><td>25.03     </td><td>-0.5397467</td><td>0.3269308 </td></tr>\n",
       "</tbody>\n",
       "</table>\n"
      ],
      "text/latex": [
       "\\begin{tabular}{lllll}\n",
       " conf &  &  &  & \\\\\n",
       "\\hline\n",
       "\t 0.95       & 975.98     & 25.03      & -0.5397467 & 0.3269308 \\\\\n",
       "\\end{tabular}\n"
      ],
      "text/markdown": [
       "\n",
       "| conf |  |  |  |  |\n",
       "|---|---|---|---|---|\n",
       "| 0.95       | 975.98     | 25.03      | -0.5397467 | 0.3269308  |\n",
       "\n"
      ],
      "text/plain": [
       "     conf                                  \n",
       "[1,] 0.95 975.98 25.03 -0.5397467 0.3269308"
      ]
     },
     "metadata": {},
     "output_type": "display_data"
    }
   ],
   "source": [
    "icb.np$basic"
   ]
  },
  {
   "cell_type": "markdown",
   "metadata": {},
   "source": [
    "Les mêmes informations pour l'intervalle $\\mathcal I^*_{\\text{perc}}$ :"
   ]
  },
  {
   "cell_type": "code",
   "execution_count": 14,
   "metadata": {},
   "outputs": [
    {
     "data": {
      "text/html": [
       "<table>\n",
       "<thead><tr><th scope=col>conf</th><th scope=col></th><th scope=col></th><th scope=col></th><th scope=col></th></tr></thead>\n",
       "<tbody>\n",
       "\t<tr><td>0.95      </td><td>25.03     </td><td>975.98    </td><td>-0.5153132</td><td>0.3513643 </td></tr>\n",
       "</tbody>\n",
       "</table>\n"
      ],
      "text/latex": [
       "\\begin{tabular}{lllll}\n",
       " conf &  &  &  & \\\\\n",
       "\\hline\n",
       "\t 0.95       & 25.03      & 975.98     & -0.5153132 & 0.3513643 \\\\\n",
       "\\end{tabular}\n"
      ],
      "text/markdown": [
       "\n",
       "| conf |  |  |  |  |\n",
       "|---|---|---|---|---|\n",
       "| 0.95       | 25.03      | 975.98     | -0.5153132 | 0.3513643  |\n",
       "\n"
      ],
      "text/plain": [
       "     conf                                  \n",
       "[1,] 0.95 25.03 975.98 -0.5153132 0.3513643"
      ]
     },
     "metadata": {},
     "output_type": "display_data"
    }
   ],
   "source": [
    "icb.np$percent"
   ]
  },
  {
   "cell_type": "markdown",
   "metadata": {},
   "source": [
    "et pour l'intervalle $\\mathcal I^*_{\\mathrm{BC_a}}$ :"
   ]
  },
  {
   "cell_type": "code",
   "execution_count": 15,
   "metadata": {},
   "outputs": [
    {
     "data": {
      "text/html": [
       "<table>\n",
       "<thead><tr><th scope=col>conf</th><th scope=col></th><th scope=col></th><th scope=col></th><th scope=col></th></tr></thead>\n",
       "<tbody>\n",
       "\t<tr><td>0.95      </td><td>25.14     </td><td>976.09    </td><td>-0.5152596</td><td>0.3516507 </td></tr>\n",
       "</tbody>\n",
       "</table>\n"
      ],
      "text/latex": [
       "\\begin{tabular}{lllll}\n",
       " conf &  &  &  & \\\\\n",
       "\\hline\n",
       "\t 0.95       & 25.14      & 976.09     & -0.5152596 & 0.3516507 \\\\\n",
       "\\end{tabular}\n"
      ],
      "text/markdown": [
       "\n",
       "| conf |  |  |  |  |\n",
       "|---|---|---|---|---|\n",
       "| 0.95       | 25.14      | 976.09     | -0.5152596 | 0.3516507  |\n",
       "\n"
      ],
      "text/plain": [
       "     conf                                  \n",
       "[1,] 0.95 25.14 976.09 -0.5152596 0.3516507"
      ]
     },
     "metadata": {},
     "output_type": "display_data"
    }
   ],
   "source": [
    "icb.np$bca"
   ]
  },
  {
   "cell_type": "markdown",
   "metadata": {},
   "source": [
    "Pour le calcul de l'intervalle bootstrap studentisé $\\mathcal I^*_{\\text{stud}}$ il faut fournir des estimations de la variance de $T$ pour les différents échantillons bootstrap. Une façon de faire consiste à modifier la fonction **boot.mean** pour qu'elle renvoie également l'estimateur de la variance :"
   ]
  },
  {
   "cell_type": "code",
   "execution_count": 16,
   "metadata": {},
   "outputs": [
    {
     "data": {
      "text/plain": [
       "\n",
       "ORDINARY NONPARAMETRIC BOOTSTRAP\n",
       "\n",
       "\n",
       "Call:\n",
       "boot(data = obs, statistic = boot.mean.var, R = 1000)\n",
       "\n",
       "\n",
       "Bootstrap Statistics :\n",
       "      original       bias    std. error\n",
       "t1* 10.2088230 -0.007290181   0.3367985\n",
       "t2*  0.1074398  0.003367702   0.0403568"
      ]
     },
     "metadata": {},
     "output_type": "display_data"
    }
   ],
   "source": [
    "obs <- rnorm(20, 10, 2)       \n",
    "boot.mean.var <- function(obs, indice){\n",
    "    obs.boot <- obs[indice] \n",
    "    moy.boot <- mean(obs.boot) \n",
    "    var.boot <- var(replicate(50, mean(sample(obs.boot, replace=T))))\n",
    "    return(c(moy.boot, var.boot))\n",
    "}\n",
    "repl.np.var <- boot(obs, boot.mean.var, R=1000)\n",
    "repl.np.var"
   ]
  },
  {
   "cell_type": "markdown",
   "metadata": {},
   "source": [
    "Maintenat on obtient l'intervalle bootstrap studentisé par l'instruction suivante :"
   ]
  },
  {
   "cell_type": "code",
   "execution_count": 17,
   "metadata": {},
   "outputs": [
    {
     "data": {
      "text/html": [
       "<table>\n",
       "<thead><tr><th scope=col>conf</th><th scope=col></th><th scope=col></th><th scope=col></th><th scope=col></th></tr></thead>\n",
       "<tbody>\n",
       "\t<tr><td>0.95    </td><td>975.98  </td><td>25.03   </td><td>9.429312</td><td>10.83476</td></tr>\n",
       "</tbody>\n",
       "</table>\n"
      ],
      "text/latex": [
       "\\begin{tabular}{lllll}\n",
       " conf &  &  &  & \\\\\n",
       "\\hline\n",
       "\t 0.95     & 975.98   & 25.03    & 9.429312 & 10.83476\\\\\n",
       "\\end{tabular}\n"
      ],
      "text/markdown": [
       "\n",
       "| conf |  |  |  |  |\n",
       "|---|---|---|---|---|\n",
       "| 0.95     | 975.98   | 25.03    | 9.429312 | 10.83476 |\n",
       "\n"
      ],
      "text/plain": [
       "     conf                               \n",
       "[1,] 0.95 975.98 25.03 9.429312 10.83476"
      ]
     },
     "metadata": {},
     "output_type": "display_data"
    }
   ],
   "source": [
    "boot.ci(repl.np.var)$stud"
   ]
  },
  {
   "cell_type": "markdown",
   "metadata": {},
   "source": [
    "## Question 2\n",
    "- Pour un jeu de données simulé de loi exponentielle $\\mathcal E(\\theta)$ calculer  les intervalles de confiance bootstrap $\\mathcal I^*_{\\text{norm}}$,  $\\mathcal I^*_{\\text{basic}}$,  $\\mathcal I^*_{\\text{perc}}$ et $\\mathcal I^*_{\\mathrm{BC_a}}$ pour $1/\\mathbb E[X_1]$ en utilisant des répliques de $T=1/\\bar X_n$ par le bootstrap **non paramétrique**.\n",
    "- Mettre en oeuvre le calcul de l'intervalle studentisés par le bootstrap **non paramétrique**.\n",
    "- Quant au  bootstrap **paramétrique** calculer les intervalles de confiance bootstrap $\\mathcal I^*_{\\text{norm}}$,  $\\mathcal I^*_{\\text{basic}}$ et  $\\mathcal I^*_{\\text{perc}}$.\n",
    "-  Observer que **boot.ci** ne fournit pas  l'intervalle  $\\mathcal I^*_{\\mathrm{BC_a}}$. Au fait, **boot.ci** ne sait le calculer que dans le cas non paramétrique. Dans le cas paramétrique, la définition de l'intervalle est différente, mais elle n'est pas implementée dans **boot.ci**. Nous allons nous contenter des autres intervalles.\n",
    "- Mettre en oeuvre le calcul de l'intervalle studentisé par le bootstrap **paramétrique**."
   ]
  },
  {
   "cell_type": "code",
   "execution_count": 18,
   "metadata": {},
   "outputs": [
    {
     "data": {
      "text/plain": [
       "\n",
       "ORDINARY NONPARAMETRIC BOOTSTRAP\n",
       "\n",
       "\n",
       "Call:\n",
       "boot(data = dataexp, statistic = function(obs, indice) 1/mean(obs[indice]), \n",
       "    R = 1000)\n",
       "\n",
       "\n",
       "Bootstrap Statistics :\n",
       "    original    bias    std. error\n",
       "t1* 3.386679 0.1196082   0.6420754"
      ]
     },
     "metadata": {},
     "output_type": "display_data"
    },
    {
     "data": {
      "text/plain": [
       "BOOTSTRAP CONFIDENCE INTERVAL CALCULATIONS\n",
       "Based on 1000 bootstrap replicates\n",
       "\n",
       "CALL : \n",
       "boot.ci(boot.out = T.exp.np, type = c(\"norm\", \"basic\", \"perc\", \n",
       "    \"bca\"))\n",
       "\n",
       "Intervals : \n",
       "Level      Normal              Basic         \n",
       "95%   ( 2.009,  4.526 )   ( 1.817,  4.282 )  \n",
       "\n",
       "Level     Percentile            BCa          \n",
       "95%   ( 2.492,  4.956 )   ( 2.356,  4.710 )  \n",
       "Calculations and Intervals on Original Scale"
      ]
     },
     "metadata": {},
     "output_type": "display_data"
    }
   ],
   "source": [
    "## données exponentielles\n",
    "dataexp <- rexp(20,3)\n",
    "## répliques bootstrap non paramétrique\n",
    "T.exp.np <- boot(dataexp, function(obs, indice)1/mean(obs[indice]), R=1000)\n",
    "T.exp.np\n",
    "## IC bootstrap non paramétrique    \n",
    "confint.np <- boot.ci(T.exp.np, type=c(\"norm\", \"basic\", \"perc\", \"bca\"))\n",
    "confint.np"
   ]
  },
  {
   "cell_type": "code",
   "execution_count": 19,
   "metadata": {},
   "outputs": [
    {
     "data": {
      "text/plain": [
       "BOOTSTRAP CONFIDENCE INTERVAL CALCULATIONS\n",
       "Based on 1000 bootstrap replicates\n",
       "\n",
       "CALL : \n",
       "boot.ci(boot.out = T.exp.var)\n",
       "\n",
       "Intervals : \n",
       "Level      Normal              Basic             Studentized     \n",
       "95%   ( 1.978,  4.545 )   ( 1.676,  4.280 )   ( 1.879,  4.846 )  \n",
       "\n",
       "Level     Percentile            BCa          \n",
       "95%   ( 2.493,  5.098 )   ( 2.442,  4.865 )  \n",
       "Calculations and Intervals on Original Scale"
      ]
     },
     "metadata": {},
     "output_type": "display_data"
    }
   ],
   "source": [
    "## IC studentisé, bootstrap non paramétrique\n",
    "boot.estim.var.np <- function(obs, indice){\n",
    "    obs.boot <- obs[indice]\n",
    "    estim.boot <- 1/mean(obs.boot) \n",
    "    var.boot <- var(replicate(50, 1/mean(sample(obs.boot, replace=T))))\n",
    "    return(c(estim.boot, var.boot))\n",
    "}\n",
    "\n",
    "# répliques bootstrap avec estimation de la variance\n",
    "T.exp.var <- boot(dataexp, boot.estim.var.np, R=1000)\n",
    "# ICB studentisé\n",
    "confint.np <- boot.ci(T.exp.var)\n",
    "confint.np"
   ]
  },
  {
   "cell_type": "code",
   "execution_count": 20,
   "metadata": {},
   "outputs": [
    {
     "data": {
      "text/plain": [
       "BOOTSTRAP CONFIDENCE INTERVAL CALCULATIONS\n",
       "Based on 1000 bootstrap replicates\n",
       "\n",
       "CALL : \n",
       "boot.ci(boot.out = T.exp.param, type = c(\"norm\", \"basic\", \"perc\"))\n",
       "\n",
       "Intervals : \n",
       "Level      Normal              Basic              Percentile     \n",
       "95%   ( 1.536,  4.886 )   ( 1.104,  4.499 )   ( 2.274,  5.669 )  \n",
       "Calculations and Intervals on Original Scale"
      ]
     },
     "metadata": {},
     "output_type": "display_data"
    }
   ],
   "source": [
    "## ICB paramétriques\n",
    "boot.estim.param <- function(obs){\n",
    "    n <- length(obs)\n",
    "    estim.boot <- 1/mean(obs) \n",
    "    var.boot <- var(replicate(50, 1/mean(rexp(n, estim.boot))))\n",
    "    return(c(estim.boot, var.boot))\n",
    "}\n",
    "\n",
    "T.exp.param <- boot(dataexp, boot.estim.param, R=1000, sim='parametric',\n",
    "                    ran.gen=ran.gen.exp, mle=1/mean(dataexp))\n",
    "boot.ci(T.exp.param, type=c('norm', 'basic', 'perc'))"
   ]
  },
  {
   "cell_type": "code",
   "execution_count": 21,
   "metadata": {},
   "outputs": [
    {
     "ename": "ERROR",
     "evalue": "Error in empinf(boot.out, index = index, t = t.o, ...): influence values cannot be found from a parametric bootstrap\n",
     "output_type": "error",
     "traceback": [
      "Error in empinf(boot.out, index = index, t = t.o, ...): influence values cannot be found from a parametric bootstrap\nTraceback:\n",
      "1. boot.ci(T.exp.param, type = c(\"bca\"))",
      "2. bca.ci(boot.out, conf, index[1L], L = L, t = t.o, t0 = t0.o, \n .     h = h, hdot = hdot, hinv = hinv, ...)",
      "3. empinf(boot.out, index = index, t = t.o, ...)",
      "4. stop(\"influence values cannot be found from a parametric bootstrap\")"
     ]
    }
   ],
   "source": [
    "## ICB paramétrique type BCa \n",
    "boot.ci(T.exp.param, type=c('bca'))"
   ]
  },
  {
   "cell_type": "code",
   "execution_count": 22,
   "metadata": {},
   "outputs": [
    {
     "data": {
      "text/plain": [
       "\n",
       "PARAMETRIC BOOTSTRAP\n",
       "\n",
       "\n",
       "Call:\n",
       "boot(data = dataexp, statistic = boot.estim.var.param, R = 1000, \n",
       "    sim = \"parametric\", ran.gen = ran.gen.exp, mle = 1/mean(dataexp))\n",
       "\n",
       "\n",
       "Bootstrap Statistics :\n",
       "     original     bias    std. error\n",
       "t1* 3.3866788 0.20981615   0.8682283\n",
       "t2* 0.7470741 0.09947525   0.5299179"
      ]
     },
     "metadata": {},
     "output_type": "display_data"
    },
    {
     "data": {
      "text/plain": [
       "BOOTSTRAP CONFIDENCE INTERVAL CALCULATIONS\n",
       "Based on 1000 bootstrap replicates\n",
       "\n",
       "CALL : \n",
       "boot.ci(boot.out = T.exp, type = c(\"norm\", \"basic\", \"stud\", \"perc\"))\n",
       "\n",
       "Intervals : \n",
       "Level      Normal              Basic         \n",
       "95%   ( 1.475,  4.879 )   ( 1.144,  4.517 )  \n",
       "\n",
       "Level    Studentized          Percentile     \n",
       "95%   ( 1.940,  5.124 )   ( 2.256,  5.629 )  \n",
       "Calculations and Intervals on Original Scale"
      ]
     },
     "metadata": {},
     "output_type": "display_data"
    }
   ],
   "source": [
    "## IC studentisé, bootstrap paramétrique\n",
    "boot.estim.var.param <- function(obs){\n",
    "    n <- length(obs)\n",
    "    estim.boot <- 1/mean(obs) \n",
    "    var.boot <- var(replicate(50, 1/mean(rexp(n, estim.boot))))\n",
    "    return(c(estim.boot, var.boot))\n",
    "}\n",
    "\n",
    "T.exp <- boot(dataexp, boot.estim.var.param, R=1000, sim='parametric',\n",
    "              ran.gen=ran.gen.exp, mle=1/mean(dataexp))\n",
    "T.exp\n",
    "confint.param <- boot.ci(T.exp, type=c('norm', 'basic', 'stud', 'perc'))\n",
    "confint.param"
   ]
  },
  {
   "cell_type": "code",
   "execution_count": 23,
   "metadata": {},
   "outputs": [
    {
     "data": {
      "text/html": [
       "<ol>\n",
       "\t<li><dl>\n",
       "\t<dt>$normal</dt>\n",
       "\t\t<dd><table>\n",
       "<thead><tr><th scope=col>conf</th><th scope=col></th><th scope=col></th></tr></thead>\n",
       "<tbody>\n",
       "\t<tr><td>0.95    </td><td>1.475166</td><td>4.878559</td></tr>\n",
       "</tbody>\n",
       "</table>\n",
       "</dd>\n",
       "\t<dt>$basic</dt>\n",
       "\t\t<dd><table>\n",
       "<thead><tr><th scope=col>conf</th><th scope=col></th><th scope=col></th><th scope=col></th><th scope=col></th></tr></thead>\n",
       "<tbody>\n",
       "\t<tr><td>0.95    </td><td>975.98  </td><td>25.03   </td><td>1.144287</td><td>4.517493</td></tr>\n",
       "</tbody>\n",
       "</table>\n",
       "</dd>\n",
       "\t<dt>$student</dt>\n",
       "\t\t<dd><table>\n",
       "<thead><tr><th scope=col>conf</th><th scope=col></th><th scope=col></th><th scope=col></th><th scope=col></th></tr></thead>\n",
       "<tbody>\n",
       "\t<tr><td>0.95    </td><td>975.98  </td><td>25.03   </td><td>1.939817</td><td>5.123881</td></tr>\n",
       "</tbody>\n",
       "</table>\n",
       "</dd>\n",
       "\t<dt>$percent</dt>\n",
       "\t\t<dd><table>\n",
       "<thead><tr><th scope=col>conf</th><th scope=col></th><th scope=col></th><th scope=col></th><th scope=col></th></tr></thead>\n",
       "<tbody>\n",
       "\t<tr><td>0.95    </td><td>25.03   </td><td>975.98  </td><td>2.255865</td><td>5.629071</td></tr>\n",
       "</tbody>\n",
       "</table>\n",
       "</dd>\n",
       "</dl>\n",
       "</li>\n",
       "\t<li><dl>\n",
       "\t<dt>$normal</dt>\n",
       "\t\t<dd><table>\n",
       "<thead><tr><th scope=col>conf</th><th scope=col></th><th scope=col></th></tr></thead>\n",
       "<tbody>\n",
       "\t<tr><td>0.95    </td><td>1.977521</td><td>4.544514</td></tr>\n",
       "</tbody>\n",
       "</table>\n",
       "</dd>\n",
       "\t<dt>$basic</dt>\n",
       "\t\t<dd><table>\n",
       "<thead><tr><th scope=col>conf</th><th scope=col></th><th scope=col></th><th scope=col></th><th scope=col></th></tr></thead>\n",
       "<tbody>\n",
       "\t<tr><td>0.95   </td><td>975.98 </td><td>25.03  </td><td>1.67553</td><td>4.28042</td></tr>\n",
       "</tbody>\n",
       "</table>\n",
       "</dd>\n",
       "\t<dt>$student</dt>\n",
       "\t\t<dd><table>\n",
       "<thead><tr><th scope=col>conf</th><th scope=col></th><th scope=col></th><th scope=col></th><th scope=col></th></tr></thead>\n",
       "<tbody>\n",
       "\t<tr><td>0.95    </td><td>975.98  </td><td>25.03   </td><td>1.878657</td><td>4.846373</td></tr>\n",
       "</tbody>\n",
       "</table>\n",
       "</dd>\n",
       "\t<dt>$percent</dt>\n",
       "\t\t<dd><table>\n",
       "<thead><tr><th scope=col>conf</th><th scope=col></th><th scope=col></th><th scope=col></th><th scope=col></th></tr></thead>\n",
       "<tbody>\n",
       "\t<tr><td>0.95    </td><td>25.03   </td><td>975.98  </td><td>2.492938</td><td>5.097827</td></tr>\n",
       "</tbody>\n",
       "</table>\n",
       "</dd>\n",
       "</dl>\n",
       "</li>\n",
       "</ol>\n"
      ],
      "text/latex": [
       "\\begin{enumerate}\n",
       "\\item \\begin{description}\n",
       "\\item[\\$normal] \\begin{tabular}{lll}\n",
       " conf &  & \\\\\n",
       "\\hline\n",
       "\t 0.95     & 1.475166 & 4.878559\\\\\n",
       "\\end{tabular}\n",
       "\n",
       "\\item[\\$basic] \\begin{tabular}{lllll}\n",
       " conf &  &  &  & \\\\\n",
       "\\hline\n",
       "\t 0.95     & 975.98   & 25.03    & 1.144287 & 4.517493\\\\\n",
       "\\end{tabular}\n",
       "\n",
       "\\item[\\$student] \\begin{tabular}{lllll}\n",
       " conf &  &  &  & \\\\\n",
       "\\hline\n",
       "\t 0.95     & 975.98   & 25.03    & 1.939817 & 5.123881\\\\\n",
       "\\end{tabular}\n",
       "\n",
       "\\item[\\$percent] \\begin{tabular}{lllll}\n",
       " conf &  &  &  & \\\\\n",
       "\\hline\n",
       "\t 0.95     & 25.03    & 975.98   & 2.255865 & 5.629071\\\\\n",
       "\\end{tabular}\n",
       "\n",
       "\\end{description}\n",
       "\n",
       "\\item \\begin{description}\n",
       "\\item[\\$normal] \\begin{tabular}{lll}\n",
       " conf &  & \\\\\n",
       "\\hline\n",
       "\t 0.95     & 1.977521 & 4.544514\\\\\n",
       "\\end{tabular}\n",
       "\n",
       "\\item[\\$basic] \\begin{tabular}{lllll}\n",
       " conf &  &  &  & \\\\\n",
       "\\hline\n",
       "\t 0.95    & 975.98  & 25.03   & 1.67553 & 4.28042\\\\\n",
       "\\end{tabular}\n",
       "\n",
       "\\item[\\$student] \\begin{tabular}{lllll}\n",
       " conf &  &  &  & \\\\\n",
       "\\hline\n",
       "\t 0.95     & 975.98   & 25.03    & 1.878657 & 4.846373\\\\\n",
       "\\end{tabular}\n",
       "\n",
       "\\item[\\$percent] \\begin{tabular}{lllll}\n",
       " conf &  &  &  & \\\\\n",
       "\\hline\n",
       "\t 0.95     & 25.03    & 975.98   & 2.492938 & 5.097827\\\\\n",
       "\\end{tabular}\n",
       "\n",
       "\\end{description}\n",
       "\n",
       "\\end{enumerate}\n"
      ],
      "text/markdown": [
       "1. $normal\n",
       ":   \n",
       "| conf |  |  |\n",
       "|---|---|---|\n",
       "| 0.95     | 1.475166 | 4.878559 |\n",
       "\n",
       "\n",
       "$basic\n",
       ":   \n",
       "| conf |  |  |  |  |\n",
       "|---|---|---|---|---|\n",
       "| 0.95     | 975.98   | 25.03    | 1.144287 | 4.517493 |\n",
       "\n",
       "\n",
       "$student\n",
       ":   \n",
       "| conf |  |  |  |  |\n",
       "|---|---|---|---|---|\n",
       "| 0.95     | 975.98   | 25.03    | 1.939817 | 5.123881 |\n",
       "\n",
       "\n",
       "$percent\n",
       ":   \n",
       "| conf |  |  |  |  |\n",
       "|---|---|---|---|---|\n",
       "| 0.95     | 25.03    | 975.98   | 2.255865 | 5.629071 |\n",
       "\n",
       "\n",
       "\n",
       "\n",
       "\n",
       "2. $normal\n",
       ":   \n",
       "| conf |  |  |\n",
       "|---|---|---|\n",
       "| 0.95     | 1.977521 | 4.544514 |\n",
       "\n",
       "\n",
       "$basic\n",
       ":   \n",
       "| conf |  |  |  |  |\n",
       "|---|---|---|---|---|\n",
       "| 0.95    | 975.98  | 25.03   | 1.67553 | 4.28042 |\n",
       "\n",
       "\n",
       "$student\n",
       ":   \n",
       "| conf |  |  |  |  |\n",
       "|---|---|---|---|---|\n",
       "| 0.95     | 975.98   | 25.03    | 1.878657 | 4.846373 |\n",
       "\n",
       "\n",
       "$percent\n",
       ":   \n",
       "| conf |  |  |  |  |\n",
       "|---|---|---|---|---|\n",
       "| 0.95     | 25.03    | 975.98   | 2.492938 | 5.097827 |\n",
       "\n",
       "\n",
       "\n",
       "\n",
       "\n",
       "\n",
       "\n"
      ],
      "text/plain": [
       "[[1]]\n",
       "[[1]]$normal\n",
       "     conf                  \n",
       "[1,] 0.95 1.475166 4.878559\n",
       "\n",
       "[[1]]$basic\n",
       "     conf                               \n",
       "[1,] 0.95 975.98 25.03 1.144287 4.517493\n",
       "\n",
       "[[1]]$student\n",
       "     conf                               \n",
       "[1,] 0.95 975.98 25.03 1.939817 5.123881\n",
       "\n",
       "[[1]]$percent\n",
       "     conf                               \n",
       "[1,] 0.95 25.03 975.98 2.255865 5.629071\n",
       "\n",
       "\n",
       "[[2]]\n",
       "[[2]]$normal\n",
       "     conf                  \n",
       "[1,] 0.95 1.977521 4.544514\n",
       "\n",
       "[[2]]$basic\n",
       "     conf                             \n",
       "[1,] 0.95 975.98 25.03 1.67553 4.28042\n",
       "\n",
       "[[2]]$student\n",
       "     conf                               \n",
       "[1,] 0.95 975.98 25.03 1.878657 4.846373\n",
       "\n",
       "[[2]]$percent\n",
       "     conf                               \n",
       "[1,] 0.95 25.03 975.98 2.492938 5.097827\n",
       "\n"
      ]
     },
     "metadata": {},
     "output_type": "display_data"
    }
   ],
   "source": [
    "all.confint <- list(confint.param[4:7], confint.np[4:7])\n",
    "all.confint"
   ]
  },
  {
   "cell_type": "markdown",
   "metadata": {},
   "source": [
    "## Question 3\n",
    "Ecrire un programme pour simuler un grand nombre de jeu de données de loi exponentielle et calculer tous les  intervalles de confiance  $\\mathcal I^*_{\\text{norm}}$,  $\\mathcal I^*_{\\text{basic}}$,  $\\mathcal I^*_{\\text{stud}}$ et $\\mathcal I^*_{\\text{perc}}$  pour $1/\\mathbb E[X]$  par les deux méthodes : bootstrap paramétrique et non paramétrique. Enfin estimer le niveau de confiance effectif de chaque intervalle. Commenter les résultats."
   ]
  },
  {
   "cell_type": "code",
   "execution_count": 24,
   "metadata": {},
   "outputs": [],
   "source": [
    "# theta = paramètre exponentiel\n",
    "# n = taille d'échantillon\n",
    "# M = nb de jeux de données simulés\n",
    "# R = nb d'échantillons bootstrap\n",
    "contains.theta <- function(vecIC, theta){\n",
    "    L <- length(vecIC)\n",
    "    is.theta.in <- (vecIC[L-1]<theta)&(vecIC[L]>theta)\n",
    "    return(is.theta.in)\n",
    "}\n",
    "\n",
    "simul_icb_exp <- function(theta, n, M=100, R=100){\n",
    "    prop <- matrix(0, 4, 2)\n",
    "    colnames(prop) <- c('p','np')\n",
    "    rownames(prop) <- c(\"norm\", \"basic\", \"stud\", \"perc\")\n",
    "    for (i in 1:M){\n",
    "        obs <- rexp(n, theta)\n",
    "        ## répliques bootstrap paramétriques avec estimations de variance\n",
    "        T.param <- boot(obs, boot.estim.var.param, R, sim='parametric',\n",
    "                        ran.gen=ran.gen.exp, mle=1/mean(obs))\n",
    "        ## répliques bootstrap non paramétriques avec estimations de variance        \n",
    "        T.np <- boot(obs, boot.estim.var.np, R)\n",
    "        ## ICB paramétrique\n",
    "        confint.param <- boot.ci(T.param, type=c('norm', 'basic', 'stud', 'perc'))\n",
    "        ## ICB non paramétrique\n",
    "        confint.np <- boot.ci(T.np,type=c(\"norm\", \"basic\", \"stud\", \"perc\"))\n",
    "        ## theta inclus dans ICB ...oui ou non \n",
    "        prop[,1] <- prop[,1] + sapply(confint.param[4:7], function(x) contains.theta(x, theta))\n",
    "        prop[,2] <- prop[,2] + sapply(confint.np[4:7], function(x) contains.theta(x, theta))\n",
    "    }\n",
    "    return(prop/M)\n",
    "}"
   ]
  },
  {
   "cell_type": "code",
   "execution_count": 25,
   "metadata": {},
   "outputs": [
    {
     "data": {
      "text/html": [
       "<table>\n",
       "<thead><tr><th></th><th scope=col>p</th><th scope=col>np</th></tr></thead>\n",
       "<tbody>\n",
       "\t<tr><th scope=row>norm</th><td>0.95</td><td>0.94</td></tr>\n",
       "\t<tr><th scope=row>basic</th><td>0.86</td><td>0.86</td></tr>\n",
       "\t<tr><th scope=row>stud</th><td>0.97</td><td>0.90</td></tr>\n",
       "\t<tr><th scope=row>perc</th><td>0.95</td><td>0.87</td></tr>\n",
       "</tbody>\n",
       "</table>\n"
      ],
      "text/latex": [
       "\\begin{tabular}{r|ll}\n",
       "  & p & np\\\\\n",
       "\\hline\n",
       "\tnorm & 0.95 & 0.94\\\\\n",
       "\tbasic & 0.86 & 0.86\\\\\n",
       "\tstud & 0.97 & 0.90\\\\\n",
       "\tperc & 0.95 & 0.87\\\\\n",
       "\\end{tabular}\n"
      ],
      "text/markdown": [
       "\n",
       "| <!--/--> | p | np |\n",
       "|---|---|---|\n",
       "| norm | 0.95 | 0.94 |\n",
       "| basic | 0.86 | 0.86 |\n",
       "| stud | 0.97 | 0.90 |\n",
       "| perc | 0.95 | 0.87 |\n",
       "\n"
      ],
      "text/plain": [
       "      p    np  \n",
       "norm  0.95 0.94\n",
       "basic 0.86 0.86\n",
       "stud  0.97 0.90\n",
       "perc  0.95 0.87"
      ]
     },
     "metadata": {},
     "output_type": "display_data"
    }
   ],
   "source": [
    "simul_icb_exp(2, 10)"
   ]
  },
  {
   "cell_type": "markdown",
   "metadata": {},
   "source": [
    "## Question 4\n",
    "\n",
    "On veut étudier ce qui se passe si les données ne suivent pas exactement une loi exponentielle. Maintenant les données  suivent la loi Gamma $\\Gamma(\\alpha,\\theta)$.\n",
    "La quantité inconnue est toujours $1/\\mathbb E[X]=\\theta/\\alpha$, estimée par $T=1/\\bar X_n$.\n",
    "\n",
    "Modifier votre programme pour générer des données de loi Gamma. Ensuite, appliquer exactement les mêmes calculs comme si les données avaient une loi exponentielle (notamment l'échantillons bootstrap paramétrique est toujours tiré selon une loi exponentielle). \n",
    "\n",
    "Rappelons que $\\mathcal E(\\theta)=\\Gamma(1,\\theta)$.  Comment évolue les différent niveaux de confiance effectif lorsque les  données suivent une loi $\\Gamma(\\alpha,\\theta)$ avec des valeurs de $\\alpha$ inférieures à  1 ?\n",
    "\n"
   ]
  },
  {
   "cell_type": "code",
   "execution_count": 26,
   "metadata": {},
   "outputs": [],
   "source": [
    "simul_icb_gamma <- function(gam, n, M=100, R=100){\n",
    "    prop <- matrix(0, 4, 2)\n",
    "    colnames(prop) <- c('p','np')\n",
    "    rownames(prop) <- c(\"norm\", \"basic\", \"stud\", \"perc\")\n",
    "    for (i in 1:M){\n",
    "        obs <- rgamma(n, gam$alpha, gam$theta)\n",
    "        ## répliques bootstrap paramétriques avec estimations de variance\n",
    "        T.param <- boot(obs, boot.estim.var.param, R, sim='parametric',\n",
    "                        ran.gen=ran.gen.exp, mle=1/mean(obs))\n",
    "        ## répliques bootstrap non paramétriques avec estimations de variance        \n",
    "        T.np <- boot(obs, boot.estim.var.np, R)\n",
    "        ## ICB paramétrique\n",
    "        confint.param <- boot.ci(T.param, type=c('norm', 'basic', 'stud', 'perc'))\n",
    "        ## ICB non paramétrique\n",
    "        confint.np <- boot.ci(T.np, type=c(\"norm\", \"basic\", \"stud\", \"perc\"))\n",
    "        ## theta inclus dans ICB ?\n",
    "        prop[,1] <- prop[,1] + sapply(confint.param[4:7], function(x) contains.theta(x, gam$theta/gam$alpha))\n",
    "        prop[,2] <- prop[,2] + sapply(confint.np[4:7], function(x) contains.theta(x, gam$theta/gam$alpha))\n",
    "    }\n",
    "    return(prop/M)\n",
    "}"
   ]
  },
  {
   "cell_type": "code",
   "execution_count": 27,
   "metadata": {},
   "outputs": [
    {
     "data": {
      "text/html": [
       "<table>\n",
       "<thead><tr><th></th><th scope=col>p</th><th scope=col>np</th></tr></thead>\n",
       "<tbody>\n",
       "\t<tr><th scope=row>norm</th><td>0.95</td><td>0.94</td></tr>\n",
       "\t<tr><th scope=row>basic</th><td>0.89</td><td>0.90</td></tr>\n",
       "\t<tr><th scope=row>stud</th><td>0.92</td><td>0.96</td></tr>\n",
       "\t<tr><th scope=row>perc</th><td>0.94</td><td>0.92</td></tr>\n",
       "</tbody>\n",
       "</table>\n"
      ],
      "text/latex": [
       "\\begin{tabular}{r|ll}\n",
       "  & p & np\\\\\n",
       "\\hline\n",
       "\tnorm & 0.95 & 0.94\\\\\n",
       "\tbasic & 0.89 & 0.90\\\\\n",
       "\tstud & 0.92 & 0.96\\\\\n",
       "\tperc & 0.94 & 0.92\\\\\n",
       "\\end{tabular}\n"
      ],
      "text/markdown": [
       "\n",
       "| <!--/--> | p | np |\n",
       "|---|---|---|\n",
       "| norm | 0.95 | 0.94 |\n",
       "| basic | 0.89 | 0.90 |\n",
       "| stud | 0.92 | 0.96 |\n",
       "| perc | 0.94 | 0.92 |\n",
       "\n"
      ],
      "text/plain": [
       "      p    np  \n",
       "norm  0.95 0.94\n",
       "basic 0.89 0.90\n",
       "stud  0.92 0.96\n",
       "perc  0.94 0.92"
      ]
     },
     "metadata": {},
     "output_type": "display_data"
    }
   ],
   "source": [
    "simul_icb_gamma(list(alpha=.8, theta=2), 10)"
   ]
  },
  {
   "cell_type": "code",
   "execution_count": 28,
   "metadata": {},
   "outputs": [
    {
     "data": {
      "text/html": [
       "<table>\n",
       "<thead><tr><th></th><th scope=col>p</th><th scope=col>np</th></tr></thead>\n",
       "<tbody>\n",
       "\t<tr><th scope=row>norm</th><td>0.72</td><td>0.98</td></tr>\n",
       "\t<tr><th scope=row>basic</th><td>0.78</td><td>0.82</td></tr>\n",
       "\t<tr><th scope=row>stud</th><td>0.47</td><td>0.94</td></tr>\n",
       "\t<tr><th scope=row>perc</th><td>0.44</td><td>0.68</td></tr>\n",
       "</tbody>\n",
       "</table>\n"
      ],
      "text/latex": [
       "\\begin{tabular}{r|ll}\n",
       "  & p & np\\\\\n",
       "\\hline\n",
       "\tnorm & 0.72 & 0.98\\\\\n",
       "\tbasic & 0.78 & 0.82\\\\\n",
       "\tstud & 0.47 & 0.94\\\\\n",
       "\tperc & 0.44 & 0.68\\\\\n",
       "\\end{tabular}\n"
      ],
      "text/markdown": [
       "\n",
       "| <!--/--> | p | np |\n",
       "|---|---|---|\n",
       "| norm | 0.72 | 0.98 |\n",
       "| basic | 0.78 | 0.82 |\n",
       "| stud | 0.47 | 0.94 |\n",
       "| perc | 0.44 | 0.68 |\n",
       "\n"
      ],
      "text/plain": [
       "      p    np  \n",
       "norm  0.72 0.98\n",
       "basic 0.78 0.82\n",
       "stud  0.47 0.94\n",
       "perc  0.44 0.68"
      ]
     },
     "metadata": {},
     "output_type": "display_data"
    }
   ],
   "source": [
    "simul_icb_gamma(list(alpha=.1, theta=2), 10)"
   ]
  }
 ],
 "metadata": {
  "kernelspec": {
   "display_name": "R",
   "language": "R",
   "name": "ir"
  },
  "language_info": {
   "codemirror_mode": "r",
   "file_extension": ".r",
   "mimetype": "text/x-r-source",
   "name": "R",
   "pygments_lexer": "r",
   "version": "3.6.1"
  }
 },
 "nbformat": 4,
 "nbformat_minor": 1
}
