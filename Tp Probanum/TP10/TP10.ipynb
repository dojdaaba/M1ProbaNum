{
 "cells": [
  {
   "cell_type": "markdown",
   "metadata": {},
   "source": [
    "# Algorithme EM pour des mélanges gaussiens\n",
    "\n",
    "Dans ce TP vous allez mettre en oeuvre l'algorithme EM pour un mélange gaussien de densité \n",
    "$$f_\\theta(x)=\\sum_{k=1}^K\\pi_kf_{\\mathcal N(\\mu_k,\\sigma^2_k)}(x),\\qquad x\\in\\mathbb R,$$\n",
    "où $0<\\pi_k<1$, $\\sum_{k=1}^K\\pi_k=1$, $\\mu_k\\in\\mathbb R$ et $\\sigma_k>0$, $k=1,\\dots,K$. \n",
    "\n",
    "Notons les paramèters du modèle par\n",
    "$$\\theta=\\left(\\pi_1,\\dots,\\pi_K,\\mu_1,\\dots,\\mu_K,\\sigma_1,\\dots,\\sigma_K\\right)$$\n",
    "Comme au dernier notebook, sous **R** nous allons stocker les paramètres dans une liste :\n"
   ]
  },
  {
   "cell_type": "code",
   "execution_count": 1,
   "metadata": {},
   "outputs": [],
   "source": [
    "theta = list(pi=c(3,2,5)/10, mu=c(4,-5,0), sig=c(1.3,1,1.5))\n",
    "theta"
   ]
  },
  {
   "cell_type": "markdown",
   "metadata": {},
   "source": [
    "Soient $\\mathbf x=(x_1,\\dots,x_n)$ un échantillon du mélange gaussien de densité $f_\\theta$.\n",
    "\n",
    "L'algorithme EM est un algorithme itératif pour approcher l'EMV en tirant profit de la structure latente du modèle. Il consiste à calculer succéssivmeent pour $t=0,1,\\dots$\n",
    "\\begin{align}\n",
    "\\theta^{(t+1)}=\\arg\\max_\\theta Q(\\theta|\\theta^{(t)}),\n",
    "\\end{align}\n",
    "     où $Q(\\theta|\\theta')$ est l'espérance conditionnelle de la fonction de log-vraisemblance des données complètes sous le paramètre $\\theta'$, et  $\\theta^{(0)}$ est un point initial choisi par l'utilisateur.\n",
    "En cours, nous avon  montré que  $\\theta^{(t+1)}$  est donné par\n",
    "\\begin{align}\n",
    "\\pi_k^{(t+1)}&= \\frac1n\\sum_{i=1}^n\\alpha_{k|i}^{(t)},\\quad  k=1,\\dots,K \\\\\n",
    "\\mu_k^{(t+1)}&\n",
    "=\\frac1{n\\pi_k^{(t+1)}}{\\sum_{i=1}^nx_i\\alpha_{k|i}^{(t)}},\\quad k=1,\\dots,K \\qquad\\qquad\\qquad\\qquad(*)\\\\\n",
    "\\sigma_k^{(t+1)} \n",
    "&= \\sqrt{\\frac1{n\\pi_k^{(t+1)}}{ \\sum_{i=1}^n\\alpha_{k|i}^{(t)}(x_i-\\mu_k^{(t+1)})^2}},\\quad k=1,\\dots,K\n",
    "\\end{align}\n",
    "\n"
   ]
  },
  {
   "cell_type": "markdown",
   "metadata": {},
   "source": [
    "avec \\begin{align}\n",
    "\\alpha_{k|i}^{(t)} = \\mathbb P_{\\theta^{(t)}}(Z=k|X=x_i)\n",
    "= \\frac{\\pi_k^{(t)}f_{\\mathcal N(\\mu_k^{(t)},\\sigma_k^{2(t)})}(x_i)}{f_{\\theta^{(t)}}(x_i)},\\quad k=1,\\dots,K,i=1,\\dots,n\n",
    ".\n",
    "\\end{align}"
   ]
  },
  {
   "cell_type": "markdown",
   "metadata": {},
   "source": [
    "## Question 1\n",
    "- Ecrire une fonction **update.theta** pour  effectuer une mise à jour de la valeur actuelle du paramètre $\\theta$. Autrement dit, la fonction calcule la valeur $\\theta^{(t+1)}$  selon les formules $(*)$. La fonction prend en argument un vecteur d'observations **obs** et une liste de paramètres **theta** (le paramètres $\\theta^{(t)})$, et elle renvoie une liste avec les paramètres mis à jour (le paramètre  $\\theta^{(t+1)}$).\n",
    "- Pour tester la fonction, appliquer **update.theta** à des données simulées d'un mélange gaussien et passer à la fonction les vraies valeurs des paramètres. Les paramètres retournés devraient être proches  des vraies valeurs. (Penser à reutiliser les fonctions que l'on a écrit au dernier TP.)\n"
   ]
  },
  {
   "cell_type": "code",
   "execution_count": 2,
   "metadata": {},
   "outputs": [],
   "source": [
    "update.theta <- function(obs, theta){\n",
    "  \n",
    "  return(theta.new)\n",
    "}"
   ]
  },
  {
   "cell_type": "code",
   "execution_count": 3,
   "metadata": {},
   "outputs": [],
   "source": [
    "update.theta <- function(obs, theta){\n",
    "  nb <- length(obs) \n",
    "  K  <- length(theta$mu) \n",
    "  \n",
    "  # calcul des alpha_ji\n",
    "  alpha <- matrix(NA,nrow=K, ncol=nb)\n",
    "  for (j in 1:K){\n",
    "    alpha[j,] <- theta$pi[j]*dnorm(obs,theta$mu[j],theta$sig[j])\n",
    "  }\n",
    "  p.theta <- apply(alpha,2,'sum')\n",
    "  alpha   <- alpha/matrix(p.theta,byrow=TRUE,nrow=K,ncol=nb)\n",
    "  \n",
    "  # mise à jour des paramètres  \n",
    "  pi.new  <- apply(alpha,1,'mean')\n",
    "  mu.new  <- c(alpha%*%obs/nb/pi.new)\n",
    "  mat     <- (matrix(rep(obs,each=K),nrow=K) -matrix(rep(mu.new,times=nb),nrow=K))^2\n",
    "  sig.new <- sqrt(apply(alpha*mat,1,'mean')/pi.new)\n",
    "  \n",
    "  theta.new <-  list(pi =pi.new, mu=mu.new, sig=sig.new)\n",
    "  return(theta.new)\n",
    "}"
   ]
  },
  {
   "cell_type": "code",
   "execution_count": 4,
   "metadata": {},
   "outputs": [],
   "source": [
    "rnormmix <- function(n,theta){\n",
    "  K <- length(theta$pi)\n",
    "  etiqu <- sample(1:K,size=n,replace=TRUE,prob=theta$pi)\n",
    "  obs <- rep(NA,n)\n",
    "  i <- 1\n",
    "  for (k in 1:K){\n",
    "    n.group <- sum(etiqu==k)\n",
    "    if(n.group>0){\n",
    "      obs[i:(i+n.group-1)] <- rnorm(n.group,theta$mu[k],theta$sig[k])\n",
    "      i <- i + n.group\n",
    "    }\n",
    "  }        \n",
    "  return(obs)\n",
    "}\n",
    "\n",
    "obs <- rnormmix(500,theta)\n",
    "update.theta(obs,theta)"
   ]
  },
  {
   "cell_type": "markdown",
   "metadata": {
    "collapsed": true
   },
   "source": [
    "## Question 2\n",
    "\n",
    "- Ecrire une fonction **algoEM** qui effectue l'algorithme EM. Ses arguments sont un vecteur d'observations **obs** et une liste avec les valeurs initiales des paramètres. Cette fonction retourne une liste avec les paramètres estimés par l'algorithme EM et le nombre d'itérations effectuées. \n",
    "Plus précisément, la fonction **algoEM** itère des mises à jours de paramètres par les formules en $(*)$ jusqu'à convergence. On utilise comme critère d'arrêt \n",
    "$$\\left|\\frac{\\ell(\\theta^{(t+1)})-\\ell(\\theta^{(t)})}{\\ell(\\theta^{(t)})}\\right|<\\varepsilon,$$\n",
    "où $\\ell(\\theta)$ désigne la fonction de log-vraisemblance et avec $\\varepsilon=10^{-3}$ comme seuil. Pour éviter que l'algorithme tourne indéfiniment, on s'arrête au plus tard après $R=200$ itérations. On peut déclarer $\\varepsilon$ et $R$ comme des arguments de la fonction avec des valeurs par défaut.\n",
    "\n",
    "- Testez votre fonction sur des données simulées en initialisant avec les vraies valeurs des paramètres. Visualiser la densité du mélange estimée par l'algorithme EM en la superposant à l'histogramme des données. Rajouter également la densité du mélange avec les vraies valeurs des paramètres.\n"
   ]
  },
  {
   "cell_type": "code",
   "execution_count": 5,
   "metadata": {},
   "outputs": [],
   "source": [
    "algoEM <- function(obs, theta.init){   \n",
    "\n",
    "  resultat <- list(emv = theta.new, nb.iter = it)\n",
    "  return(resultat)\n",
    "}"
   ]
  },
  {
   "cell_type": "code",
   "execution_count": 6,
   "metadata": {},
   "outputs": [],
   "source": [
    "dnormmix <- function(x,theta){\n",
    "  dens <- rep(0,length(x))\n",
    "  K <- length(theta$pi)\n",
    "  for (k in 1:K){\n",
    "    dens <- dens + theta$pi[k]*dnorm(x,theta$mu[k],theta$sig[k])\n",
    "  }                                         \n",
    "  return(dens)\n",
    "}\n",
    "\n",
    "lvraisnorm <- function(param,obs){    \n",
    "  logvrais <- sum(log(dnormmix(obs,param)))\n",
    "  return(logvrais)\n",
    "}\n",
    "\n",
    "algoEM <- function(obs, theta.init, R=200, epsilon=1e-3){   \n",
    "  theta.old <- theta.init\n",
    "  crit_arret <- FALSE\n",
    "  log.vrais.old <- lvraisnorm(theta.init,obs)\n",
    "  it <- 0\n",
    "  while (!crit_arret && (it < R)){ \n",
    "    theta.new <- update.theta(obs, theta.old)\n",
    "    log.vrais.new <- lvraisnorm(theta.new,obs)\n",
    "    crit_arret <- (abs((log.vrais.new - log.vrais.old)/log.vrais.old) < epsilon)\n",
    "    log.vrais.old <- log.vrais.new\n",
    "    theta.old <- theta.new\n",
    "    it <- it + 1\n",
    "  }\n",
    "  resultat <- list(emv = theta.new, nb.iter = it)\n",
    "  return(resultat)\n",
    "}\n",
    "\n",
    "res <- algoEM(obs,theta)\n",
    "res\n"
   ]
  },
  {
   "cell_type": "code",
   "execution_count": 7,
   "metadata": {},
   "outputs": [],
   "source": [
    "ymax <- max(c(dnormmix(obs,res$emv),dnormmix(obs,theta)))\n",
    "hist(obs,freq=FALSE,ylim=c(0,ymax))\n",
    "curve(dnormmix(x,res$emv),add=TRUE,col='red')\n",
    "curve(dnormmix(x,theta),add=TRUE,col='blue')"
   ]
  },
  {
   "cell_type": "markdown",
   "metadata": {},
   "source": [
    "## Initialisation de l'algorithme EM\n",
    "\n",
    "## Question 3\n",
    "Essayer différents points initiaux. Est-ce que l'algorithme converge toujours vers le même point ? Quel effet sur le nombre d'itérations. Comme points initiaux essayer\n",
    "- les vraies valeurs des paramètres mais après permutation des composants,\n",
    "- des valeurs de $\\mu_k$  complètement choisies au hasard (loin des vraies moyennes) et les vraies valeurs des autres paramètres,\n",
    "- des valeurs de $\\sigma_k$   prises au hasard (et les vraies valeurs des autres paramètres),\n",
    "- des très petites/grandes valeurs de $\\pi_k$ (et les vraies valeurs des autres paramètres).\n",
    "\n",
    "Commenter.\n"
   ]
  },
  {
   "cell_type": "code",
   "execution_count": 8,
   "metadata": {},
   "outputs": [
    {
     "data": {
      "text/html": [
       "<dl>\n",
       "\t<dt>$emv</dt>\n",
       "\t\t<dd><dl>\n",
       "\t<dt>$pi</dt>\n",
       "\t\t<dd><ol class=list-inline>\n",
       "\t<li>0.191980119108081</li>\n",
       "\t<li>0.528900763221298</li>\n",
       "\t<li>0.279119117670621</li>\n",
       "</ol>\n",
       "</dd>\n",
       "\t<dt>$mu</dt>\n",
       "\t\t<dd><ol class=list-inline>\n",
       "\t<li>-4.97759696496656</li>\n",
       "\t<li>0.0280734557071505</li>\n",
       "\t<li>4.04037045941785</li>\n",
       "</ol>\n",
       "</dd>\n",
       "\t<dt>$sig</dt>\n",
       "\t\t<dd><ol class=list-inline>\n",
       "\t<li>1.05699979094749</li>\n",
       "\t<li>1.45716027974806</li>\n",
       "\t<li>1.43652735580072</li>\n",
       "</ol>\n",
       "</dd>\n",
       "</dl>\n",
       "</dd>\n",
       "\t<dt>$nb.iter</dt>\n",
       "\t\t<dd>2</dd>\n",
       "</dl>\n"
      ],
      "text/latex": [
       "\\begin{description}\n",
       "\\item[\\$emv] \\begin{description}\n",
       "\\item[\\$pi] \\begin{enumerate*}\n",
       "\\item 0.191980119108081\n",
       "\\item 0.528900763221298\n",
       "\\item 0.279119117670621\n",
       "\\end{enumerate*}\n",
       "\n",
       "\\item[\\$mu] \\begin{enumerate*}\n",
       "\\item -4.97759696496656\n",
       "\\item 0.0280734557071505\n",
       "\\item 4.04037045941785\n",
       "\\end{enumerate*}\n",
       "\n",
       "\\item[\\$sig] \\begin{enumerate*}\n",
       "\\item 1.05699979094749\n",
       "\\item 1.45716027974806\n",
       "\\item 1.43652735580072\n",
       "\\end{enumerate*}\n",
       "\n",
       "\\end{description}\n",
       "\n",
       "\\item[\\$nb.iter] 2\n",
       "\\end{description}\n"
      ],
      "text/markdown": [
       "$emv\n",
       ":   $pi\n",
       ":   1. 0.191980119108081\n",
       "2. 0.528900763221298\n",
       "3. 0.279119117670621\n",
       "\n",
       "\n",
       "\n",
       "$mu\n",
       ":   1. -4.97759696496656\n",
       "2. 0.0280734557071505\n",
       "3. 4.04037045941785\n",
       "\n",
       "\n",
       "\n",
       "$sig\n",
       ":   1. 1.05699979094749\n",
       "2. 1.45716027974806\n",
       "3. 1.43652735580072\n",
       "\n",
       "\n",
       "\n",
       "\n",
       "\n",
       "\n",
       "$nb.iter\n",
       ":   2\n",
       "\n",
       "\n"
      ],
      "text/plain": [
       "$emv\n",
       "$emv$pi\n",
       "[1] 0.1919801 0.5289008 0.2791191\n",
       "\n",
       "$emv$mu\n",
       "[1] -4.97759696  0.02807346  4.04037046\n",
       "\n",
       "$emv$sig\n",
       "[1] 1.057000 1.457160 1.436527\n",
       "\n",
       "\n",
       "$nb.iter\n",
       "[1] 2\n"
      ]
     },
     "metadata": {},
     "output_type": "display_data"
    }
   ],
   "source": [
    "# permutation des composants et vraies valeurs\n",
    "permut <- c(2,3,1)\n",
    "theta1 <- list(pi=theta$pi[permut],mu=theta$mu[permut],sig=theta$sig[permut])\n",
    "algoEM(obs,theta1)"
   ]
  },
  {
   "cell_type": "markdown",
   "metadata": {},
   "source": [
    "On obtient la même solution à permutation près, en le même nombre d'itérations. C'est tout à fait normal vu que le mélange gaussien n'est identifiable qu'à permutation des composants près."
   ]
  },
  {
   "cell_type": "code",
   "execution_count": 9,
   "metadata": {},
   "outputs": [
    {
     "data": {
      "text/html": [
       "<dl>\n",
       "\t<dt>$emv</dt>\n",
       "\t\t<dd><dl>\n",
       "\t<dt>$pi</dt>\n",
       "\t\t<dd><ol class=list-inline>\n",
       "\t<li>1</li>\n",
       "\t<li>6.37752064088901e-31</li>\n",
       "\t<li>6.63737832084785e-47</li>\n",
       "</ol>\n",
       "</dd>\n",
       "\t<dt>$mu</dt>\n",
       "\t\t<dd><ol class=list-inline>\n",
       "\t<li>0.186993051638618</li>\n",
       "\t<li>8.53802014027554</li>\n",
       "\t<li>8.53802014027554</li>\n",
       "</ol>\n",
       "</dd>\n",
       "\t<dt>$sig</dt>\n",
       "\t\t<dd><ol class=list-inline>\n",
       "\t<li>3.34545254915144</li>\n",
       "\t<li>1.77635683940025e-15</li>\n",
       "\t<li>2.39931523025486e-22</li>\n",
       "</ol>\n",
       "</dd>\n",
       "</dl>\n",
       "</dd>\n",
       "\t<dt>$nb.iter</dt>\n",
       "\t\t<dd>2</dd>\n",
       "</dl>\n"
      ],
      "text/latex": [
       "\\begin{description}\n",
       "\\item[\\$emv] \\begin{description}\n",
       "\\item[\\$pi] \\begin{enumerate*}\n",
       "\\item 1\n",
       "\\item 6.37752064088901e-31\n",
       "\\item 6.63737832084785e-47\n",
       "\\end{enumerate*}\n",
       "\n",
       "\\item[\\$mu] \\begin{enumerate*}\n",
       "\\item 0.186993051638618\n",
       "\\item 8.53802014027554\n",
       "\\item 8.53802014027554\n",
       "\\end{enumerate*}\n",
       "\n",
       "\\item[\\$sig] \\begin{enumerate*}\n",
       "\\item 3.34545254915144\n",
       "\\item 1.77635683940025e-15\n",
       "\\item 2.39931523025486e-22\n",
       "\\end{enumerate*}\n",
       "\n",
       "\\end{description}\n",
       "\n",
       "\\item[\\$nb.iter] 2\n",
       "\\end{description}\n"
      ],
      "text/markdown": [
       "$emv\n",
       ":   $pi\n",
       ":   1. 1\n",
       "2. 6.37752064088901e-31\n",
       "3. 6.63737832084785e-47\n",
       "\n",
       "\n",
       "\n",
       "$mu\n",
       ":   1. 0.186993051638618\n",
       "2. 8.53802014027554\n",
       "3. 8.53802014027554\n",
       "\n",
       "\n",
       "\n",
       "$sig\n",
       ":   1. 3.34545254915144\n",
       "2. 1.77635683940025e-15\n",
       "3. 2.39931523025486e-22\n",
       "\n",
       "\n",
       "\n",
       "\n",
       "\n",
       "\n",
       "$nb.iter\n",
       ":   2\n",
       "\n",
       "\n"
      ],
      "text/plain": [
       "$emv\n",
       "$emv$pi\n",
       "[1] 1.000000e+00 6.377521e-31 6.637378e-47\n",
       "\n",
       "$emv$mu\n",
       "[1] 0.1869931 8.5380201 8.5380201\n",
       "\n",
       "$emv$sig\n",
       "[1] 3.345453e+00 1.776357e-15 2.399315e-22\n",
       "\n",
       "\n",
       "$nb.iter\n",
       "[1] 2\n"
      ]
     },
     "metadata": {},
     "output_type": "display_data"
    },
    {
     "data": {
      "image/png": "[encoded data removed]",
      "text/plain": [
       "Plot with title \"Histogram of obs\""
      ]
     },
     "metadata": {},
     "output_type": "display_data"
    }
   ],
   "source": [
    "# des mu_k très erronées\n",
    "theta2 <- theta\n",
    "theta2$mu <- c(10,20,30)\n",
    "res2 <- algoEM(obs,theta2)\n",
    "res2\n",
    "hist(obs,freq=FALSE)\n",
    "curve(dnormmix(x,res2$emv),add=TRUE,col='red')"
   ]
  },
  {
   "cell_type": "markdown",
   "metadata": {},
   "source": [
    "Les données  sont approchées par une simple gaussienne, car le poids des deux autres composants est quasi 0."
   ]
  },
  {
   "cell_type": "code",
   "execution_count": 10,
   "metadata": {},
   "outputs": [
    {
     "data": {
      "text/html": [
       "<dl>\n",
       "\t<dt>$emv</dt>\n",
       "\t\t<dd><dl>\n",
       "\t<dt>$pi</dt>\n",
       "\t\t<dd><ol class=list-inline>\n",
       "\t<li>0.792346465847883</li>\n",
       "\t<li>0.207653528683577</li>\n",
       "\t<li>5.46854029070726e-09</li>\n",
       "</ol>\n",
       "</dd>\n",
       "\t<dt>$mu</dt>\n",
       "\t\t<dd><ol class=list-inline>\n",
       "\t<li>-0.837643927999951</li>\n",
       "\t<li>4.09671459516773</li>\n",
       "\t<li>2.91343364277217</li>\n",
       "</ol>\n",
       "</dd>\n",
       "\t<dt>$sig</dt>\n",
       "\t\t<dd><ol class=list-inline>\n",
       "\t<li>2.92281618071585</li>\n",
       "\t<li>1.41727484646545</li>\n",
       "\t<li>0.212130374899214</li>\n",
       "</ol>\n",
       "</dd>\n",
       "</dl>\n",
       "</dd>\n",
       "\t<dt>$nb.iter</dt>\n",
       "\t\t<dd>4</dd>\n",
       "</dl>\n"
      ],
      "text/latex": [
       "\\begin{description}\n",
       "\\item[\\$emv] \\begin{description}\n",
       "\\item[\\$pi] \\begin{enumerate*}\n",
       "\\item 0.792346465847883\n",
       "\\item 0.207653528683577\n",
       "\\item 5.46854029070726e-09\n",
       "\\end{enumerate*}\n",
       "\n",
       "\\item[\\$mu] \\begin{enumerate*}\n",
       "\\item -0.837643927999951\n",
       "\\item 4.09671459516773\n",
       "\\item 2.91343364277217\n",
       "\\end{enumerate*}\n",
       "\n",
       "\\item[\\$sig] \\begin{enumerate*}\n",
       "\\item 2.92281618071585\n",
       "\\item 1.41727484646545\n",
       "\\item 0.212130374899214\n",
       "\\end{enumerate*}\n",
       "\n",
       "\\end{description}\n",
       "\n",
       "\\item[\\$nb.iter] 4\n",
       "\\end{description}\n"
      ],
      "text/markdown": [
       "$emv\n",
       ":   $pi\n",
       ":   1. 0.792346465847883\n",
       "2. 0.207653528683577\n",
       "3. 5.46854029070726e-09\n",
       "\n",
       "\n",
       "\n",
       "$mu\n",
       ":   1. -0.837643927999951\n",
       "2. 4.09671459516773\n",
       "3. 2.91343364277217\n",
       "\n",
       "\n",
       "\n",
       "$sig\n",
       ":   1. 2.92281618071585\n",
       "2. 1.41727484646545\n",
       "3. 0.212130374899214\n",
       "\n",
       "\n",
       "\n",
       "\n",
       "\n",
       "\n",
       "$nb.iter\n",
       ":   4\n",
       "\n",
       "\n"
      ],
      "text/plain": [
       "$emv\n",
       "$emv$pi\n",
       "[1] 7.923465e-01 2.076535e-01 5.468540e-09\n",
       "\n",
       "$emv$mu\n",
       "[1] -0.8376439  4.0967146  2.9134336\n",
       "\n",
       "$emv$sig\n",
       "[1] 2.9228162 1.4172748 0.2121304\n",
       "\n",
       "\n",
       "$nb.iter\n",
       "[1] 4\n"
      ]
     },
     "metadata": {},
     "output_type": "display_data"
    },
    {
     "data": {
      "image/png": "[encoded data removed]",
      "text/plain": [
       "Plot with title \"Histogram of obs\""
      ]
     },
     "metadata": {},
     "output_type": "display_data"
    }
   ],
   "source": [
    "# des mu_k très erronées\n",
    "theta3 <- theta\n",
    "theta3$mu <- c(-20,20,30)\n",
    "res3 <- algoEM(obs,theta3)\n",
    "res3\n",
    "hist(obs,freq=FALSE)\n",
    "curve(dnormmix(x,res3$emv),add=TRUE,col='red')"
   ]
  },
  {
   "cell_type": "markdown",
   "metadata": {},
   "source": [
    "La solution est un mélange de deux gaussienne, le troisième composant est de poids quasi 0."
   ]
  },
  {
   "cell_type": "code",
   "execution_count": 11,
   "metadata": {},
   "outputs": [
    {
     "data": {
      "text/html": [
       "<dl>\n",
       "\t<dt>$emv</dt>\n",
       "\t\t<dd><dl>\n",
       "\t<dt>$pi</dt>\n",
       "\t\t<dd><ol class=list-inline>\n",
       "\t<li>0.293349423152461</li>\n",
       "\t<li>0.185237319151975</li>\n",
       "\t<li>0.521413257695565</li>\n",
       "</ol>\n",
       "</dd>\n",
       "\t<dt>$mu</dt>\n",
       "\t\t<dd><ol class=list-inline>\n",
       "\t<li>0.6105862242104</li>\n",
       "\t<li>-0.41468321888274</li>\n",
       "\t<li>0.162429208492161</li>\n",
       "</ol>\n",
       "</dd>\n",
       "\t<dt>$sig</dt>\n",
       "\t\t<dd><ol class=list-inline>\n",
       "\t<li>3.24999516069641</li>\n",
       "\t<li>3.40727110245991</li>\n",
       "\t<li>3.34182542726717</li>\n",
       "</ol>\n",
       "</dd>\n",
       "</dl>\n",
       "</dd>\n",
       "\t<dt>$nb.iter</dt>\n",
       "\t\t<dd>2</dd>\n",
       "</dl>\n"
      ],
      "text/latex": [
       "\\begin{description}\n",
       "\\item[\\$emv] \\begin{description}\n",
       "\\item[\\$pi] \\begin{enumerate*}\n",
       "\\item 0.293349423152461\n",
       "\\item 0.185237319151975\n",
       "\\item 0.521413257695565\n",
       "\\end{enumerate*}\n",
       "\n",
       "\\item[\\$mu] \\begin{enumerate*}\n",
       "\\item 0.6105862242104\n",
       "\\item -0.41468321888274\n",
       "\\item 0.162429208492161\n",
       "\\end{enumerate*}\n",
       "\n",
       "\\item[\\$sig] \\begin{enumerate*}\n",
       "\\item 3.24999516069641\n",
       "\\item 3.40727110245991\n",
       "\\item 3.34182542726717\n",
       "\\end{enumerate*}\n",
       "\n",
       "\\end{description}\n",
       "\n",
       "\\item[\\$nb.iter] 2\n",
       "\\end{description}\n"
      ],
      "text/markdown": [
       "$emv\n",
       ":   $pi\n",
       ":   1. 0.293349423152461\n",
       "2. 0.185237319151975\n",
       "3. 0.521413257695565\n",
       "\n",
       "\n",
       "\n",
       "$mu\n",
       ":   1. 0.6105862242104\n",
       "2. -0.41468321888274\n",
       "3. 0.162429208492161\n",
       "\n",
       "\n",
       "\n",
       "$sig\n",
       ":   1. 3.24999516069641\n",
       "2. 3.40727110245991\n",
       "3. 3.34182542726717\n",
       "\n",
       "\n",
       "\n",
       "\n",
       "\n",
       "\n",
       "$nb.iter\n",
       ":   2\n",
       "\n",
       "\n"
      ],
      "text/plain": [
       "$emv\n",
       "$emv$pi\n",
       "[1] 0.2933494 0.1852373 0.5214133\n",
       "\n",
       "$emv$mu\n",
       "[1]  0.6105862 -0.4146832  0.1624292\n",
       "\n",
       "$emv$sig\n",
       "[1] 3.249995 3.407271 3.341825\n",
       "\n",
       "\n",
       "$nb.iter\n",
       "[1] 2\n"
      ]
     },
     "metadata": {},
     "output_type": "display_data"
    },
    {
     "data": {
      "image/png": "[encoded data removed]",
      "text/plain": [
       "Plot with title \"Histogram of obs\""
      ]
     },
     "metadata": {},
     "output_type": "display_data"
    }
   ],
   "source": [
    "# des sig_k très erronées\n",
    "theta4 <- theta\n",
    "theta4$sig <-  c(10,10,10)  # c(.1,.1,.1), c(10,.1,10)\n",
    "res4 <- algoEM(obs,theta4)\n",
    "res4\n",
    "hist(obs,freq=FALSE)\n",
    "curve(dnormmix(x,res4$emv),add=TRUE,col='red')"
   ]
  },
  {
   "cell_type": "markdown",
   "metadata": {},
   "source": [
    "Lorsque les moyennes $\\mu_k$ et les proportions $\\pi_k$ sont correctement initialisés, on peut utiliser des valeurs quelconques pour l'initialisations des écart-types $\\sigma_k$ : l'algorithme EM converge toujours vers la bonne solution."
   ]
  },
  {
   "cell_type": "code",
   "execution_count": 12,
   "metadata": {},
   "outputs": [
    {
     "data": {
      "text/html": [
       "<dl>\n",
       "\t<dt>$emv</dt>\n",
       "\t\t<dd><dl>\n",
       "\t<dt>$pi</dt>\n",
       "\t\t<dd><ol class=list-inline>\n",
       "\t<li>0.296478642234904</li>\n",
       "\t<li>0.208762767209684</li>\n",
       "\t<li>0.494758590555412</li>\n",
       "</ol>\n",
       "</dd>\n",
       "\t<dt>$mu</dt>\n",
       "\t\t<dd><ol class=list-inline>\n",
       "\t<li>3.97010586729155</li>\n",
       "\t<li>-4.80914055070199</li>\n",
       "\t<li>0.0281166292118987</li>\n",
       "</ol>\n",
       "</dd>\n",
       "\t<dt>$sig</dt>\n",
       "\t\t<dd><ol class=list-inline>\n",
       "\t<li>1.43383230863211</li>\n",
       "\t<li>1.1830256560582</li>\n",
       "\t<li>1.29027690637247</li>\n",
       "</ol>\n",
       "</dd>\n",
       "</dl>\n",
       "</dd>\n",
       "\t<dt>$nb.iter</dt>\n",
       "\t\t<dd>3</dd>\n",
       "</dl>\n"
      ],
      "text/latex": [
       "\\begin{description}\n",
       "\\item[\\$emv] \\begin{description}\n",
       "\\item[\\$pi] \\begin{enumerate*}\n",
       "\\item 0.296478642234904\n",
       "\\item 0.208762767209684\n",
       "\\item 0.494758590555412\n",
       "\\end{enumerate*}\n",
       "\n",
       "\\item[\\$mu] \\begin{enumerate*}\n",
       "\\item 3.97010586729155\n",
       "\\item -4.80914055070199\n",
       "\\item 0.0281166292118987\n",
       "\\end{enumerate*}\n",
       "\n",
       "\\item[\\$sig] \\begin{enumerate*}\n",
       "\\item 1.43383230863211\n",
       "\\item 1.1830256560582\n",
       "\\item 1.29027690637247\n",
       "\\end{enumerate*}\n",
       "\n",
       "\\end{description}\n",
       "\n",
       "\\item[\\$nb.iter] 3\n",
       "\\end{description}\n"
      ],
      "text/markdown": [
       "$emv\n",
       ":   $pi\n",
       ":   1. 0.296478642234904\n",
       "2. 0.208762767209684\n",
       "3. 0.494758590555412\n",
       "\n",
       "\n",
       "\n",
       "$mu\n",
       ":   1. 3.97010586729155\n",
       "2. -4.80914055070199\n",
       "3. 0.0281166292118987\n",
       "\n",
       "\n",
       "\n",
       "$sig\n",
       ":   1. 1.43383230863211\n",
       "2. 1.1830256560582\n",
       "3. 1.29027690637247\n",
       "\n",
       "\n",
       "\n",
       "\n",
       "\n",
       "\n",
       "$nb.iter\n",
       ":   3\n",
       "\n",
       "\n"
      ],
      "text/plain": [
       "$emv\n",
       "$emv$pi\n",
       "[1] 0.2964786 0.2087628 0.4947586\n",
       "\n",
       "$emv$mu\n",
       "[1]  3.97010587 -4.80914055  0.02811663\n",
       "\n",
       "$emv$sig\n",
       "[1] 1.433832 1.183026 1.290277\n",
       "\n",
       "\n",
       "$nb.iter\n",
       "[1] 3\n"
      ]
     },
     "metadata": {},
     "output_type": "display_data"
    },
    {
     "data": {
      "image/png": "[encoded data removed]",
      "text/plain": [
       "Plot with title \"Histogram of obs\""
      ]
     },
     "metadata": {},
     "output_type": "display_data"
    }
   ],
   "source": [
    "# des pi_k erronés\n",
    "theta5 <- theta\n",
    "theta5$sig <-  c(1/3,1/3,1/3)  # c(.9, .1, .1), c(.4, .5, .1) c(.85, .01, .01)\n",
    "res5 <- algoEM(obs,theta5)\n",
    "res5\n",
    "hist(obs,freq=FALSE)\n",
    "curve(dnormmix(x,res5$emv),add=TRUE,col='red')"
   ]
  },
  {
   "cell_type": "markdown",
   "metadata": {},
   "source": [
    "Tant que les $\\mu_m$ et $\\sigma_k$ sont correctement initialisés, l'algorithme EM n'est pas sensible aux valeurs initiales des $\\pi_k$."
   ]
  },
  {
   "cell_type": "markdown",
   "metadata": {},
   "source": [
    "On a vu qu'il est surtout important de bien initialiser les moyennes $\\mu_k$. Or, les observations $x_i$ d'un mélange gaussien prennent des valeurs  près des moyennes $\\mu_k$. On peut en déduire l'initialisation suivante :\n",
    "- pour les $\\mu_k$ on prend les valeurs de $K$ observations $x_i$ tirées au hasard dans l'échantillon,\n",
    "- pour les $\\sigma_k$ on prend l'écart-type empirique $s_x=\\sqrt{\\frac1n\\sum_{i=1}^n(x_i-\\bar x)^2}$, i.e. $\\sigma_k=s_x, k=1,\\dots,K$,\n",
    "- pour les  $\\pi_k$ on choisit des proportions équilibrées, i.e. $\\pi_k=1/K, k=1,\\dots,K.$\n",
    "\n",
    "## Question 4\n",
    "- Modifier la fonction **algoEM** en sorte que l'initialisation par défaut est celle précisée ci-dessus.\n",
    "- Appliquer la fonction **algoEM** plusieurs fois au même échantillon avec l'initialisation par défaut. Obtient-on toujours le même résultat ?"
   ]
  },
  {
   "cell_type": "code",
   "execution_count": 13,
   "metadata": {},
   "outputs": [],
   "source": [
    "algoEM <- function(obs, K, theta.init=list(pi=rep(1/K,K),mu=sample(obs,size=K),sig=rep(sd(obs),K)), R=200, epsilon=1e-3){   \n",
    "  # K - ordre du mélange\n",
    "  theta.old <- theta.init\n",
    "  crit_arret <- FALSE\n",
    "  log.vrais.old <- lvraisnorm(theta.init,obs)\n",
    "  it <- 0\n",
    "  while (!crit_arret && (it < R)){ \n",
    "    theta.new <- update.theta(obs, theta.old)\n",
    "    log.vrais.new <- lvraisnorm(theta.new,obs)\n",
    "    crit_arret <- (abs((log.vrais.new - log.vrais.old)/log.vrais.old) < epsilon)\n",
    "    log.vrais.old <- log.vrais.new\n",
    "    theta.old <- theta.new\n",
    "    it <- it + 1\n",
    "  }\n",
    "  resultat <- list(emv = theta.new, nb.iter = it)\n",
    "  return(resultat)\n",
    "}"
   ]
  },
  {
   "cell_type": "code",
   "execution_count": 14,
   "metadata": {},
   "outputs": [
    {
     "data": {
      "text/html": [
       "<dl>\n",
       "\t<dt>$emv</dt>\n",
       "\t\t<dd><dl>\n",
       "\t<dt>$pi</dt>\n",
       "\t\t<dd><ol class=list-inline>\n",
       "\t<li>0.305420598273824</li>\n",
       "\t<li>0.31867827379273</li>\n",
       "\t<li>0.375901127933446</li>\n",
       "</ol>\n",
       "</dd>\n",
       "\t<dt>$mu</dt>\n",
       "\t\t<dd><ol class=list-inline>\n",
       "\t<li>0.611656325285274</li>\n",
       "\t<li>0.41835990129336</li>\n",
       "\t<li>-0.354193138680384</li>\n",
       "</ol>\n",
       "</dd>\n",
       "\t<dt>$sig</dt>\n",
       "\t\t<dd><ol class=list-inline>\n",
       "\t<li>3.24570556260405</li>\n",
       "\t<li>3.28959221081395</li>\n",
       "\t<li>3.39936104401201</li>\n",
       "</ol>\n",
       "</dd>\n",
       "</dl>\n",
       "</dd>\n",
       "\t<dt>$nb.iter</dt>\n",
       "\t\t<dd>2</dd>\n",
       "</dl>\n"
      ],
      "text/latex": [
       "\\begin{description}\n",
       "\\item[\\$emv] \\begin{description}\n",
       "\\item[\\$pi] \\begin{enumerate*}\n",
       "\\item 0.305420598273824\n",
       "\\item 0.31867827379273\n",
       "\\item 0.375901127933446\n",
       "\\end{enumerate*}\n",
       "\n",
       "\\item[\\$mu] \\begin{enumerate*}\n",
       "\\item 0.611656325285274\n",
       "\\item 0.41835990129336\n",
       "\\item -0.354193138680384\n",
       "\\end{enumerate*}\n",
       "\n",
       "\\item[\\$sig] \\begin{enumerate*}\n",
       "\\item 3.24570556260405\n",
       "\\item 3.28959221081395\n",
       "\\item 3.39936104401201\n",
       "\\end{enumerate*}\n",
       "\n",
       "\\end{description}\n",
       "\n",
       "\\item[\\$nb.iter] 2\n",
       "\\end{description}\n"
      ],
      "text/markdown": [
       "$emv\n",
       ":   $pi\n",
       ":   1. 0.305420598273824\n",
       "2. 0.31867827379273\n",
       "3. 0.375901127933446\n",
       "\n",
       "\n",
       "\n",
       "$mu\n",
       ":   1. 0.611656325285274\n",
       "2. 0.41835990129336\n",
       "3. -0.354193138680384\n",
       "\n",
       "\n",
       "\n",
       "$sig\n",
       ":   1. 3.24570556260405\n",
       "2. 3.28959221081395\n",
       "3. 3.39936104401201\n",
       "\n",
       "\n",
       "\n",
       "\n",
       "\n",
       "\n",
       "$nb.iter\n",
       ":   2\n",
       "\n",
       "\n"
      ],
      "text/plain": [
       "$emv\n",
       "$emv$pi\n",
       "[1] 0.3054206 0.3186783 0.3759011\n",
       "\n",
       "$emv$mu\n",
       "[1]  0.6116563  0.4183599 -0.3541931\n",
       "\n",
       "$emv$sig\n",
       "[1] 3.245706 3.289592 3.399361\n",
       "\n",
       "\n",
       "$nb.iter\n",
       "[1] 2\n"
      ]
     },
     "metadata": {},
     "output_type": "display_data"
    }
   ],
   "source": [
    "res <- algoEM(obs,3)\n",
    "res"
   ]
  },
  {
   "cell_type": "code",
   "execution_count": 15,
   "metadata": {},
   "outputs": [
    {
     "data": {
      "text/html": [
       "<dl>\n",
       "\t<dt>$pi</dt>\n",
       "\t\t<dd><ol class=list-inline>\n",
       "\t<li>0.3</li>\n",
       "\t<li>0.2</li>\n",
       "\t<li>0.5</li>\n",
       "</ol>\n",
       "</dd>\n",
       "\t<dt>$mu</dt>\n",
       "\t\t<dd><ol class=list-inline>\n",
       "\t<li>4</li>\n",
       "\t<li>-5</li>\n",
       "\t<li>0</li>\n",
       "</ol>\n",
       "</dd>\n",
       "\t<dt>$sig</dt>\n",
       "\t\t<dd><ol class=list-inline>\n",
       "\t<li>1.3</li>\n",
       "\t<li>1</li>\n",
       "\t<li>1.5</li>\n",
       "</ol>\n",
       "</dd>\n",
       "</dl>\n"
      ],
      "text/latex": [
       "\\begin{description}\n",
       "\\item[\\$pi] \\begin{enumerate*}\n",
       "\\item 0.3\n",
       "\\item 0.2\n",
       "\\item 0.5\n",
       "\\end{enumerate*}\n",
       "\n",
       "\\item[\\$mu] \\begin{enumerate*}\n",
       "\\item 4\n",
       "\\item -5\n",
       "\\item 0\n",
       "\\end{enumerate*}\n",
       "\n",
       "\\item[\\$sig] \\begin{enumerate*}\n",
       "\\item 1.3\n",
       "\\item 1\n",
       "\\item 1.5\n",
       "\\end{enumerate*}\n",
       "\n",
       "\\end{description}\n"
      ],
      "text/markdown": [
       "$pi\n",
       ":   1. 0.3\n",
       "2. 0.2\n",
       "3. 0.5\n",
       "\n",
       "\n",
       "\n",
       "$mu\n",
       ":   1. 4\n",
       "2. -5\n",
       "3. 0\n",
       "\n",
       "\n",
       "\n",
       "$sig\n",
       ":   1. 1.3\n",
       "2. 1\n",
       "3. 1.5\n",
       "\n",
       "\n",
       "\n",
       "\n",
       "\n"
      ],
      "text/plain": [
       "$pi\n",
       "[1] 0.3 0.2 0.5\n",
       "\n",
       "$mu\n",
       "[1]  4 -5  0\n",
       "\n",
       "$sig\n",
       "[1] 1.3 1.0 1.5\n"
      ]
     },
     "metadata": {},
     "output_type": "display_data"
    }
   ],
   "source": [
    "theta"
   ]
  },
  {
   "cell_type": "markdown",
   "metadata": {},
   "source": [
    "Afin d'ameliorer la performance, on peut appliquer l'algorithme EM avec plusierus (disons $L$) points initiaux différents  et retenir parmi  les $L$ solutions $\\hat\\theta_1,\\dots,\\hat\\theta_L$ celle avec la plus grande valeur de la fonction de log-vraisemblance. Autrement dit, la solution finale $\\hat\\theta$ est donnée par $\\hat\\theta\\in\\{\\hat\\theta_1,\\dots,\\hat\\theta_L\\}$ tel que\n",
    "$$\\ell(\\hat\\theta) \\geq\\ell(\\hat\\theta_l),\\qquad l=1,\\dots,L$$\n",
    "\n",
    "## Question 5\n",
    "Ecrire une fonction **EMgauss** qui performe la procédure décrite ci-dessus. Cette fonction prend en argument l'échantillon **obs**, le nombre de composants **K** et le nombre de points initiaux souhaités **L**.\n"
   ]
  },
  {
   "cell_type": "code",
   "execution_count": 16,
   "metadata": {},
   "outputs": [],
   "source": [
    "EMgauss <- function(obs,K,L){\n",
    "    \n",
    "    \n",
    "    return(theta)\n",
    "}"
   ]
  },
  {
   "cell_type": "code",
   "execution_count": 17,
   "metadata": {},
   "outputs": [],
   "source": [
    "EMgauss <- function(obs,K,L=20){\n",
    "  resEM <- vector(\"list\",L)\n",
    "  for (l in 1:L)\n",
    "    resEM[[l]] <- algoEM(obs,K)$emv\n",
    "  logvrais <- sapply(resEM, function(x) lvraisnorm(x,obs))\n",
    "  best.run <- which.max(logvrais)    \n",
    "  theta <- resEM[[best.run]]   \n",
    "  return(theta)\n",
    "}"
   ]
  },
  {
   "cell_type": "code",
   "execution_count": 18,
   "metadata": {},
   "outputs": [
    {
     "data": {
      "text/html": [
       "<dl>\n",
       "\t<dt>$pi</dt>\n",
       "\t\t<dd><ol class=list-inline>\n",
       "\t<li>0.446731883703895</li>\n",
       "\t<li>0.387974043005893</li>\n",
       "\t<li>0.165294073290212</li>\n",
       "</ol>\n",
       "</dd>\n",
       "\t<dt>$mu</dt>\n",
       "\t\t<dd><ol class=list-inline>\n",
       "\t<li>1.52221235243686</li>\n",
       "\t<li>0.879725380902464</li>\n",
       "\t<li>-5.04759992974212</li>\n",
       "</ol>\n",
       "</dd>\n",
       "\t<dt>$sig</dt>\n",
       "\t\t<dd><ol class=list-inline>\n",
       "\t<li>2.50709630243734</li>\n",
       "\t<li>2.63158752985744</li>\n",
       "\t<li>1.05922066073083</li>\n",
       "</ol>\n",
       "</dd>\n",
       "</dl>\n"
      ],
      "text/latex": [
       "\\begin{description}\n",
       "\\item[\\$pi] \\begin{enumerate*}\n",
       "\\item 0.446731883703895\n",
       "\\item 0.387974043005893\n",
       "\\item 0.165294073290212\n",
       "\\end{enumerate*}\n",
       "\n",
       "\\item[\\$mu] \\begin{enumerate*}\n",
       "\\item 1.52221235243686\n",
       "\\item 0.879725380902464\n",
       "\\item -5.04759992974212\n",
       "\\end{enumerate*}\n",
       "\n",
       "\\item[\\$sig] \\begin{enumerate*}\n",
       "\\item 2.50709630243734\n",
       "\\item 2.63158752985744\n",
       "\\item 1.05922066073083\n",
       "\\end{enumerate*}\n",
       "\n",
       "\\end{description}\n"
      ],
      "text/markdown": [
       "$pi\n",
       ":   1. 0.446731883703895\n",
       "2. 0.387974043005893\n",
       "3. 0.165294073290212\n",
       "\n",
       "\n",
       "\n",
       "$mu\n",
       ":   1. 1.52221235243686\n",
       "2. 0.879725380902464\n",
       "3. -5.04759992974212\n",
       "\n",
       "\n",
       "\n",
       "$sig\n",
       ":   1. 2.50709630243734\n",
       "2. 2.63158752985744\n",
       "3. 1.05922066073083\n",
       "\n",
       "\n",
       "\n",
       "\n",
       "\n"
      ],
      "text/plain": [
       "$pi\n",
       "[1] 0.4467319 0.3879740 0.1652941\n",
       "\n",
       "$mu\n",
       "[1]  1.5222124  0.8797254 -5.0475999\n",
       "\n",
       "$sig\n",
       "[1] 2.507096 2.631588 1.059221\n"
      ]
     },
     "metadata": {},
     "output_type": "display_data"
    }
   ],
   "source": [
    "EMgauss(obs,3)"
   ]
  },
  {
   "cell_type": "markdown",
   "metadata": {},
   "source": [
    "## Données réelles\n",
    "On reprend les données réelles vues en cours :\n",
    "- les données de longueurs d'ailes des passereaux (**ailes**)\n",
    "- les données du taux de chlorure dans le sang chez 542 personnes (**chlor**).\n",
    "\n",
    "Les données sont disponibles dans le fichier *donneesmelange.RData* que vous pouvez charger par l'instruction suivante : "
   ]
  },
  {
   "cell_type": "code",
   "execution_count": 19,
   "metadata": {},
   "outputs": [
    {
     "data": {
      "text/plain": [
       "ailes\n",
       "82 83 84 85 86 87 88 89 90 91 92 93 94 95 96 98 \n",
       " 5  3 12 36 55 45 21 13 15 34 59 48 16 12  6  1 "
      ]
     },
     "metadata": {},
     "output_type": "display_data"
    },
    {
     "data": {
      "text/plain": [
       "chlor\n",
       " 88  89  90  91  92  93  94  95  96  97  98  99 100 101 102 103 104 105 106 107 \n",
       "  2   3   4   5   7   5  13  13  27  36  40  72  68  80  47  43  33  19   6   6 \n",
       "108 109 111 113 115 \n",
       "  4   5   2   1   1 "
      ]
     },
     "metadata": {},
     "output_type": "display_data"
    }
   ],
   "source": [
    "load('donneesmelange.RData')\n",
    "table(ailes)\n",
    "table(chlor)"
   ]
  },
  {
   "cell_type": "markdown",
   "metadata": {},
   "source": [
    "## Question 6\n",
    "Pour chaque jeu de données :\n",
    "- tracer l'histogramme des données,\n",
    "- ajuster **une** loi normale aux données et rajouter-la à la figure\n",
    "- appliquer l'algorithme EM pour un mélange gaussiens d'ordre 2 et superposer la dénsité estimée à l'histogramme.\n",
    "- Commenter."
   ]
  },
  {
   "cell_type": "code",
   "execution_count": 20,
   "metadata": {},
   "outputs": [
    {
     "data": {
      "text/html": [
       "<dl>\n",
       "\t<dt>$pi</dt>\n",
       "\t\t<dd><ol class=list-inline>\n",
       "\t<li>0.505646281569469</li>\n",
       "\t<li>0.494353718430531</li>\n",
       "</ol>\n",
       "</dd>\n",
       "\t<dt>$mu</dt>\n",
       "\t\t<dd><ol class=list-inline>\n",
       "\t<li>92.3744622813846</li>\n",
       "\t<li>86.1961891264301</li>\n",
       "</ol>\n",
       "</dd>\n",
       "\t<dt>$sig</dt>\n",
       "\t\t<dd><ol class=list-inline>\n",
       "\t<li>1.54355083899552</li>\n",
       "\t<li>1.54329868706642</li>\n",
       "</ol>\n",
       "</dd>\n",
       "</dl>\n"
      ],
      "text/latex": [
       "\\begin{description}\n",
       "\\item[\\$pi] \\begin{enumerate*}\n",
       "\\item 0.505646281569469\n",
       "\\item 0.494353718430531\n",
       "\\end{enumerate*}\n",
       "\n",
       "\\item[\\$mu] \\begin{enumerate*}\n",
       "\\item 92.3744622813846\n",
       "\\item 86.1961891264301\n",
       "\\end{enumerate*}\n",
       "\n",
       "\\item[\\$sig] \\begin{enumerate*}\n",
       "\\item 1.54355083899552\n",
       "\\item 1.54329868706642\n",
       "\\end{enumerate*}\n",
       "\n",
       "\\end{description}\n"
      ],
      "text/markdown": [
       "$pi\n",
       ":   1. 0.505646281569469\n",
       "2. 0.494353718430531\n",
       "\n",
       "\n",
       "\n",
       "$mu\n",
       ":   1. 92.3744622813846\n",
       "2. 86.1961891264301\n",
       "\n",
       "\n",
       "\n",
       "$sig\n",
       ":   1. 1.54355083899552\n",
       "2. 1.54329868706642\n",
       "\n",
       "\n",
       "\n",
       "\n",
       "\n"
      ],
      "text/plain": [
       "$pi\n",
       "[1] 0.5056463 0.4943537\n",
       "\n",
       "$mu\n",
       "[1] 92.37446 86.19619\n",
       "\n",
       "$sig\n",
       "[1] 1.543551 1.543299\n"
      ]
     },
     "metadata": {},
     "output_type": "display_data"
    },
    {
     "data": {
      "image/png": "[encoded data removed]",
      "text/plain": [
       "Plot with title \"Histogram of ailes\""
      ]
     },
     "metadata": {},
     "output_type": "display_data"
    }
   ],
   "source": [
    "mu.ailes <- mean(ailes)\n",
    "sig.ailes <- sd(ailes)\n",
    "theta.ailes <- EMgauss(ailes,2)\n",
    "theta.ailes\n",
    "ymax <- max(c(dnorm(ailes,mu.ailes,sig.ailes),dnormmix(ailes,theta.ailes)))\n",
    "hist(ailes,freq=FALSE,ylim=c(0,ymax))\n",
    "curve(dnorm(x,mu.ailes,sig.ailes),add=TRUE,col='green')\n",
    "curve(dnormmix(x,theta.ailes),add=TRUE,col='red')"
   ]
  },
  {
   "cell_type": "code",
   "execution_count": 21,
   "metadata": {},
   "outputs": [
    {
     "data": {
      "text/html": [
       "<dl>\n",
       "\t<dt>$pi</dt>\n",
       "\t\t<dd><ol class=list-inline>\n",
       "\t<li>0.363064299123571</li>\n",
       "\t<li>0.636935700876429</li>\n",
       "</ol>\n",
       "</dd>\n",
       "\t<dt>$mu</dt>\n",
       "\t\t<dd><ol class=list-inline>\n",
       "\t<li>99.1108070514814</li>\n",
       "\t<li>100.480784870696</li>\n",
       "</ol>\n",
       "</dd>\n",
       "\t<dt>$sig</dt>\n",
       "\t\t<dd><ol class=list-inline>\n",
       "\t<li>5.02049122130728</li>\n",
       "\t<li>2.52425368890617</li>\n",
       "</ol>\n",
       "</dd>\n",
       "</dl>\n"
      ],
      "text/latex": [
       "\\begin{description}\n",
       "\\item[\\$pi] \\begin{enumerate*}\n",
       "\\item 0.363064299123571\n",
       "\\item 0.636935700876429\n",
       "\\end{enumerate*}\n",
       "\n",
       "\\item[\\$mu] \\begin{enumerate*}\n",
       "\\item 99.1108070514814\n",
       "\\item 100.480784870696\n",
       "\\end{enumerate*}\n",
       "\n",
       "\\item[\\$sig] \\begin{enumerate*}\n",
       "\\item 5.02049122130728\n",
       "\\item 2.52425368890617\n",
       "\\end{enumerate*}\n",
       "\n",
       "\\end{description}\n"
      ],
      "text/markdown": [
       "$pi\n",
       ":   1. 0.363064299123571\n",
       "2. 0.636935700876429\n",
       "\n",
       "\n",
       "\n",
       "$mu\n",
       ":   1. 99.1108070514814\n",
       "2. 100.480784870696\n",
       "\n",
       "\n",
       "\n",
       "$sig\n",
       ":   1. 5.02049122130728\n",
       "2. 2.52425368890617\n",
       "\n",
       "\n",
       "\n",
       "\n",
       "\n"
      ],
      "text/plain": [
       "$pi\n",
       "[1] 0.3630643 0.6369357\n",
       "\n",
       "$mu\n",
       "[1]  99.11081 100.48078\n",
       "\n",
       "$sig\n",
       "[1] 5.020491 2.524254\n"
      ]
     },
     "metadata": {},
     "output_type": "display_data"
    },
    {
     "data": {
      "image/png": "[encoded data removed]",
      "text/plain": [
       "Plot with title \"Histogram of chlor\""
      ]
     },
     "metadata": {},
     "output_type": "display_data"
    }
   ],
   "source": [
    "set.seed(1984)\n",
    "mu.chlor <- mean(chlor)\n",
    "sig.chlor <- sd(chlor)\n",
    "theta.chlor <- EMgauss(chlor,2,100)\n",
    "theta.chlor\n",
    "ymax <- max(c(dnorm(chlor,mu.chlor,sig.chlor),dnormmix(chlor,theta.chlor)))\n",
    "hist(chlor,freq=FALSE,ylim=c(0,ymax))\n",
    "curve(dnorm(x,mu.chlor,sig.chlor),add=TRUE,col='green')\n",
    "curve(dnormmix(x,theta.chlor),add=TRUE,col='red')"
   ]
  }
 ],
 "metadata": {
  "kernelspec": {
   "display_name": "R",
   "language": "R",
   "name": "ir"
  },
  "language_info": {
   "codemirror_mode": "r",
   "file_extension": ".r",
   "mimetype": "text/x-r-source",
   "name": "R",
   "pygments_lexer": "r",
   "version": "3.6.1"
  }
 },
 "nbformat": 4,
 "nbformat_minor": 1
}
