{
 "cells": [
  {
   "cell_type": "markdown",
   "metadata": {},
   "source": [
    "# Algorithme de Metropolis\n",
    "\n",
    "Soit $E$ un ensemble dénombrable et $\\mu$ une probabilité sur $E$. L'algorithme de Metropolis permet de construire une chaîne de Markov de probabilité invariante $\\mu$. \n",
    "\n",
    "Soit $P$ une matrice stochastique, dite de sélection (ou de proposition), qui permet de parcourir l'espace d'état $E$ et $\\rho$ la fonction définie par \n",
    "$$\n",
    "    \\forall x, y \\in E, \\quad \\rho(x, y) = \\frac{\\mu(y) P(y, x)}{\\mu(x) P(x, y)} \\wedge 1.\n",
    "$$\n",
    "On considère la matrice stochastique \n",
    "$$\n",
    "    Q(x, y) = \\begin{cases} \n",
    "        P(x, y) \\rho(x, y) & \\text{si $x \\neq y$} \\\\\n",
    "        1 - \\sum_{z \\neq x} Q(x, z) & \\text{si $x = y$}.\n",
    "    \\end{cases}\n",
    "$$\n",
    "\n",
    "Alors sous les hypothèses adhoc, la chaine de Markov $(Y_n)_{n \\ge 1}$ de transition $Q$ a pour unique probabilité invariante $\\mu$ et $(Y_n)_{n \\ge 1}$ converge en loi vers $\\mu$."
   ]
  },
  {
   "cell_type": "markdown",
   "metadata": {},
   "source": [
    "## Petit exemple sur $\\mathbf{Z}$\n",
    "\n",
    "On considère la probabilité $\\mu$ sur $E = \\mathbf{Z}$ définie par \n",
    "$$\n",
    "    \\forall x \\in \\mathbf{Z}, \\quad \\mu(x) = C \\exp \\bigl(- \\frac{|x|}{5}\\bigr).\n",
    "$$\n",
    "Soit $P$ la matrice de transition de la marche aléatoire symétrique sur $\\mathbf{Z}$ définie par $P(x, x-1) = P(x, x+1) = \\frac{1}{2}$.\n",
    "Implémenter l'algorithme de Metropolis pour simuler une trajectoire de la chaine $(Y_n)_{n \\ge 1}$ de loi invariante $\\mu$. Vous pourrez reproduire les graphes suivants pour vérifier la validité de votre code.\n",
    "![image](traj_metro.png)\n",
    "![image](hist_metro.png)"
   ]
  },
  {
   "cell_type": "code",
   "execution_count": 1,
   "metadata": {},
   "outputs": [
    {
     "data": {
      "image/png": "[encoded data removed]",
      "text/plain": [
       "Plot with title \"Une trajectoire de la chaine de matrice Q\""
      ]
     },
     "metadata": {},
     "output_type": "display_data"
    },
    {
     "data": {
      "image/png": "[encoded data removed]",
      "text/plain": [
       "Plot with title \"Histogramme sur 1000 réalisation de Y à l'itération 1000\""
      ]
     },
     "metadata": {},
     "output_type": "display_data"
    }
   ],
   "source": [
    "mu <- function(x) {\n",
    "    return(exp(-abs(x)/5))\n",
    "}\n",
    "\n",
    "# la fonction suivante code la simulation de Y_{n+1} à partir de Y_n = y\n",
    "phi <- function(y) {\n",
    "    prop <- y\n",
    "    if (runif(1) < 0.5) { prop <- y-1 }\n",
    "    else { prop <- y+1 }\n",
    "    v <- runif(1)\n",
    "    if (v < min(mu(prop) / mu(y), 1)) { return(prop) }\n",
    "    else { return(y) }\n",
    "}\n",
    "\n",
    "# une trajectoire jusqu'à l'itération n\n",
    "traj <- function(n) {\n",
    "    result <- numeric(n)\n",
    "    y <- 0\n",
    "    for (i in 1:n) {\n",
    "        y <- phi(y)\n",
    "        result[i] <- y\n",
    "    }\n",
    "    return(result)\n",
    "}\n",
    "\n",
    "n <- 1000\n",
    "plot(traj(n), type = \"s\", ylab = \"Etat y_n\", xlab = \"Iteration n\", main=\"Une trajectoire de la chaine de matrice Q\")\n",
    "Nsim <- 1000\n",
    "x <- replicate(Nsim, traj(n))\n",
    "barplot(table(x[n,]) / ncol(x), main=paste(\"Histogramme sur\", Nsim, \"réalisation de Y à l'itération\", n))"
   ]
  },
  {
   "cell_type": "markdown",
   "metadata": {},
   "source": [
    "# Algorithme du recuit simulé\n",
    "\n",
    "Soit $E$ fini et $H:E \\to \\mathbf{R}$ une fonction dont on cherche un minimum. On considère une mesure de Gibbs paramétrée par $T > 0$ de la forme\n",
    "$$\n",
    "    \\mu_T(x) = \\frac{1}{Z_T} \\exp \\bigl(- \\frac{H(x)}{T} \\bigr),\n",
    "$$\n",
    "où $Z_T$ est la constante de normalisation souvent appelée fonction de partition. Lorsque $T$ tend vers $0$ la mesure $\\mu_T$ se concentre sur l'ensemble des minimums de $H$, on considère donc une suite déterministe $(T_n)_{n \\ge 1}$ qui tend vers 0 et l'algorithme de Metropolis (inhomogène) suivant: \n",
    "\n",
    "$$\n",
    "    Q_n(x, y) = \\begin{cases} \n",
    "        P(x, y) \\exp \\Bigl( - \\frac{(H(y) - H(x))_+}{T_n} \\Bigr) & \\text{si $x \\neq y$} \\\\\n",
    "        1 - \\sum_{z \\neq x} Q_n(x, z) & \\text{si $x = y$}.\n",
    "    \\end{cases}\n",
    "$$\n",
    "\n",
    "où $P$ est une matrice stochastique _irréductible symétrique_."
   ]
  },
  {
   "cell_type": "markdown",
   "metadata": {},
   "source": [
    "## Problème du voyageur de commerce\n",
    "\n",
    "L'énoncé du problème du voyageur de commerce est le suivant : étant donné $N$ points (des « villes ») et les distances séparant chaque point, trouver un chemin de longueur totale minimale qui passe exactement une fois par chaque point et revienne au point de départ. La distance considérée ici est la distance euclidienne. \n",
    "\n",
    "Soit $N$ villes fixées représentées par un vecteur $V = (V_1, \\dots, V_N) \\in ([0,1]^2)^N$. Une composante de ce vecteur $V$ est la coordonnée d'une ville dans $[0,1]^2$ et la distance euclidienne $d$ entre 2 villes $V_i$ et $V_j$ est notée dans la suite $d(V_i, V_j)$. Un trajet est identifié par une permutation de $\\{1,\\dots,N\\}$.\n",
    "\n",
    "Ainsi $E = \\mathcal{S}_N$ l'ensemble des permutations de $\\{1,\\dots,N\\}$ et $H$ que l'on appelle ici la longueur d'un trajet $x \\in E$ est définie par \n",
    "$$\n",
    "    \\forall x \\in E, \\quad H(x) = \\sum_{i=1}^{N-1} d \\bigl(V_{x_i}, V_{x_{i+1}} \\bigr) + d \\bigl(V_{x_N}, V_{x_{1}} \\bigr)\n",
    "$$\n",
    "Pour information il y a ${\\rm Card}(H(E)) = \\frac{N !}{2 N}$ longueurs de trajets possibles. "
   ]
  },
  {
   "cell_type": "markdown",
   "metadata": {},
   "source": [
    "## Préparatifs\n",
    "\n",
    "* Récupérer la liste des coordonnées des villes du fichier \"villes.txt\" en utilisant la fonction `read.table` et afficher le nombre de longueurs de trajets possibles.\n",
    "\n",
    "* Coder une fonction `distance(i, j)` qui calcule la distance euclidienne entre les 2 villes $V_i$ et $V_j$.\n",
    "\n",
    "* Coder la fonction `H(x)` pour un vecteur `x` qui représente un trajet.\n",
    "\n",
    "* Coder une fonction `affiche(x)` qui affiche les villes et un trajet `x`. Voici l'affichage du trajet initial et d'un trajet optimal trouvé par l'algorithme. La première ville $V_1$ est indiquée en rouge et la longueur du chemin est affichée en utilisant 5 chiffres avec la commande \n",
    "```R \n",
    "format(H(x), digits = 5)\n",
    "```\n",
    "![image](villes.png)"
   ]
  },
  {
   "cell_type": "code",
   "execution_count": 2,
   "metadata": {},
   "outputs": [
    {
     "data": {
      "text/html": [
       "4.42088099686985e+30"
      ],
      "text/latex": [
       "4.42088099686985e+30"
      ],
      "text/markdown": [
       "4.42088099686985e+30"
      ],
      "text/plain": [
       "[1] 4.420881e+30"
      ]
     },
     "metadata": {},
     "output_type": "display_data"
    }
   ],
   "source": [
    "villes <- read.table(\"villes.txt\")\n",
    "N <- nrow(villes)\n",
    "factorial(N) / (2*N)"
   ]
  },
  {
   "cell_type": "code",
   "execution_count": 3,
   "metadata": {},
   "outputs": [],
   "source": [
    "distance <- function(i, j) {\n",
    "    return(sqrt((villes[i,1]-villes[j,1])^2 + (villes[i,2]-villes[j,2])^2))\n",
    "}\n",
    "\n",
    "H <- function(x) {\n",
    "    sum <- distance(x[N], x[1])\n",
    "    for (i in 1:(N-1)) {\n",
    "        sum <- sum + distance(x[i], x[i+1])\n",
    "    }\n",
    "    return(sum)\n",
    "}\n",
    "\n",
    "affiche <- function(x) {\n",
    "    longueur <- format(H(x), digits = 5)\n",
    "    plot(villes[,1], villes[,2], col = \"blue\", xlab = NA, ylab = NA, main = paste(\"Chemin de longueur\", longueur))\n",
    "    points(villes[1,1], villes[1,2], col = \"red\")\n",
    "    u <- c(villes[x, 1], villes[x[1], 1])\n",
    "    v <- c(villes[x, 2], villes[x[1], 2])\n",
    "    lines(u, v, col = \"grey\")\n",
    "}"
   ]
  },
  {
   "cell_type": "code",
   "execution_count": 4,
   "metadata": {},
   "outputs": [
    {
     "data": {
      "image/png": "[encoded data removed]",
      "text/plain": [
       "Plot with title \"Chemin de longueur 16.278\""
      ]
     },
     "metadata": {},
     "output_type": "display_data"
    }
   ],
   "source": [
    "affiche(1:N)"
   ]
  },
  {
   "cell_type": "markdown",
   "metadata": {},
   "source": [
    "## Recuit simulé\n",
    "\n",
    "Pour mettre en oeuvre l'algorithme de recuit simulé il faut choisir une matrice de sélection $P$ pour parcourir l'espace et une suite $(T_n)_{n \\ge 1}$ qui tend vers 0. Dans un premier temps on définit la fonction de température $T$ de la façon suivante:\n",
    "```R\n",
    "T <- function(n) { return(0.01 / log(n)) }\n",
    "```\n",
    "\n",
    "### Première matrice de transition\n",
    "La première matrice de transition que l'on considère est la plus intuitive. Etant donné un trajet $x$ on tire 2 indices $i$ et $j$ de $\\{1,\\dots,N\\}$ et on échange ces indices c'est à dire qu'on propose le trajet voisin $y$ définit si $i < j$ (par exemple) par  \n",
    "$$\n",
    "    y = (x_1, \\dots, x_{i-1}, x_{j}, x_{i+1}, \\dots, x_{j-1}, x_{i}, x_{j+1}, \\dots, x_N)\n",
    "$$\n",
    "Coder une fonction `P1` qui prend un trajet `x` et qui renvoie un trajet voisin `y`.\n",
    "\n",
    "Coder une fonction `Q(P, T, x, n)` qui prend 4 arguments: `P` la matrice de sélection, `T` la fonction de température, `x` le trajet courant et `n` l'itération courante et qui renvoie le trajet à l'itération `n+1`.\n"
   ]
  },
  {
   "cell_type": "code",
   "execution_count": 5,
   "metadata": {},
   "outputs": [],
   "source": [
    "P1 <- function(path) {\n",
    "    ec <- sample(1:N, 2, replace = TRUE)\n",
    "    path[ec] <- path[rev(ec)]\n",
    "    return(path)\n",
    "}\n",
    "\n",
    "Q <- function(P, T, x, n) {\n",
    "    y <- P(x)\n",
    "    delta <- H(y) - H(x)\n",
    "    if (delta < 0) { return(y) } \n",
    "    if (runif(1) < exp(-delta / T(n))) { return(y) } \n",
    "    else { return(x) }\n",
    "}"
   ]
  },
  {
   "cell_type": "markdown",
   "metadata": {},
   "source": [
    "Coder l'algorithme de Métropolis en faisant $N_0 = 1000$ appels successifs de la fonction `Q` et en sauvant les longueurs des différents trajets retenus dans un vecteur de taille $N_0$. Vous devez reproduire un affichage semblable à celui-ci. On arrête l'algorithme à $N_0 = 1000$ pour que le calcul ne prenne pas trop de temps mais il faudrait continuer un peu. Le langage `R` est lent à l'execution et pour un tel problème il est recommandé d'utiliser un langage compilé comme le `C++` (ici on illustre seulement l'algorithme).\n",
    "![image](chemin_P1.png)"
   ]
  },
  {
   "cell_type": "code",
   "execution_count": 6,
   "metadata": {},
   "outputs": [
    {
     "data": {
      "text/html": [
       "<ol class=list-inline>\n",
       "\t<li>26</li>\n",
       "\t<li>2</li>\n",
       "\t<li>22</li>\n",
       "\t<li>4</li>\n",
       "\t<li>21</li>\n",
       "\t<li>10</li>\n",
       "\t<li>25</li>\n",
       "\t<li>16</li>\n",
       "\t<li>9</li>\n",
       "\t<li>30</li>\n",
       "\t<li>6</li>\n",
       "\t<li>28</li>\n",
       "\t<li>11</li>\n",
       "\t<li>7</li>\n",
       "\t<li>15</li>\n",
       "\t<li>14</li>\n",
       "\t<li>12</li>\n",
       "\t<li>8</li>\n",
       "\t<li>17</li>\n",
       "\t<li>20</li>\n",
       "\t<li>1</li>\n",
       "\t<li>3</li>\n",
       "\t<li>23</li>\n",
       "\t<li>13</li>\n",
       "\t<li>27</li>\n",
       "\t<li>19</li>\n",
       "\t<li>24</li>\n",
       "\t<li>5</li>\n",
       "\t<li>29</li>\n",
       "\t<li>18</li>\n",
       "</ol>\n"
      ],
      "text/latex": [
       "\\begin{enumerate*}\n",
       "\\item 26\n",
       "\\item 2\n",
       "\\item 22\n",
       "\\item 4\n",
       "\\item 21\n",
       "\\item 10\n",
       "\\item 25\n",
       "\\item 16\n",
       "\\item 9\n",
       "\\item 30\n",
       "\\item 6\n",
       "\\item 28\n",
       "\\item 11\n",
       "\\item 7\n",
       "\\item 15\n",
       "\\item 14\n",
       "\\item 12\n",
       "\\item 8\n",
       "\\item 17\n",
       "\\item 20\n",
       "\\item 1\n",
       "\\item 3\n",
       "\\item 23\n",
       "\\item 13\n",
       "\\item 27\n",
       "\\item 19\n",
       "\\item 24\n",
       "\\item 5\n",
       "\\item 29\n",
       "\\item 18\n",
       "\\end{enumerate*}\n"
      ],
      "text/markdown": [
       "1. 26\n",
       "2. 2\n",
       "3. 22\n",
       "4. 4\n",
       "5. 21\n",
       "6. 10\n",
       "7. 25\n",
       "8. 16\n",
       "9. 9\n",
       "10. 30\n",
       "11. 6\n",
       "12. 28\n",
       "13. 11\n",
       "14. 7\n",
       "15. 15\n",
       "16. 14\n",
       "17. 12\n",
       "18. 8\n",
       "19. 17\n",
       "20. 20\n",
       "21. 1\n",
       "22. 3\n",
       "23. 23\n",
       "24. 13\n",
       "25. 27\n",
       "26. 19\n",
       "27. 24\n",
       "28. 5\n",
       "29. 29\n",
       "30. 18\n",
       "\n",
       "\n"
      ],
      "text/plain": [
       " [1] 26  2 22  4 21 10 25 16  9 30  6 28 11  7 15 14 12  8 17 20  1  3 23 13 27\n",
       "[26] 19 24  5 29 18"
      ]
     },
     "metadata": {},
     "output_type": "display_data"
    },
    {
     "data": {
      "image/png": "[encoded data removed]",
      "text/plain": [
       "Plot with title \"Longueur en fonction de n\""
      ]
     },
     "metadata": {},
     "output_type": "display_data"
    }
   ],
   "source": [
    "T <- function(n) { return(0.01 / log(n)) }\n",
    "x <- 1:N\n",
    "N0 <- 1000\n",
    "longueurs <- numeric(N0)\n",
    "for (n in 1:N0) {\n",
    "    x <- Q(P1, T, x, n)\n",
    "    longueurs[n] <- H(x)\n",
    "}\n",
    "x\n",
    "#png(\"chemin_P1.png\", width = 800)\n",
    "par(mfrow = c(1,2))\n",
    "affiche(x)\n",
    "plot(longueurs, type = \"l\", ylab=NA, xlab=NA, main=\"Longueur en fonction de n\")"
   ]
  },
  {
   "cell_type": "markdown",
   "metadata": {},
   "source": [
    "### Variantes sur la matrice de sélection\n",
    "\n",
    "* La première variante consiste à supprimer le cas où l'on propose en $n+1$ un trajet similaire à celui en $n$. C'est le cas avec la matrice $P_1$ car $P_1(x, x) = \\frac{1}{N} > 0$. Pour cela il suffit de tirer 2 indices $i$ et $j$ de $\\{1,\\dots,N\\}$ sans remise, et on aura donc $i \\neq j$. \n",
    "\n",
    "Coder une fonction `P2` similaire à `P1` qui correspond à cette matrice de sélection.\n",
    "\n",
    "* La seconde variante consiste à partir de 2 indices $i$ et $j$ différents de couper le trajet en ces indices et de retourner le trajet entre ces 2 indices. Ainsi le trajet voisin proposé $y$ à partir de $x$ est défini par \n",
    "$$\n",
    "    y = (x_1, \\dots, x_{i-1}, x_{j}, x_{j-11}, \\dots, x_{i+1}, x_{i}, x_{j+1}, \\dots, x_N)\n",
    "$$\n",
    "\n",
    "Coder une fonction `P3` qui correspond à cette matrice de sélection.\n"
   ]
  },
  {
   "cell_type": "code",
   "execution_count": 7,
   "metadata": {},
   "outputs": [],
   "source": [
    "P2 <- function(path) {\n",
    "    ec <- sample(1:N, 2, replace = FALSE)\n",
    "    path[ec] <- path[rev(ec)]\n",
    "    return(path)\n",
    "}\n",
    "\n",
    "P3 <- function(path) {\n",
    "    ec <- sample(1:N, 2, replace = FALSE)\n",
    "    indices <- min(ec):max(ec)\n",
    "    path[indices] <- path[rev(indices)]\n",
    "    return(path)\n",
    "}"
   ]
  },
  {
   "cell_type": "markdown",
   "metadata": {},
   "source": [
    "Tester ces matrices de sélection avec plusieurs réalisations de l'algorithme de Metropolis.\n",
    "\n",
    "Le meilleur trajet trouvé avec la matrice de sélection $P_3$ et $N_0 = 5000$ itérations est le trajet stocké dans le fichier \"best.txt\". Vous pouvez l'afficher en tapant \n",
    "```R\n",
    "x <- read.table(\"best.txt\")\n",
    "affiche(x$V2)\n",
    "```"
   ]
  },
  {
   "cell_type": "code",
   "execution_count": 8,
   "metadata": {},
   "outputs": [
    {
     "data": {
      "image/png": "[encoded data removed]",
      "text/plain": [
       "Plot with title \"Chemin de longueur 4.7727\""
      ]
     },
     "metadata": {},
     "output_type": "display_data"
    }
   ],
   "source": [
    "x <- read.table(\"best.txt\")\n",
    "affiche(x$V2)"
   ]
  }
 ],
 "metadata": {
  "kernelspec": {
   "display_name": "R",
   "language": "R",
   "name": "ir"
  },
  "language_info": {
   "codemirror_mode": "r",
   "file_extension": ".r",
   "mimetype": "text/x-r-source",
   "name": "R",
   "pygments_lexer": "r",
   "version": "3.6.1"
  }
 },
 "nbformat": 4,
 "nbformat_minor": 1
}
