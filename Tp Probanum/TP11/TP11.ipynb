{
 "cells": [
  {
   "cell_type": "markdown",
   "metadata": {},
   "source": [
    "## Echantillonneur de Gibbs pour mélange gaussien\n",
    "\n",
    "\n",
    "Considèrons un mélange gaussien d'ordre $K$ dans un contexte de statistique bayésienne.  \n",
    "\n",
    "### Modèle\n",
    "Notons les  paramètres d'un mélange gaussien par\n",
    "$$\\theta=(\\underline \\pi,\\underline \\mu,\\underline\\sigma^2)=\\left(\\pi_1,\\dots,\\pi_K,\\mu_1,\\dots,\\mu_K,\\sigma_1^2,\\dots,\\sigma_K^2\\right),$$\n",
    "où $0<\\pi_k<1$, $\\sum_{k=1}^K\\pi_k=1$, $\\mu_k\\in\\mathbb R$ et $\\sigma_k^2>0$, $k=1,\\dots,K$. \n",
    "\n",
    "On considère le modèle suivant:\n",
    "\\begin{align*}\n",
    "\\theta&\\sim\\pi(\\theta)\\\\\n",
    "z_i|\\theta&\\sim \\sum_{k=1}^K\\pi_k\\delta_{\\{k\\}},\\quad i=1,\\dots,n\\\\\n",
    "x_i|z_i,\\theta&\\sim \\mathcal N(\\mu_{z_i},\\sigma^2_{z_i}),\\quad i=1,\\dots,n.\n",
    "\\end{align*}\n",
    "\n",
    "### Loi a priori\n",
    "On utilise la loi a priori de $\\theta$ suivante :\n",
    "$$\\pi(\\theta)=\\pi(\\underline\\pi)\\pi(\\underline\\mu|\\underline\\sigma^2)\\pi(\\underline\\sigma^2)\n",
    "=\\pi(\\underline\\pi)\\prod_{k=1}^K\\pi(\\mu_k|\\sigma^2_k)\\pi(\\sigma_k^2)\n",
    "$$\n",
    "avec\n",
    "$$\\underline\\pi \\sim \\mathcal D(\\gamma_1,\\dots,\\gamma_K),\\qquad\n",
    "\\mu_k|\\sigma^2_k\\sim\\mathcal N\\left(\\alpha_k,\\frac{\\sigma_k^2}{\\lambda_k}\\right),\\qquad\n",
    "\\sigma_k^2\\sim \\mathcal{IG}\\left(\\frac{\\lambda_k}2,\\frac{\\beta_k}2\\right),$$\n",
    "où $\\mathcal{IG}(\\alpha,\\beta)$ désigne la loi Gamma inverse de densité\n",
    "$$f(x)=\\frac{\\beta^\\alpha}{\\Gamma(\\alpha)}x^{-\\alpha-1}\\exp\\left\\{-\\frac\\beta x\\right\\},\\qquad x>0.$$\n",
    "L'ensemble des hyperparamètres est\n",
    "$$\n",
    "\\psi =(\\gamma_1,\\dots,\\gamma_K, \\alpha_1,\\dots,\\alpha_K,\\lambda_1,\\dots,\\lambda_K,\\beta_1,\\dots,\\beta_K),\n",
    "$$\n",
    "où $\\gamma_k>0$, $\\alpha_k\\in\\mathbb R$, $\\lambda_k>0$ et $\\beta_k>0$.\n",
    "\n",
    "\n",
    "### Simulation \n",
    "Pour simuler de la loi de Dirichlet on utilisera la fonction **rdirichlet(n,gamma)** du package **gtools** que l'on charge par la commande :"
   ]
  },
  {
   "cell_type": "code",
   "execution_count": 1,
   "metadata": {},
   "outputs": [
    {
     "name": "stderr",
     "output_type": "stream",
     "text": [
      "Warning message:\n",
      "\"package 'gtools' was built under R version 3.6.3\""
     ]
    }
   ],
   "source": [
    "library(gtools)"
   ]
  },
  {
   "cell_type": "markdown",
   "metadata": {},
   "source": [
    "Pour simuler de  la loi Gamma inverse, on note la propriété suivante :\n",
    "$$X\\sim\\mathcal{IG}(\\alpha,\\beta)\\Longleftrightarrow \\frac1X\\sim\\Gamma(\\alpha,\\beta).$$\n",
    "\n",
    "# Question 1\n",
    "- Ecrire une fonction **rthetaB** pour générer un paramètre $\\theta$ selon la loi a priori $\\pi(\\theta)$ donnée ci-dessus. La fonction prend en argument une liste **psi** contenant les valeurs des hyperparamètres de la forme :\n",
    "```R\n",
    "psi <- list(gamma=c(1,1,1), alpha=c(1,1,1), lambda=c(2,2,2), beta=c(1,1,1))\n",
    "```\n",
    "- Jouer avec les valeurs des hyperparamètres. Comment choisir les paramètres pour avoir beaucoup/très peu de variabilité ? Comment choisir les $\\gamma_k$ pour obtenir des proportions de groupe relativement équilibrées ? Comment choisir les autres paramètres pour \n",
    "que les variances $\\sigma_k^2$ soient grandes/petites ? \n",
    "Et pour des moyennes $\\mu_k$ relativement distinctes ? "
   ]
  },
  {
   "cell_type": "code",
   "execution_count": 2,
   "metadata": {},
   "outputs": [],
   "source": [
    "rthetaB <- function(psi){\n",
    "    \n",
    "    return(theta)\n",
    "}"
   ]
  },
  {
   "cell_type": "code",
   "execution_count": 3,
   "metadata": {},
   "outputs": [],
   "source": [
    "rthetaB <- function(psi){\n",
    "  K <- length(psi$gamma)\n",
    "  pi <- as.vector(rdirichlet(1,psi$gamma))\n",
    "  sig2 <- 1/rgamma(K,psi$lambda/2, psi$beta/2)\n",
    "  mu <- rnorm(K,psi$alpha,sig2/psi$lambda)\n",
    "  theta <- list(pi=pi,mu=mu,sig=sqrt(sig2))\n",
    "  return(theta)\n",
    "}"
   ]
  },
  {
   "cell_type": "code",
   "execution_count": 4,
   "metadata": {},
   "outputs": [
    {
     "data": {
      "text/html": [
       "<dl>\n",
       "\t<dt>$pi</dt>\n",
       "\t\t<dd><ol class=list-inline>\n",
       "\t<li>1.33023727063741e-07</li>\n",
       "\t<li>0.992690380869965</li>\n",
       "\t<li>0.00730948610630792</li>\n",
       "</ol>\n",
       "</dd>\n",
       "\t<dt>$mu</dt>\n",
       "\t\t<dd><ol class=list-inline>\n",
       "\t<li>-0.668603059483686</li>\n",
       "\t<li>-112.961971827481</li>\n",
       "\t<li>47.8343828899895</li>\n",
       "</ol>\n",
       "</dd>\n",
       "\t<dt>$sig</dt>\n",
       "\t\t<dd><ol class=list-inline>\n",
       "\t<li>0.660592774753257</li>\n",
       "\t<li>6.27952555829803</li>\n",
       "\t<li>4.91692699200362</li>\n",
       "</ol>\n",
       "</dd>\n",
       "</dl>\n"
      ],
      "text/latex": [
       "\\begin{description}\n",
       "\\item[\\$pi] \\begin{enumerate*}\n",
       "\\item 1.33023727063741e-07\n",
       "\\item 0.992690380869965\n",
       "\\item 0.00730948610630792\n",
       "\\end{enumerate*}\n",
       "\n",
       "\\item[\\$mu] \\begin{enumerate*}\n",
       "\\item -0.668603059483686\n",
       "\\item -112.961971827481\n",
       "\\item 47.8343828899895\n",
       "\\end{enumerate*}\n",
       "\n",
       "\\item[\\$sig] \\begin{enumerate*}\n",
       "\\item 0.660592774753257\n",
       "\\item 6.27952555829803\n",
       "\\item 4.91692699200362\n",
       "\\end{enumerate*}\n",
       "\n",
       "\\end{description}\n"
      ],
      "text/markdown": [
       "$pi\n",
       ":   1. 1.33023727063741e-07\n",
       "2. 0.992690380869965\n",
       "3. 0.00730948610630792\n",
       "\n",
       "\n",
       "\n",
       "$mu\n",
       ":   1. -0.668603059483686\n",
       "2. -112.961971827481\n",
       "3. 47.8343828899895\n",
       "\n",
       "\n",
       "\n",
       "$sig\n",
       ":   1. 0.660592774753257\n",
       "2. 6.27952555829803\n",
       "3. 4.91692699200362\n",
       "\n",
       "\n",
       "\n",
       "\n",
       "\n"
      ],
      "text/plain": [
       "$pi\n",
       "[1] 1.330237e-07 9.926904e-01 7.309486e-03\n",
       "\n",
       "$mu\n",
       "[1]   -0.6686031 -112.9619718   47.8343829\n",
       "\n",
       "$sig\n",
       "[1] 0.6605928 6.2795256 4.9169270\n"
      ]
     },
     "metadata": {},
     "output_type": "display_data"
    }
   ],
   "source": [
    "# bcp de variabilité avec le psi suivant :\n",
    "psi <- list(gamma=c(1,1,1)*.1, alpha=c(1,1,1), lambda=c(1,1,1)*.5, beta=c(1,1,1))\n",
    "rthetaB(psi)"
   ]
  },
  {
   "cell_type": "code",
   "execution_count": 5,
   "metadata": {},
   "outputs": [
    {
     "data": {
      "text/html": [
       "<dl>\n",
       "\t<dt>$pi</dt>\n",
       "\t\t<dd><ol class=list-inline>\n",
       "\t<li>0.521351569200148</li>\n",
       "\t<li>0.323038764827853</li>\n",
       "\t<li>0.155609665971999</li>\n",
       "</ol>\n",
       "</dd>\n",
       "\t<dt>$mu</dt>\n",
       "\t\t<dd><ol class=list-inline>\n",
       "\t<li>0.999932354415246</li>\n",
       "\t<li>0.999937670651392</li>\n",
       "\t<li>1.00017859781854</li>\n",
       "</ol>\n",
       "</dd>\n",
       "\t<dt>$sig</dt>\n",
       "\t\t<dd><ol class=list-inline>\n",
       "\t<li>0.0967259076929786</li>\n",
       "\t<li>0.101930988774773</li>\n",
       "\t<li>0.108635630780999</li>\n",
       "</ol>\n",
       "</dd>\n",
       "</dl>\n"
      ],
      "text/latex": [
       "\\begin{description}\n",
       "\\item[\\$pi] \\begin{enumerate*}\n",
       "\\item 0.521351569200148\n",
       "\\item 0.323038764827853\n",
       "\\item 0.155609665971999\n",
       "\\end{enumerate*}\n",
       "\n",
       "\\item[\\$mu] \\begin{enumerate*}\n",
       "\\item 0.999932354415246\n",
       "\\item 0.999937670651392\n",
       "\\item 1.00017859781854\n",
       "\\end{enumerate*}\n",
       "\n",
       "\\item[\\$sig] \\begin{enumerate*}\n",
       "\\item 0.0967259076929786\n",
       "\\item 0.101930988774773\n",
       "\\item 0.108635630780999\n",
       "\\end{enumerate*}\n",
       "\n",
       "\\end{description}\n"
      ],
      "text/markdown": [
       "$pi\n",
       ":   1. 0.521351569200148\n",
       "2. 0.323038764827853\n",
       "3. 0.155609665971999\n",
       "\n",
       "\n",
       "\n",
       "$mu\n",
       ":   1. 0.999932354415246\n",
       "2. 0.999937670651392\n",
       "3. 1.00017859781854\n",
       "\n",
       "\n",
       "\n",
       "$sig\n",
       ":   1. 0.0967259076929786\n",
       "2. 0.101930988774773\n",
       "3. 0.108635630780999\n",
       "\n",
       "\n",
       "\n",
       "\n",
       "\n"
      ],
      "text/plain": [
       "$pi\n",
       "[1] 0.5213516 0.3230388 0.1556097\n",
       "\n",
       "$mu\n",
       "[1] 0.9999324 0.9999377 1.0001786\n",
       "\n",
       "$sig\n",
       "[1] 0.09672591 0.10193099 0.10863563\n"
      ]
     },
     "metadata": {},
     "output_type": "display_data"
    }
   ],
   "source": [
    "# très peu de variabilité avec le psi suivant :\n",
    "psi <- list(gamma=c(3,2,1)*100, alpha=c(1,1,1), lambda=c(1,1,1)*100, beta=c(1,1,1))\n",
    "rthetaB(psi)"
   ]
  },
  {
   "cell_type": "code",
   "execution_count": 6,
   "metadata": {},
   "outputs": [
    {
     "data": {
      "text/html": [
       "<dl>\n",
       "\t<dt>$pi</dt>\n",
       "\t\t<dd><ol class=list-inline>\n",
       "\t<li>0.287457197190055</li>\n",
       "\t<li>0.352538336479669</li>\n",
       "\t<li>0.360004466330275</li>\n",
       "</ol>\n",
       "</dd>\n",
       "\t<dt>$mu</dt>\n",
       "\t\t<dd><ol class=list-inline>\n",
       "\t<li>1.00004015839254</li>\n",
       "\t<li>1.00005126781203</li>\n",
       "\t<li>0.9998749460052</li>\n",
       "</ol>\n",
       "</dd>\n",
       "\t<dt>$sig</dt>\n",
       "\t\t<dd><ol class=list-inline>\n",
       "\t<li>0.105782190905997</li>\n",
       "\t<li>0.106821672585931</li>\n",
       "\t<li>0.105068997728087</li>\n",
       "</ol>\n",
       "</dd>\n",
       "</dl>\n"
      ],
      "text/latex": [
       "\\begin{description}\n",
       "\\item[\\$pi] \\begin{enumerate*}\n",
       "\\item 0.287457197190055\n",
       "\\item 0.352538336479669\n",
       "\\item 0.360004466330275\n",
       "\\end{enumerate*}\n",
       "\n",
       "\\item[\\$mu] \\begin{enumerate*}\n",
       "\\item 1.00004015839254\n",
       "\\item 1.00005126781203\n",
       "\\item 0.9998749460052\n",
       "\\end{enumerate*}\n",
       "\n",
       "\\item[\\$sig] \\begin{enumerate*}\n",
       "\\item 0.105782190905997\n",
       "\\item 0.106821672585931\n",
       "\\item 0.105068997728087\n",
       "\\end{enumerate*}\n",
       "\n",
       "\\end{description}\n"
      ],
      "text/markdown": [
       "$pi\n",
       ":   1. 0.287457197190055\n",
       "2. 0.352538336479669\n",
       "3. 0.360004466330275\n",
       "\n",
       "\n",
       "\n",
       "$mu\n",
       ":   1. 1.00004015839254\n",
       "2. 1.00005126781203\n",
       "3. 0.9998749460052\n",
       "\n",
       "\n",
       "\n",
       "$sig\n",
       ":   1. 0.105782190905997\n",
       "2. 0.106821672585931\n",
       "3. 0.105068997728087\n",
       "\n",
       "\n",
       "\n",
       "\n",
       "\n"
      ],
      "text/plain": [
       "$pi\n",
       "[1] 0.2874572 0.3525383 0.3600045\n",
       "\n",
       "$mu\n",
       "[1] 1.0000402 1.0000513 0.9998749\n",
       "\n",
       "$sig\n",
       "[1] 0.1057822 0.1068217 0.1050690\n"
      ]
     },
     "metadata": {},
     "output_type": "display_data"
    }
   ],
   "source": [
    "# pour des pi équilibrés : tous les gamma_k identiques (et une grande valeur pour gamma_k)\n",
    "psi <- list(gamma=c(1,1,1)*30, alpha=c(1,1,1), lambda=c(1,1,1)*100, beta=c(1,1,1))\n",
    "rthetaB(psi)"
   ]
  },
  {
   "cell_type": "code",
   "execution_count": 7,
   "metadata": {},
   "outputs": [
    {
     "data": {
      "text/html": [
       "<dl>\n",
       "\t<dt>$pi</dt>\n",
       "\t\t<dd><ol class=list-inline>\n",
       "\t<li>0.353618655561062</li>\n",
       "\t<li>0.353503662645449</li>\n",
       "\t<li>0.292877681793489</li>\n",
       "</ol>\n",
       "</dd>\n",
       "\t<dt>$mu</dt>\n",
       "\t\t<dd><ol class=list-inline>\n",
       "\t<li>-42442.1824179112</li>\n",
       "\t<li>-8335.6730474943</li>\n",
       "\t<li>503.046805669154</li>\n",
       "</ol>\n",
       "</dd>\n",
       "\t<dt>$sig</dt>\n",
       "\t\t<dd><ol class=list-inline>\n",
       "\t<li>163.691285490899</li>\n",
       "\t<li>70.3715021023882</li>\n",
       "\t<li>15.8371189732237</li>\n",
       "</ol>\n",
       "</dd>\n",
       "</dl>\n"
      ],
      "text/latex": [
       "\\begin{description}\n",
       "\\item[\\$pi] \\begin{enumerate*}\n",
       "\\item 0.353618655561062\n",
       "\\item 0.353503662645449\n",
       "\\item 0.292877681793489\n",
       "\\end{enumerate*}\n",
       "\n",
       "\\item[\\$mu] \\begin{enumerate*}\n",
       "\\item -42442.1824179112\n",
       "\\item -8335.6730474943\n",
       "\\item 503.046805669154\n",
       "\\end{enumerate*}\n",
       "\n",
       "\\item[\\$sig] \\begin{enumerate*}\n",
       "\\item 163.691285490899\n",
       "\\item 70.3715021023882\n",
       "\\item 15.8371189732237\n",
       "\\end{enumerate*}\n",
       "\n",
       "\\end{description}\n"
      ],
      "text/markdown": [
       "$pi\n",
       ":   1. 0.353618655561062\n",
       "2. 0.353503662645449\n",
       "3. 0.292877681793489\n",
       "\n",
       "\n",
       "\n",
       "$mu\n",
       ":   1. -42442.1824179112\n",
       "2. -8335.6730474943\n",
       "3. 503.046805669154\n",
       "\n",
       "\n",
       "\n",
       "$sig\n",
       ":   1. 163.691285490899\n",
       "2. 70.3715021023882\n",
       "3. 15.8371189732237\n",
       "\n",
       "\n",
       "\n",
       "\n",
       "\n"
      ],
      "text/plain": [
       "$pi\n",
       "[1] 0.3536187 0.3535037 0.2928777\n",
       "\n",
       "$mu\n",
       "[1] -42442.1824  -8335.6730    503.0468\n",
       "\n",
       "$sig\n",
       "[1] 163.69129  70.37150  15.83712\n"
      ]
     },
     "metadata": {},
     "output_type": "display_data"
    }
   ],
   "source": [
    "psi <- list(gamma=c(1,1,1)*30, alpha=c(1,1,1), lambda=c(1,1,1), beta=c(1,1,1)*100)\n",
    "rthetaB(psi)"
   ]
  },
  {
   "cell_type": "code",
   "execution_count": 8,
   "metadata": {},
   "outputs": [
    {
     "data": {
      "text/html": [
       "<dl>\n",
       "\t<dt>$pi</dt>\n",
       "\t\t<dd><ol class=list-inline>\n",
       "\t<li>0.362983372403637</li>\n",
       "\t<li>0.331810583931623</li>\n",
       "\t<li>0.30520604366474</li>\n",
       "</ol>\n",
       "</dd>\n",
       "\t<dt>$mu</dt>\n",
       "\t\t<dd><ol class=list-inline>\n",
       "\t<li>0.999980210918887</li>\n",
       "\t<li>9.99988675652869</li>\n",
       "\t<li>19.9999954419017</li>\n",
       "</ol>\n",
       "</dd>\n",
       "\t<dt>$sig</dt>\n",
       "\t\t<dd><ol class=list-inline>\n",
       "\t<li>0.100288291949597</li>\n",
       "\t<li>0.0996444062673113</li>\n",
       "\t<li>0.104582475527162</li>\n",
       "</ol>\n",
       "</dd>\n",
       "</dl>\n"
      ],
      "text/latex": [
       "\\begin{description}\n",
       "\\item[\\$pi] \\begin{enumerate*}\n",
       "\\item 0.362983372403637\n",
       "\\item 0.331810583931623\n",
       "\\item 0.30520604366474\n",
       "\\end{enumerate*}\n",
       "\n",
       "\\item[\\$mu] \\begin{enumerate*}\n",
       "\\item 0.999980210918887\n",
       "\\item 9.99988675652869\n",
       "\\item 19.9999954419017\n",
       "\\end{enumerate*}\n",
       "\n",
       "\\item[\\$sig] \\begin{enumerate*}\n",
       "\\item 0.100288291949597\n",
       "\\item 0.0996444062673113\n",
       "\\item 0.104582475527162\n",
       "\\end{enumerate*}\n",
       "\n",
       "\\end{description}\n"
      ],
      "text/markdown": [
       "$pi\n",
       ":   1. 0.362983372403637\n",
       "2. 0.331810583931623\n",
       "3. 0.30520604366474\n",
       "\n",
       "\n",
       "\n",
       "$mu\n",
       ":   1. 0.999980210918887\n",
       "2. 9.99988675652869\n",
       "3. 19.9999954419017\n",
       "\n",
       "\n",
       "\n",
       "$sig\n",
       ":   1. 0.100288291949597\n",
       "2. 0.0996444062673113\n",
       "3. 0.104582475527162\n",
       "\n",
       "\n",
       "\n",
       "\n",
       "\n"
      ],
      "text/plain": [
       "$pi\n",
       "[1] 0.3629834 0.3318106 0.3052060\n",
       "\n",
       "$mu\n",
       "[1]  0.9999802  9.9998868 19.9999954\n",
       "\n",
       "$sig\n",
       "[1] 0.10028829 0.09964441 0.10458248\n"
      ]
     },
     "metadata": {},
     "output_type": "display_data"
    },
    {
     "data": {
      "text/html": [
       "<dl>\n",
       "\t<dt>$pi</dt>\n",
       "\t\t<dd><ol class=list-inline>\n",
       "\t<li>0.332259011338588</li>\n",
       "\t<li>0.296028623339861</li>\n",
       "\t<li>0.371712365321551</li>\n",
       "</ol>\n",
       "</dd>\n",
       "\t<dt>$mu</dt>\n",
       "\t\t<dd><ol class=list-inline>\n",
       "\t<li>1.00080523710472</li>\n",
       "\t<li>1.00283380912644</li>\n",
       "\t<li>1.00977315781772</li>\n",
       "</ol>\n",
       "</dd>\n",
       "\t<dt>$sig</dt>\n",
       "\t\t<dd><ol class=list-inline>\n",
       "\t<li>0.983740843256017</li>\n",
       "\t<li>0.981952438428005</li>\n",
       "\t<li>0.947104556035546</li>\n",
       "</ol>\n",
       "</dd>\n",
       "</dl>\n"
      ],
      "text/latex": [
       "\\begin{description}\n",
       "\\item[\\$pi] \\begin{enumerate*}\n",
       "\\item 0.332259011338588\n",
       "\\item 0.296028623339861\n",
       "\\item 0.371712365321551\n",
       "\\end{enumerate*}\n",
       "\n",
       "\\item[\\$mu] \\begin{enumerate*}\n",
       "\\item 1.00080523710472\n",
       "\\item 1.00283380912644\n",
       "\\item 1.00977315781772\n",
       "\\end{enumerate*}\n",
       "\n",
       "\\item[\\$sig] \\begin{enumerate*}\n",
       "\\item 0.983740843256017\n",
       "\\item 0.981952438428005\n",
       "\\item 0.947104556035546\n",
       "\\end{enumerate*}\n",
       "\n",
       "\\end{description}\n"
      ],
      "text/markdown": [
       "$pi\n",
       ":   1. 0.332259011338588\n",
       "2. 0.296028623339861\n",
       "3. 0.371712365321551\n",
       "\n",
       "\n",
       "\n",
       "$mu\n",
       ":   1. 1.00080523710472\n",
       "2. 1.00283380912644\n",
       "3. 1.00977315781772\n",
       "\n",
       "\n",
       "\n",
       "$sig\n",
       ":   1. 0.983740843256017\n",
       "2. 0.981952438428005\n",
       "3. 0.947104556035546\n",
       "\n",
       "\n",
       "\n",
       "\n",
       "\n"
      ],
      "text/plain": [
       "$pi\n",
       "[1] 0.3322590 0.2960286 0.3717124\n",
       "\n",
       "$mu\n",
       "[1] 1.000805 1.002834 1.009773\n",
       "\n",
       "$sig\n",
       "[1] 0.9837408 0.9819524 0.9471046\n"
      ]
     },
     "metadata": {},
     "output_type": "display_data"
    }
   ],
   "source": [
    "# 1: lambda grand et alpha distincts \n",
    "psi <- list(gamma=c(1,1,1)*100, alpha=c(1,10,20), lambda=c(1,1,1)*100, beta=c(1,1,1))\n",
    "rthetaB(psi)\n",
    "# 2: alpha identique, lambda petit et beta grand\n",
    "psi <- list(gamma=c(1,1,1)*100, alpha=c(1,1,1), lambda=c(1,1,1)*100, beta=c(1,1,1)*100)\n",
    "rthetaB(psi)"
   ]
  },
  {
   "cell_type": "markdown",
   "metadata": {},
   "source": [
    "# Question 2\n",
    "- Ecrire une fonction  **rnormmixB** pour simuler un échantillon $\\mathbf x=(x_1,\\dots,x_n)$ selon le modèle décrit ci-dessus. La fonction renvoie la valeur du paramètre $\\theta$ et l'échantillon $\\mathbf x$ simulé. \n",
    "- Simuler un échantillon $\\mathbf x$ sous le modèle et tracer son histogramme. Superposer la densité conditionnelle des données $\\mathbf x$ sachant le paramètre $\\theta$."
   ]
  },
  {
   "cell_type": "code",
   "execution_count": 9,
   "metadata": {},
   "outputs": [],
   "source": [
    "rnormmixB <- function(n,psi){\n",
    "\n",
    "  return(list(obs=obs,theta=theta))\n",
    "}"
   ]
  },
  {
   "cell_type": "code",
   "execution_count": 10,
   "metadata": {},
   "outputs": [],
   "source": [
    "rnormmix <- function(n,theta){\n",
    "  K <- length(theta$pi)\n",
    "  etiqu <- sample(1:K,size=n,replace=TRUE,prob=theta$pi)\n",
    "  obs <- rep(NA,n)\n",
    "  i <- 1\n",
    "  for (k in 1:K){\n",
    "    n.group <- sum(etiqu==k)\n",
    "    if(n.group>0){\n",
    "      obs[i:(i+n.group-1)] <- rnorm(n.group,theta$mu[k],theta$sig[k])\n",
    "      i <- i + n.group\n",
    "    }\n",
    "  }        \n",
    "  return(obs)\n",
    "}\n",
    "\n",
    "rnormmixB <- function(n,psi){\n",
    "  theta <- rthetaB(psi)\n",
    "  obs <- rnormmix(n,theta)\n",
    "  return(list(obs=obs,theta=theta))\n",
    "}"
   ]
  },
  {
   "cell_type": "code",
   "execution_count": 11,
   "metadata": {},
   "outputs": [
    {
     "data": {
      "text/html": [
       "<dl>\n",
       "\t<dt>$pi</dt>\n",
       "\t\t<dd><ol class=list-inline>\n",
       "\t<li>0.199356534559368</li>\n",
       "\t<li>0.157964757062137</li>\n",
       "\t<li>0.642678708378495</li>\n",
       "</ol>\n",
       "</dd>\n",
       "\t<dt>$mu</dt>\n",
       "\t\t<dd><ol class=list-inline>\n",
       "\t<li>0.0499419533703594</li>\n",
       "\t<li>4.9663583081353</li>\n",
       "\t<li>15.1027785124358</li>\n",
       "</ol>\n",
       "</dd>\n",
       "\t<dt>$sig</dt>\n",
       "\t\t<dd><ol class=list-inline>\n",
       "\t<li>0.464335487891873</li>\n",
       "\t<li>0.620446788897562</li>\n",
       "\t<li>0.869216371860217</li>\n",
       "</ol>\n",
       "</dd>\n",
       "</dl>\n"
      ],
      "text/latex": [
       "\\begin{description}\n",
       "\\item[\\$pi] \\begin{enumerate*}\n",
       "\\item 0.199356534559368\n",
       "\\item 0.157964757062137\n",
       "\\item 0.642678708378495\n",
       "\\end{enumerate*}\n",
       "\n",
       "\\item[\\$mu] \\begin{enumerate*}\n",
       "\\item 0.0499419533703594\n",
       "\\item 4.9663583081353\n",
       "\\item 15.1027785124358\n",
       "\\end{enumerate*}\n",
       "\n",
       "\\item[\\$sig] \\begin{enumerate*}\n",
       "\\item 0.464335487891873\n",
       "\\item 0.620446788897562\n",
       "\\item 0.869216371860217\n",
       "\\end{enumerate*}\n",
       "\n",
       "\\end{description}\n"
      ],
      "text/markdown": [
       "$pi\n",
       ":   1. 0.199356534559368\n",
       "2. 0.157964757062137\n",
       "3. 0.642678708378495\n",
       "\n",
       "\n",
       "\n",
       "$mu\n",
       ":   1. 0.0499419533703594\n",
       "2. 4.9663583081353\n",
       "3. 15.1027785124358\n",
       "\n",
       "\n",
       "\n",
       "$sig\n",
       ":   1. 0.464335487891873\n",
       "2. 0.620446788897562\n",
       "3. 0.869216371860217\n",
       "\n",
       "\n",
       "\n",
       "\n",
       "\n"
      ],
      "text/plain": [
       "$pi\n",
       "[1] 0.1993565 0.1579648 0.6426787\n",
       "\n",
       "$mu\n",
       "[1]  0.04994195  4.96635831 15.10277851\n",
       "\n",
       "$sig\n",
       "[1] 0.4643355 0.6204468 0.8692164\n"
      ]
     },
     "metadata": {},
     "output_type": "display_data"
    },
    {
     "data": {
      "image/png": "[encoded data removed]",
      "text/plain": [
       "Plot with title \"Histogram of res$obs\""
      ]
     },
     "metadata": {},
     "output_type": "display_data"
    }
   ],
   "source": [
    "dnormmix <- function(x,theta){\n",
    "  dens <- rep(0,length(x))\n",
    "  K <- length(theta$pi)\n",
    "  for (k in 1:K){\n",
    "    dens <- dens + theta$pi[k]*dnorm(x,theta$mu[k],theta$sig[k])\n",
    "  }                                         \n",
    "  return(dens)\n",
    "}\n",
    "\n",
    "psi <- list(gamma=c(1,1,1)*3, alpha=c(0,5,15), lambda=c(1,1,1)*5, beta=c(1,1,1)*2)\n",
    "res <- rnormmixB(100,psi)\n",
    "res$theta\n",
    "hist(res$obs,freq=F)\n",
    "curve(dnormmix(x,res$theta),add=T,col='blue')"
   ]
  },
  {
   "cell_type": "markdown",
   "metadata": {},
   "source": [
    "### Loi a posteriori\n",
    "La loi a posterior de $\\theta$ sachant $\\mathbf x=(x_1,\\dots,x_n)$ est donnée par\n",
    "$$\\pi(\\theta|\\mathbf x)\\propto \n",
    "\\prod_{i=1}^n\\left(\\sum_{k=1}^K\\pi_kf_{\\mathcal N(\\mu_k,\\sigma_k^2)}(x_i) \\right)\\times\\pi(\\theta)\n",
    "$$\n",
    "En en déduit que la fonction de  log-aposteriori est donnée par\n",
    "$$\\log \\pi(\\theta|\\mathbf x)\n",
    "= \\sum_{i=1}^n\\log\\left(\\sum_{k=1}^K\\pi_kf_{\\mathcal N(\\mu_k,\\sigma_k^2)}(x_i) \\right)+\\log(\\pi(\\underline\\pi)) +\\sum_{k=1}^K\\log(\\pi(\\mu_k|\\sigma^2_k))+ \\sum_{k=1}^K\\log(\\pi(\\sigma_k^2))+\\text{cst},\n",
    "$$\n",
    "où  $\\text{cst}$ est une constante que l'on ne précisera pas.\n",
    "\n",
    "Remarquons que pour $X\\sim\\mathcal{IG}(\\alpha,\\beta)$ et $Y\\sim\\Gamma(\\alpha,\\beta)$, les densités associées vérifient\n",
    "$$f_X(s) = \\frac1{s^2}f_Y\\left(\\frac1s\\right),\\qquad s>0.$$\n",
    "\n",
    "# Question 3\n",
    "- Ecrire une fonction **logaposteriori** afin de calculer la fonction de log-aposteriori $\\log \\pi(\\theta|\\mathbf x)$ en $\\theta$ (à une constante près). Elle prend en argument  la valeur de $\\theta$ où on veut évaluer $\\log \\pi(\\theta|\\mathbf x)$, l'échantillon $\\mathbf x$ et les hyperparamètres $\\psi$. (Attention : pour éviter des termes qui valent $-\\infty$ (en prenant le log de 0), remplacer les $\\log 0$ par $0$.)\n",
    "- Pour un mélange à **deux** composants dont les hyperparamètres sont donnés par\n",
    "```R\n",
    "psi <- list(gamma=c(3,3), alpha=c(0,4), lambda=c(4,4), beta=c(2,2))\n",
    "```\n",
    "visualiser la  fonction de log-aposteriori $\\log \\pi(\\theta|\\mathbf x)$ pour un échantillon $\\mathbf x$ simulé en utilisant **image**. Les axes de la figure sont les moyennes de groupe $\\mu_1$ et $\\mu_2$. Essayer différents tailles d'échantillon $n$ (p.ex. $n=20, 200, 2000$). Interpréter."
   ]
  },
  {
   "cell_type": "code",
   "execution_count": 12,
   "metadata": {},
   "outputs": [],
   "source": [
    "logaposteriori <- function(theta,x,psi){\n",
    "    \n",
    "    return(l)\n",
    "}"
   ]
  },
  {
   "cell_type": "code",
   "execution_count": 13,
   "metadata": {},
   "outputs": [],
   "source": [
    "logaposteriori <- function(theta,x,psi){\n",
    "  vec <- log(dnormmix(x,theta))  \n",
    "  vec[vec==-Inf] <- 0\n",
    "  l <- sum(vec)\n",
    "  l <- l + log(ddirichlet(theta$pi,psi$gamma))\n",
    "  vec <- log(dnorm(theta$mu,psi$alpha,theta$sig/sqrt(psi$lambda)))\n",
    "  vec[vec==-Inf] <- 0\n",
    "  l <- l + sum(vec)\n",
    "  vec <- log(dgamma(1/(theta$sig^2), (psi$lambda-1)/2,rate=psi$beta/2)/(theta$sig^4))\n",
    "  vec[vec==-Inf] <- 0\n",
    "  l <- l + sum(vec)\n",
    "  return(l)\n",
    "}"
   ]
  },
  {
   "cell_type": "code",
   "execution_count": 14,
   "metadata": {},
   "outputs": [
    {
     "data": {
      "text/html": [
       "-192.984835745059"
      ],
      "text/latex": [
       "-192.984835745059"
      ],
      "text/markdown": [
       "-192.984835745059"
      ],
      "text/plain": [
       "[1] -192.9848"
      ]
     },
     "metadata": {},
     "output_type": "display_data"
    }
   ],
   "source": [
    "logaposteriori(res$theta,res$obs,psi)"
   ]
  },
  {
   "cell_type": "code",
   "execution_count": 15,
   "metadata": {},
   "outputs": [
    {
     "data": {
      "text/html": [
       "<dl>\n",
       "\t<dt>$pi</dt>\n",
       "\t\t<dd><ol class=list-inline>\n",
       "\t<li>0.616572881167685</li>\n",
       "\t<li>0.383427118832315</li>\n",
       "</ol>\n",
       "</dd>\n",
       "\t<dt>$mu</dt>\n",
       "\t\t<dd><ol class=list-inline>\n",
       "\t<li>-0.0096949094279999</li>\n",
       "\t<li>4.09318481831561</li>\n",
       "</ol>\n",
       "</dd>\n",
       "\t<dt>$sig</dt>\n",
       "\t\t<dd><ol class=list-inline>\n",
       "\t<li>0.425060028155636</li>\n",
       "\t<li>0.707021378334609</li>\n",
       "</ol>\n",
       "</dd>\n",
       "</dl>\n"
      ],
      "text/latex": [
       "\\begin{description}\n",
       "\\item[\\$pi] \\begin{enumerate*}\n",
       "\\item 0.616572881167685\n",
       "\\item 0.383427118832315\n",
       "\\end{enumerate*}\n",
       "\n",
       "\\item[\\$mu] \\begin{enumerate*}\n",
       "\\item -0.0096949094279999\n",
       "\\item 4.09318481831561\n",
       "\\end{enumerate*}\n",
       "\n",
       "\\item[\\$sig] \\begin{enumerate*}\n",
       "\\item 0.425060028155636\n",
       "\\item 0.707021378334609\n",
       "\\end{enumerate*}\n",
       "\n",
       "\\end{description}\n"
      ],
      "text/markdown": [
       "$pi\n",
       ":   1. 0.616572881167685\n",
       "2. 0.383427118832315\n",
       "\n",
       "\n",
       "\n",
       "$mu\n",
       ":   1. -0.0096949094279999\n",
       "2. 4.09318481831561\n",
       "\n",
       "\n",
       "\n",
       "$sig\n",
       ":   1. 0.425060028155636\n",
       "2. 0.707021378334609\n",
       "\n",
       "\n",
       "\n",
       "\n",
       "\n"
      ],
      "text/plain": [
       "$pi\n",
       "[1] 0.6165729 0.3834271\n",
       "\n",
       "$mu\n",
       "[1] -0.009694909  4.093184818\n",
       "\n",
       "$sig\n",
       "[1] 0.4250600 0.7070214\n"
      ]
     },
     "metadata": {},
     "output_type": "display_data"
    },
    {
     "data": {
      "image/png": "[encoded data removed]",
      "text/plain": [
       "Plot with title \"Histogram of res$obs\""
      ]
     },
     "metadata": {},
     "output_type": "display_data"
    }
   ],
   "source": [
    "n <- 200\n",
    "psi <- list(gamma=c(3,3), alpha=c(0,4), lambda=c(4,4), beta=c(2,2))\n",
    "set.seed(1711)\n",
    "rthetaB(psi)\n",
    "res <- rnormmixB(n,psi)\n",
    "hist(res$obs)\n",
    "\n",
    "mu.grille <- seq(-1.5,7,by=.1) \n",
    "G <- length(mu.grille)\n",
    "L <- matrix(NA,nrow=G,ncol=G)\n",
    "param <- res$theta\n",
    "for (k in 1:G)\n",
    "  for (l in 1:G){\n",
    "    param$mu <- c(mu.grille[k],mu.grille[l]) \n",
    "    L[k,l] <- logaposteriori(param,res$obs,psi)     \n",
    "  }  "
   ]
  },
  {
   "cell_type": "code",
   "execution_count": 16,
   "metadata": {},
   "outputs": [
    {
     "data": {
      "image/png": "[encoded data removed]",
      "text/plain": [
       "plot without title"
      ]
     },
     "metadata": {},
     "output_type": "display_data"
    }
   ],
   "source": [
    "image(mu.grille,mu.grille,L,col=grey(0:255/255))\n",
    "contour(mu.grille,mu.grille,L,add=T,nlevels=20,col='red') "
   ]
  },
  {
   "cell_type": "markdown",
   "metadata": {},
   "source": [
    "\n",
    "### Lois conditionnelles pour le Gibbs sampler\n",
    "Le Gibbs sampler exploite la structure des variables latentes $\\mathbf z=(z_1,\\dots,z_n)$. Plus précisément, l'algorithme consiste à simuler succéssivement des lois conditionnelles  suivantes :\n",
    "\\begin{align*}\n",
    "\\pi(\\mathbf z|\\mathbf x,\\theta)&=\\prod_{i=1}^n\\pi( z_i|x_i,\\theta)\\qquad\\text{ avec }\\qquad\\\n",
    "\\pi( z_i|x_i,\\theta)\\propto \\pi_{z_i}f_{\\mathcal N(\\mu_{z_i},\\sigma_{z_i}^2)}(x_i) \\\\\n",
    "\\pi(\\theta|\\mathbf z,\\mathbf x)&\\propto  \\pi(\\underline \\pi|\\mathbf z,\\mathbf x) \\times\\pi(\\underline\\mu,\\underline\\sigma^2|\\mathbf z,\\mathbf x)\\qquad\\text{ avec }\\\\\n",
    "&\\quad\\underline \\pi|(\\mathbf z,\\mathbf x)\\sim\\mathcal D(\\gamma_1+n_1,\\dots,\\gamma_K+n_k)\\qquad \\text{où}\\qquad n_k=\\#\\{i:z_i=k\\}\\\\\n",
    "&\\quad\\pi(\\underline\\mu,\\underline\\sigma^2|\\mathbf z,\\mathbf x)\n",
    "\\propto\\prod_{k=1}^K\\pi(\\mu_k,\\sigma^2_k|\\mathbf z,\\mathbf x)\n",
    "=\\prod_{k=1}^K\\left( \\pi(\\mu_k|\\sigma_k)\\pi(\\sigma_k)\\prod_{i:z_i=k}f_{\\mathcal N(\\mu_k,\\sigma_k^2)}(x_i)\\right)\n",
    "\\end{align*}\n",
    "Plus précisément, on peut montrer que\n",
    "\\begin{align*}\n",
    "\\mu_k|\\sigma_k,\\mathbf z,\\mathbf x &\\sim\\mathcal N\\left(\\frac{\\sum_{i:z_i=k}x_i+\\alpha_k\\lambda_k}{n_k+\\lambda_k},\\frac{\\sigma_k^2}{n_k+\\lambda_k}\\right)\\\\\n",
    "\\sigma_k^2|\\mathbf z,\\mathbf x &\\sim\\mathcal{IG}\\left(\\frac{n_k+\\lambda_k}2,\\frac12\\left(\\sum_{i:z_i=k}x_i^2+\\lambda_k\\alpha_k^2+\\beta_k-\\frac{(\\sum_{i:z_i=k}x_i+\\alpha_k\\lambda_k)^2}{n_k+\\lambda_k}\n",
    "\\right)\n",
    "\\right) \n",
    "\\end{align*}\n",
    "\n",
    "# Question 4\n",
    "- Ecrire des fonctions **rz** et **rtheta** pour simuler des lois conditionnelles $\\pi(\\mathbf z|\\mathbf x,\\theta)$ et $\\pi(\\theta|\\mathbf z,\\mathbf x)$.\n",
    "- Ecrire une fonction **gibbs** pour implémenter l'échantillonneur de Gibbs pour le mélange gaussien. \n",
    "La fonction prend en argument les observations **obs**, une valeur initiale **theta.init** pour $\\theta$, les hyperparamètres **psi**, le nombre d'itérations souhaité $R$, et la longueur $B$ du *burn-in time*. \n",
    "La fonction   simule  $R+B$ fois de $\\pi(\\mathbf z|\\mathbf x,\\theta)$ et de $\\pi(\\theta|\\mathbf z,\\mathbf x)$, et elle renvoie  les $R$ dernières simulations de $\\theta$ et de $\\mathbf z$. "
   ]
  },
  {
   "cell_type": "code",
   "execution_count": 17,
   "metadata": {},
   "outputs": [],
   "source": [
    "rz <- function(theta,obs){\n",
    "\n",
    "    return(z)\n",
    "}"
   ]
  },
  {
   "cell_type": "code",
   "execution_count": 18,
   "metadata": {},
   "outputs": [],
   "source": [
    "rz <- function(theta,obs){\n",
    "  n <- length(obs)\n",
    "  K <- length(theta$pi)\n",
    "  P <- matrix(NA,n,K)\n",
    "  for (k in 1:K)\n",
    "    P[,k] <- theta$pi[k]*dnorm(obs,theta$mu[k],theta$sig[k])    \n",
    "  z <- apply(P,1,function(row)if(sum(row)>0) sample(1:K,size=1,prob=row) else sample(1:K,size=1,prob=rep(1,K))) \n",
    "  return(z)\n",
    "}"
   ]
  },
  {
   "cell_type": "code",
   "execution_count": 19,
   "metadata": {},
   "outputs": [
    {
     "data": {
      "text/html": [
       "<ol class=list-inline>\n",
       "\t<li>1</li>\n",
       "\t<li>1</li>\n",
       "\t<li>1</li>\n",
       "\t<li>1</li>\n",
       "\t<li>1</li>\n",
       "\t<li>1</li>\n",
       "\t<li>1</li>\n",
       "\t<li>1</li>\n",
       "\t<li>1</li>\n",
       "\t<li>1</li>\n",
       "\t<li>1</li>\n",
       "\t<li>1</li>\n",
       "\t<li>1</li>\n",
       "\t<li>1</li>\n",
       "\t<li>1</li>\n",
       "\t<li>1</li>\n",
       "\t<li>1</li>\n",
       "\t<li>1</li>\n",
       "\t<li>1</li>\n",
       "\t<li>1</li>\n",
       "\t<li>1</li>\n",
       "\t<li>1</li>\n",
       "\t<li>1</li>\n",
       "\t<li>1</li>\n",
       "\t<li>1</li>\n",
       "\t<li>1</li>\n",
       "\t<li>1</li>\n",
       "\t<li>1</li>\n",
       "\t<li>1</li>\n",
       "\t<li>1</li>\n",
       "\t<li>1</li>\n",
       "\t<li>1</li>\n",
       "\t<li>1</li>\n",
       "\t<li>1</li>\n",
       "\t<li>1</li>\n",
       "\t<li>1</li>\n",
       "\t<li>1</li>\n",
       "\t<li>1</li>\n",
       "\t<li>1</li>\n",
       "\t<li>1</li>\n",
       "\t<li>1</li>\n",
       "\t<li>1</li>\n",
       "\t<li>1</li>\n",
       "\t<li>1</li>\n",
       "\t<li>1</li>\n",
       "\t<li>1</li>\n",
       "\t<li>1</li>\n",
       "\t<li>1</li>\n",
       "\t<li>1</li>\n",
       "\t<li>1</li>\n",
       "\t<li>1</li>\n",
       "\t<li>1</li>\n",
       "\t<li>1</li>\n",
       "\t<li>1</li>\n",
       "\t<li>1</li>\n",
       "\t<li>1</li>\n",
       "\t<li>1</li>\n",
       "\t<li>1</li>\n",
       "\t<li>1</li>\n",
       "\t<li>1</li>\n",
       "\t<li>1</li>\n",
       "\t<li>1</li>\n",
       "\t<li>1</li>\n",
       "\t<li>1</li>\n",
       "\t<li>1</li>\n",
       "\t<li>1</li>\n",
       "\t<li>1</li>\n",
       "\t<li>1</li>\n",
       "\t<li>1</li>\n",
       "\t<li>2</li>\n",
       "\t<li>2</li>\n",
       "\t<li>2</li>\n",
       "\t<li>2</li>\n",
       "\t<li>2</li>\n",
       "\t<li>2</li>\n",
       "\t<li>2</li>\n",
       "\t<li>2</li>\n",
       "\t<li>2</li>\n",
       "\t<li>2</li>\n",
       "\t<li>2</li>\n",
       "\t<li>2</li>\n",
       "\t<li>2</li>\n",
       "\t<li>2</li>\n",
       "\t<li>2</li>\n",
       "\t<li>2</li>\n",
       "\t<li>2</li>\n",
       "\t<li>2</li>\n",
       "\t<li>2</li>\n",
       "\t<li>2</li>\n",
       "\t<li>2</li>\n",
       "\t<li>2</li>\n",
       "\t<li>2</li>\n",
       "\t<li>2</li>\n",
       "\t<li>2</li>\n",
       "\t<li>2</li>\n",
       "\t<li>2</li>\n",
       "\t<li>2</li>\n",
       "\t<li>2</li>\n",
       "\t<li>2</li>\n",
       "\t<li>2</li>\n",
       "\t<li>2</li>\n",
       "\t<li>2</li>\n",
       "\t<li>2</li>\n",
       "\t<li>2</li>\n",
       "\t<li>2</li>\n",
       "\t<li>2</li>\n",
       "\t<li>2</li>\n",
       "\t<li>2</li>\n",
       "\t<li>2</li>\n",
       "\t<li>1</li>\n",
       "\t<li>2</li>\n",
       "\t<li>2</li>\n",
       "\t<li>2</li>\n",
       "\t<li>2</li>\n",
       "\t<li>2</li>\n",
       "\t<li>2</li>\n",
       "\t<li>2</li>\n",
       "\t<li>2</li>\n",
       "\t<li>2</li>\n",
       "\t<li>2</li>\n",
       "\t<li>2</li>\n",
       "\t<li>2</li>\n",
       "\t<li>2</li>\n",
       "\t<li>2</li>\n",
       "\t<li>2</li>\n",
       "\t<li>2</li>\n",
       "\t<li>2</li>\n",
       "\t<li>2</li>\n",
       "\t<li>2</li>\n",
       "\t<li>2</li>\n",
       "\t<li>2</li>\n",
       "\t<li>2</li>\n",
       "\t<li>2</li>\n",
       "\t<li>2</li>\n",
       "\t<li>2</li>\n",
       "\t<li>2</li>\n",
       "\t<li>2</li>\n",
       "\t<li>2</li>\n",
       "\t<li>2</li>\n",
       "\t<li>2</li>\n",
       "\t<li>2</li>\n",
       "\t<li>2</li>\n",
       "\t<li>2</li>\n",
       "\t<li>2</li>\n",
       "\t<li>2</li>\n",
       "\t<li>2</li>\n",
       "\t<li>2</li>\n",
       "\t<li>2</li>\n",
       "\t<li>2</li>\n",
       "\t<li>2</li>\n",
       "\t<li>2</li>\n",
       "\t<li>2</li>\n",
       "\t<li>2</li>\n",
       "\t<li>2</li>\n",
       "\t<li>2</li>\n",
       "\t<li>2</li>\n",
       "\t<li>2</li>\n",
       "\t<li>2</li>\n",
       "\t<li>2</li>\n",
       "\t<li>2</li>\n",
       "\t<li>2</li>\n",
       "\t<li>2</li>\n",
       "\t<li>2</li>\n",
       "\t<li>2</li>\n",
       "\t<li>2</li>\n",
       "\t<li>2</li>\n",
       "\t<li>2</li>\n",
       "\t<li>2</li>\n",
       "\t<li>2</li>\n",
       "\t<li>2</li>\n",
       "\t<li>2</li>\n",
       "\t<li>2</li>\n",
       "\t<li>2</li>\n",
       "\t<li>2</li>\n",
       "\t<li>2</li>\n",
       "\t<li>2</li>\n",
       "\t<li>2</li>\n",
       "\t<li>2</li>\n",
       "\t<li>2</li>\n",
       "\t<li>2</li>\n",
       "\t<li>2</li>\n",
       "\t<li>2</li>\n",
       "\t<li>2</li>\n",
       "\t<li>2</li>\n",
       "\t<li>2</li>\n",
       "\t<li>2</li>\n",
       "\t<li>2</li>\n",
       "\t<li>2</li>\n",
       "\t<li>2</li>\n",
       "\t<li>2</li>\n",
       "\t<li>2</li>\n",
       "\t<li>2</li>\n",
       "\t<li>2</li>\n",
       "\t<li>2</li>\n",
       "\t<li>2</li>\n",
       "\t<li>2</li>\n",
       "\t<li>2</li>\n",
       "\t<li>2</li>\n",
       "\t<li>2</li>\n",
       "\t<li>2</li>\n",
       "</ol>\n"
      ],
      "text/latex": [
       "\\begin{enumerate*}\n",
       "\\item 1\n",
       "\\item 1\n",
       "\\item 1\n",
       "\\item 1\n",
       "\\item 1\n",
       "\\item 1\n",
       "\\item 1\n",
       "\\item 1\n",
       "\\item 1\n",
       "\\item 1\n",
       "\\item 1\n",
       "\\item 1\n",
       "\\item 1\n",
       "\\item 1\n",
       "\\item 1\n",
       "\\item 1\n",
       "\\item 1\n",
       "\\item 1\n",
       "\\item 1\n",
       "\\item 1\n",
       "\\item 1\n",
       "\\item 1\n",
       "\\item 1\n",
       "\\item 1\n",
       "\\item 1\n",
       "\\item 1\n",
       "\\item 1\n",
       "\\item 1\n",
       "\\item 1\n",
       "\\item 1\n",
       "\\item 1\n",
       "\\item 1\n",
       "\\item 1\n",
       "\\item 1\n",
       "\\item 1\n",
       "\\item 1\n",
       "\\item 1\n",
       "\\item 1\n",
       "\\item 1\n",
       "\\item 1\n",
       "\\item 1\n",
       "\\item 1\n",
       "\\item 1\n",
       "\\item 1\n",
       "\\item 1\n",
       "\\item 1\n",
       "\\item 1\n",
       "\\item 1\n",
       "\\item 1\n",
       "\\item 1\n",
       "\\item 1\n",
       "\\item 1\n",
       "\\item 1\n",
       "\\item 1\n",
       "\\item 1\n",
       "\\item 1\n",
       "\\item 1\n",
       "\\item 1\n",
       "\\item 1\n",
       "\\item 1\n",
       "\\item 1\n",
       "\\item 1\n",
       "\\item 1\n",
       "\\item 1\n",
       "\\item 1\n",
       "\\item 1\n",
       "\\item 1\n",
       "\\item 1\n",
       "\\item 1\n",
       "\\item 2\n",
       "\\item 2\n",
       "\\item 2\n",
       "\\item 2\n",
       "\\item 2\n",
       "\\item 2\n",
       "\\item 2\n",
       "\\item 2\n",
       "\\item 2\n",
       "\\item 2\n",
       "\\item 2\n",
       "\\item 2\n",
       "\\item 2\n",
       "\\item 2\n",
       "\\item 2\n",
       "\\item 2\n",
       "\\item 2\n",
       "\\item 2\n",
       "\\item 2\n",
       "\\item 2\n",
       "\\item 2\n",
       "\\item 2\n",
       "\\item 2\n",
       "\\item 2\n",
       "\\item 2\n",
       "\\item 2\n",
       "\\item 2\n",
       "\\item 2\n",
       "\\item 2\n",
       "\\item 2\n",
       "\\item 2\n",
       "\\item 2\n",
       "\\item 2\n",
       "\\item 2\n",
       "\\item 2\n",
       "\\item 2\n",
       "\\item 2\n",
       "\\item 2\n",
       "\\item 2\n",
       "\\item 2\n",
       "\\item 1\n",
       "\\item 2\n",
       "\\item 2\n",
       "\\item 2\n",
       "\\item 2\n",
       "\\item 2\n",
       "\\item 2\n",
       "\\item 2\n",
       "\\item 2\n",
       "\\item 2\n",
       "\\item 2\n",
       "\\item 2\n",
       "\\item 2\n",
       "\\item 2\n",
       "\\item 2\n",
       "\\item 2\n",
       "\\item 2\n",
       "\\item 2\n",
       "\\item 2\n",
       "\\item 2\n",
       "\\item 2\n",
       "\\item 2\n",
       "\\item 2\n",
       "\\item 2\n",
       "\\item 2\n",
       "\\item 2\n",
       "\\item 2\n",
       "\\item 2\n",
       "\\item 2\n",
       "\\item 2\n",
       "\\item 2\n",
       "\\item 2\n",
       "\\item 2\n",
       "\\item 2\n",
       "\\item 2\n",
       "\\item 2\n",
       "\\item 2\n",
       "\\item 2\n",
       "\\item 2\n",
       "\\item 2\n",
       "\\item 2\n",
       "\\item 2\n",
       "\\item 2\n",
       "\\item 2\n",
       "\\item 2\n",
       "\\item 2\n",
       "\\item 2\n",
       "\\item 2\n",
       "\\item 2\n",
       "\\item 2\n",
       "\\item 2\n",
       "\\item 2\n",
       "\\item 2\n",
       "\\item 2\n",
       "\\item 2\n",
       "\\item 2\n",
       "\\item 2\n",
       "\\item 2\n",
       "\\item 2\n",
       "\\item 2\n",
       "\\item 2\n",
       "\\item 2\n",
       "\\item 2\n",
       "\\item 2\n",
       "\\item 2\n",
       "\\item 2\n",
       "\\item 2\n",
       "\\item 2\n",
       "\\item 2\n",
       "\\item 2\n",
       "\\item 2\n",
       "\\item 2\n",
       "\\item 2\n",
       "\\item 2\n",
       "\\item 2\n",
       "\\item 2\n",
       "\\item 2\n",
       "\\item 2\n",
       "\\item 2\n",
       "\\item 2\n",
       "\\item 2\n",
       "\\item 2\n",
       "\\item 2\n",
       "\\item 2\n",
       "\\item 2\n",
       "\\item 2\n",
       "\\item 2\n",
       "\\item 2\n",
       "\\item 2\n",
       "\\item 2\n",
       "\\item 2\n",
       "\\end{enumerate*}\n"
      ],
      "text/markdown": [
       "1. 1\n",
       "2. 1\n",
       "3. 1\n",
       "4. 1\n",
       "5. 1\n",
       "6. 1\n",
       "7. 1\n",
       "8. 1\n",
       "9. 1\n",
       "10. 1\n",
       "11. 1\n",
       "12. 1\n",
       "13. 1\n",
       "14. 1\n",
       "15. 1\n",
       "16. 1\n",
       "17. 1\n",
       "18. 1\n",
       "19. 1\n",
       "20. 1\n",
       "21. 1\n",
       "22. 1\n",
       "23. 1\n",
       "24. 1\n",
       "25. 1\n",
       "26. 1\n",
       "27. 1\n",
       "28. 1\n",
       "29. 1\n",
       "30. 1\n",
       "31. 1\n",
       "32. 1\n",
       "33. 1\n",
       "34. 1\n",
       "35. 1\n",
       "36. 1\n",
       "37. 1\n",
       "38. 1\n",
       "39. 1\n",
       "40. 1\n",
       "41. 1\n",
       "42. 1\n",
       "43. 1\n",
       "44. 1\n",
       "45. 1\n",
       "46. 1\n",
       "47. 1\n",
       "48. 1\n",
       "49. 1\n",
       "50. 1\n",
       "51. 1\n",
       "52. 1\n",
       "53. 1\n",
       "54. 1\n",
       "55. 1\n",
       "56. 1\n",
       "57. 1\n",
       "58. 1\n",
       "59. 1\n",
       "60. 1\n",
       "61. 1\n",
       "62. 1\n",
       "63. 1\n",
       "64. 1\n",
       "65. 1\n",
       "66. 1\n",
       "67. 1\n",
       "68. 1\n",
       "69. 1\n",
       "70. 2\n",
       "71. 2\n",
       "72. 2\n",
       "73. 2\n",
       "74. 2\n",
       "75. 2\n",
       "76. 2\n",
       "77. 2\n",
       "78. 2\n",
       "79. 2\n",
       "80. 2\n",
       "81. 2\n",
       "82. 2\n",
       "83. 2\n",
       "84. 2\n",
       "85. 2\n",
       "86. 2\n",
       "87. 2\n",
       "88. 2\n",
       "89. 2\n",
       "90. 2\n",
       "91. 2\n",
       "92. 2\n",
       "93. 2\n",
       "94. 2\n",
       "95. 2\n",
       "96. 2\n",
       "97. 2\n",
       "98. 2\n",
       "99. 2\n",
       "100. 2\n",
       "101. 2\n",
       "102. 2\n",
       "103. 2\n",
       "104. 2\n",
       "105. 2\n",
       "106. 2\n",
       "107. 2\n",
       "108. 2\n",
       "109. 2\n",
       "110. 1\n",
       "111. 2\n",
       "112. 2\n",
       "113. 2\n",
       "114. 2\n",
       "115. 2\n",
       "116. 2\n",
       "117. 2\n",
       "118. 2\n",
       "119. 2\n",
       "120. 2\n",
       "121. 2\n",
       "122. 2\n",
       "123. 2\n",
       "124. 2\n",
       "125. 2\n",
       "126. 2\n",
       "127. 2\n",
       "128. 2\n",
       "129. 2\n",
       "130. 2\n",
       "131. 2\n",
       "132. 2\n",
       "133. 2\n",
       "134. 2\n",
       "135. 2\n",
       "136. 2\n",
       "137. 2\n",
       "138. 2\n",
       "139. 2\n",
       "140. 2\n",
       "141. 2\n",
       "142. 2\n",
       "143. 2\n",
       "144. 2\n",
       "145. 2\n",
       "146. 2\n",
       "147. 2\n",
       "148. 2\n",
       "149. 2\n",
       "150. 2\n",
       "151. 2\n",
       "152. 2\n",
       "153. 2\n",
       "154. 2\n",
       "155. 2\n",
       "156. 2\n",
       "157. 2\n",
       "158. 2\n",
       "159. 2\n",
       "160. 2\n",
       "161. 2\n",
       "162. 2\n",
       "163. 2\n",
       "164. 2\n",
       "165. 2\n",
       "166. 2\n",
       "167. 2\n",
       "168. 2\n",
       "169. 2\n",
       "170. 2\n",
       "171. 2\n",
       "172. 2\n",
       "173. 2\n",
       "174. 2\n",
       "175. 2\n",
       "176. 2\n",
       "177. 2\n",
       "178. 2\n",
       "179. 2\n",
       "180. 2\n",
       "181. 2\n",
       "182. 2\n",
       "183. 2\n",
       "184. 2\n",
       "185. 2\n",
       "186. 2\n",
       "187. 2\n",
       "188. 2\n",
       "189. 2\n",
       "190. 2\n",
       "191. 2\n",
       "192. 2\n",
       "193. 2\n",
       "194. 2\n",
       "195. 2\n",
       "196. 2\n",
       "197. 2\n",
       "198. 2\n",
       "199. 2\n",
       "200. 2\n",
       "\n",
       "\n"
      ],
      "text/plain": [
       "  [1] 1 1 1 1 1 1 1 1 1 1 1 1 1 1 1 1 1 1 1 1 1 1 1 1 1 1 1 1 1 1 1 1 1 1 1 1 1\n",
       " [38] 1 1 1 1 1 1 1 1 1 1 1 1 1 1 1 1 1 1 1 1 1 1 1 1 1 1 1 1 1 1 1 1 2 2 2 2 2\n",
       " [75] 2 2 2 2 2 2 2 2 2 2 2 2 2 2 2 2 2 2 2 2 2 2 2 2 2 2 2 2 2 2 2 2 2 2 2 1 2\n",
       "[112] 2 2 2 2 2 2 2 2 2 2 2 2 2 2 2 2 2 2 2 2 2 2 2 2 2 2 2 2 2 2 2 2 2 2 2 2 2\n",
       "[149] 2 2 2 2 2 2 2 2 2 2 2 2 2 2 2 2 2 2 2 2 2 2 2 2 2 2 2 2 2 2 2 2 2 2 2 2 2\n",
       "[186] 2 2 2 2 2 2 2 2 2 2 2 2 2 2 2"
      ]
     },
     "metadata": {},
     "output_type": "display_data"
    }
   ],
   "source": [
    "z <- rz(res$theta,res$obs)\n",
    "z"
   ]
  },
  {
   "cell_type": "code",
   "execution_count": 20,
   "metadata": {},
   "outputs": [],
   "source": [
    "rtheta <- function(z,obs,psi){\n",
    "  \n",
    "  return(theta)  \n",
    "}"
   ]
  },
  {
   "cell_type": "code",
   "execution_count": 21,
   "metadata": {},
   "outputs": [],
   "source": [
    "rtheta <- function(z,obs,psi){\n",
    "  K <- length(psi$gamma)\n",
    "  count_group <- sapply(1:K,function(k)sum(z==k))\n",
    "  sum_group <- sapply(1:K,function(k)sum(obs[z==k]))\n",
    "  sum2_group <- sapply(1:K,function(k)sum((obs[z==k])^2))\n",
    "  \n",
    "  pi <- as.vector(rdirichlet(1,psi$gamma+count_group))\n",
    "  \n",
    "  a <- (count_group+psi$lambda)/2\n",
    "  b <- (sum2_group+psi$lambda*psi$alpha^2+psi$beta-(sum_group+psi$alpha*psi$lambda)^2/(count_group+psi$lambda))/2\n",
    "  if (sum(b>0)==K){\n",
    "    sig2 <- 1/rgamma(K,a,b)\n",
    "  }else{ \n",
    "    sig2 <- 1/rgamma(K,(psi$lambda-1)/2, psi$beta/2)\n",
    "  }\n",
    "  m <- (sum_group+psi$lambda*psi$alpha)/(count_group+psi$lambda)\n",
    "  s2 <- sig2/(count_group+psi$lambda)\n",
    "  mu <- rnorm(K,m,sqrt(s2))\n",
    "  \n",
    "  theta <- list(pi=pi, mu=mu, sig=sqrt(sig2))\n",
    "  return(theta)  \n",
    "}"
   ]
  },
  {
   "cell_type": "code",
   "execution_count": 22,
   "metadata": {},
   "outputs": [
    {
     "data": {
      "text/html": [
       "<dl>\n",
       "\t<dt>$pi</dt>\n",
       "\t\t<dd><ol class=list-inline>\n",
       "\t<li>0.319290659713886</li>\n",
       "\t<li>0.680709340286114</li>\n",
       "</ol>\n",
       "</dd>\n",
       "\t<dt>$mu</dt>\n",
       "\t\t<dd><ol class=list-inline>\n",
       "\t<li>0.0950053887046041</li>\n",
       "\t<li>3.79173275342287</li>\n",
       "</ol>\n",
       "</dd>\n",
       "\t<dt>$sig</dt>\n",
       "\t\t<dd><ol class=list-inline>\n",
       "\t<li>0.701335162336486</li>\n",
       "\t<li>0.702116915577141</li>\n",
       "</ol>\n",
       "</dd>\n",
       "</dl>\n"
      ],
      "text/latex": [
       "\\begin{description}\n",
       "\\item[\\$pi] \\begin{enumerate*}\n",
       "\\item 0.319290659713886\n",
       "\\item 0.680709340286114\n",
       "\\end{enumerate*}\n",
       "\n",
       "\\item[\\$mu] \\begin{enumerate*}\n",
       "\\item 0.0950053887046041\n",
       "\\item 3.79173275342287\n",
       "\\end{enumerate*}\n",
       "\n",
       "\\item[\\$sig] \\begin{enumerate*}\n",
       "\\item 0.701335162336486\n",
       "\\item 0.702116915577141\n",
       "\\end{enumerate*}\n",
       "\n",
       "\\end{description}\n"
      ],
      "text/markdown": [
       "$pi\n",
       ":   1. 0.319290659713886\n",
       "2. 0.680709340286114\n",
       "\n",
       "\n",
       "\n",
       "$mu\n",
       ":   1. 0.0950053887046041\n",
       "2. 3.79173275342287\n",
       "\n",
       "\n",
       "\n",
       "$sig\n",
       ":   1. 0.701335162336486\n",
       "2. 0.702116915577141\n",
       "\n",
       "\n",
       "\n",
       "\n",
       "\n"
      ],
      "text/plain": [
       "$pi\n",
       "[1] 0.3192907 0.6807093\n",
       "\n",
       "$mu\n",
       "[1] 0.09500539 3.79173275\n",
       "\n",
       "$sig\n",
       "[1] 0.7013352 0.7021169\n"
      ]
     },
     "metadata": {},
     "output_type": "display_data"
    }
   ],
   "source": [
    "rtheta(z,res$obs,psi)"
   ]
  },
  {
   "cell_type": "code",
   "execution_count": 23,
   "metadata": {},
   "outputs": [],
   "source": [
    "gibbs <- function(obs,theta.init,psi,R=1000,B=500){\n",
    " \n",
    "  return(list(theta=theta,z=z))\n",
    "}"
   ]
  },
  {
   "cell_type": "code",
   "execution_count": 24,
   "metadata": {},
   "outputs": [],
   "source": [
    "gibbs <- function(obs,theta.init,psi,R=1000,B=500){\n",
    "  theta <- vector(\"list\",B+R+1)\n",
    "  theta[[1]] <- theta.init\n",
    "  z <- vector(\"list\",B+R)\n",
    "  for (r in 1:(R+B)){\n",
    "    z[[r]] <- rz(theta[[r]],obs)\n",
    "    theta[[r+1]] <- rtheta(z[[r]],obs,psi)\n",
    "  }\n",
    "  return(list(theta=theta[(B+2):(R+B+1)],z=z[(B+1):(R+B)]))\n",
    "}"
   ]
  },
  {
   "cell_type": "markdown",
   "metadata": {},
   "source": [
    "## Estimateurs bayésiens et convergence de l'algorithme\n",
    "\n",
    "Le but du Gibbs sampler est de créer un échantillon de la loi aposteriori $\\pi(\\theta|\\underline x)$. Ensuite, cet échantillon de valeurs simulées $\\theta^{(t)},t=1,\\dots,R$ est utilisé pour évaluer des estimateurs bayésiens comme la moyenne aposteriori. Ainsi, la valeur de $\\mu_1$ est estimé par \n",
    "$$\\hat\\mu_1=\\frac1R\\sum_{t=1}^R\\mu_1^{(t)}.$$ \n",
    "\n",
    "Un outil simple pour apprécier la convergence de l'algorithme consiste à surveiller l'évolution de la moyenne des valeurs simulées. Autrement dit, on considère les tracés du type \n",
    "$$r\\mapsto\\frac1r\\sum_{t=1}^r\\mu_1^{(t)}\\qquad\\text{ pour }r=1,\\dots,R.$$\n",
    "\n",
    "Le Gibbs sampler fournit également un échantillon simulé des étiquette $z_i^{(t)}$. On peut étudier pour chaque observation $x_i$ la proportion avec laquelle le Gibbs sampler l'affecte au premier (deuxième,...) groupe, c'est-à-dire la proportion \n",
    "$$p_{i,k}=\\#\\{t:z_i^{(t)}=k\\}/R\\qquad\\text{ pour }k=1,\\dots,K,\\quad i=1,\\dots,n.$$\n",
    "Dans le cas  d'un mélange gaussien, on considère que l'algorithme a convergé si les tracés des estimateurs du type $r\\mapsto\\frac1r\\sum_{t=1}^r\\mu_1^{(t)}$ se sont stabilisés **et** si l'affection des observations $x_i$ a un groupe est stable.\n",
    "\n",
    "\n",
    "# Question 5\n",
    "- Appliquer l'échantillonneur de Gibbs aux données simulées de taille $n=200$ du mélange à deux composants considéré à la Question 3 en initialisant par les vraies valeurs des paramètrs.\n",
    "- Représenter la loi a posteriori en traçant les histogrammes des différentes variables ($\\mu_k,\\sigma_k^2,\\pi_k,k=1,2$).  \n",
    "- Ajouter les points simulés  $(\\mu_1^{(t)},\\mu_2^{(t)}), t=1,\\dots,R$ au graphique de la fonction log-aposteriori. \n",
    "- Ecrire une fonction **tracer.estim** pour représenter graphiquement les tracés du type $r\\mapsto\\frac1r\\sum_{t=1}^r\\mu_1^{(t)}$ pour $r=1,\\dots,R$. De plus, la fonction renvoie les estimateurs bayésiens finaux (c'est-à-dire $\\hat\\mu_1$, etc.). Appliquer la fonction à vos données.\n",
    "-  Ecrire une fonction **class.zi** afin de calculer les proportions $p_{i,k}=\\#\\{t:z_i^{(t)}=k\\}/R$ pour $k=1,\\dots,K$ et $i=1,\\dots,n$. Tracer le nuage des points $(x_i,p_i), i=1,\\dots,n$."
   ]
  },
  {
   "cell_type": "code",
   "execution_count": 25,
   "metadata": {},
   "outputs": [
    {
     "data": {
      "text/html": [
       "<dl>\n",
       "\t<dt>$pi</dt>\n",
       "\t\t<dd><ol class=list-inline>\n",
       "\t<li>0.616572881167685</li>\n",
       "\t<li>0.383427118832315</li>\n",
       "</ol>\n",
       "</dd>\n",
       "\t<dt>$mu</dt>\n",
       "\t\t<dd><ol class=list-inline>\n",
       "\t<li>-0.0096949094279999</li>\n",
       "\t<li>4.09318481831561</li>\n",
       "</ol>\n",
       "</dd>\n",
       "\t<dt>$sig</dt>\n",
       "\t\t<dd><ol class=list-inline>\n",
       "\t<li>0.425060028155636</li>\n",
       "\t<li>0.707021378334609</li>\n",
       "</ol>\n",
       "</dd>\n",
       "</dl>\n"
      ],
      "text/latex": [
       "\\begin{description}\n",
       "\\item[\\$pi] \\begin{enumerate*}\n",
       "\\item 0.616572881167685\n",
       "\\item 0.383427118832315\n",
       "\\end{enumerate*}\n",
       "\n",
       "\\item[\\$mu] \\begin{enumerate*}\n",
       "\\item -0.0096949094279999\n",
       "\\item 4.09318481831561\n",
       "\\end{enumerate*}\n",
       "\n",
       "\\item[\\$sig] \\begin{enumerate*}\n",
       "\\item 0.425060028155636\n",
       "\\item 0.707021378334609\n",
       "\\end{enumerate*}\n",
       "\n",
       "\\end{description}\n"
      ],
      "text/markdown": [
       "$pi\n",
       ":   1. 0.616572881167685\n",
       "2. 0.383427118832315\n",
       "\n",
       "\n",
       "\n",
       "$mu\n",
       ":   1. -0.0096949094279999\n",
       "2. 4.09318481831561\n",
       "\n",
       "\n",
       "\n",
       "$sig\n",
       ":   1. 0.425060028155636\n",
       "2. 0.707021378334609\n",
       "\n",
       "\n",
       "\n",
       "\n",
       "\n"
      ],
      "text/plain": [
       "$pi\n",
       "[1] 0.6165729 0.3834271\n",
       "\n",
       "$mu\n",
       "[1] -0.009694909  4.093184818\n",
       "\n",
       "$sig\n",
       "[1] 0.4250600 0.7070214\n"
      ]
     },
     "metadata": {},
     "output_type": "display_data"
    }
   ],
   "source": [
    "n <- 2000\n",
    "psi <- list(gamma=c(3,3), alpha=c(0,4), lambda=c(4,4), beta=c(2,2))\n",
    "set.seed(1711)\n",
    "rthetaB(psi)\n",
    "res <- rnormmixB(n,psi)\n",
    "\n",
    "sim <- gibbs(res$obs,res$theta,psi)"
   ]
  },
  {
   "cell_type": "code",
   "execution_count": 26,
   "metadata": {},
   "outputs": [
    {
     "data": {
      "image/png": "[encoded data removed]",
      "text/plain": [
       "Plot with title \"Histogram of mu[1, ]\""
      ]
     },
     "metadata": {},
     "output_type": "display_data"
    }
   ],
   "source": [
    "mu <- sapply(sim$theta,function(theta) theta$mu  )\n",
    "hist(mu[1,],freq=F,col='green',xlim=c(min(mu),max(mu)))\n",
    "hist(mu[2,],freq=F,col=rgb(0,0,1,alpha=0.6),add=TRUE)"
   ]
  },
  {
   "cell_type": "code",
   "execution_count": 27,
   "metadata": {},
   "outputs": [
    {
     "data": {
      "image/png": "[encoded data removed]",
      "text/plain": [
       "Plot with title \"Histogram of sig[1, ]\""
      ]
     },
     "metadata": {},
     "output_type": "display_data"
    }
   ],
   "source": [
    "sig <- sapply(sim$theta,function(theta) theta$sig  )\n",
    "hist(sig[1,],freq=F,col='green',xlim=c(min(sig),max(sig)))\n",
    "hist(sig[2,],freq=F,col=rgb(0,0,1,alpha=0.6),add=TRUE)"
   ]
  },
  {
   "cell_type": "code",
   "execution_count": 28,
   "metadata": {},
   "outputs": [
    {
     "data": {
      "image/png": "[encoded data removed]",
      "text/plain": [
       "Plot with title \"Histogram of pi[1, ]\""
      ]
     },
     "metadata": {},
     "output_type": "display_data"
    }
   ],
   "source": [
    "pi <- sapply(sim$theta,function(theta) theta$pi)\n",
    "hist(pi[1,],freq=F,col='green')"
   ]
  },
  {
   "cell_type": "code",
   "execution_count": 29,
   "metadata": {},
   "outputs": [],
   "source": [
    "mu.grille <- seq(-1.5,7,by=.1) \n",
    "G <- length(mu.grille)\n",
    "L <- matrix(NA,nrow=G,ncol=G)\n",
    "param <- res$theta\n",
    "for (k in 1:G)\n",
    "  for (l in 1:G){\n",
    "    param$mu <- c(mu.grille[k],mu.grille[l]) \n",
    "    L[k,l] <- logaposteriori(param,res$obs,psi)     \n",
    "  }  "
   ]
  },
  {
   "cell_type": "code",
   "execution_count": 30,
   "metadata": {},
   "outputs": [],
   "source": [
    "sim.mu <- sapply(sim$theta,function(elem) elem$mu) "
   ]
  },
  {
   "cell_type": "code",
   "execution_count": 31,
   "metadata": {
    "scrolled": false
   },
   "outputs": [
    {
     "data": {
      "image/png": "[encoded data removed]",
      "text/plain": [
       "plot without title"
      ]
     },
     "metadata": {},
     "output_type": "display_data"
    }
   ],
   "source": [
    "image(mu.grille,mu.grille,L,col=grey(0:255/255),xlab='mu_1',ylab='mu_2')\n",
    "contour(mu.grille,mu.grille,L,add=T,nlevels=20,col='red') \n",
    "points(sim.mu[1,],sim.mu[2,],col='blue')"
   ]
  },
  {
   "cell_type": "code",
   "execution_count": 32,
   "metadata": {},
   "outputs": [],
   "source": [
    "tracer.estim <- function(sim){\n",
    "  \n",
    "    return(estim)      \n",
    "}"
   ]
  },
  {
   "cell_type": "code",
   "execution_count": 33,
   "metadata": {},
   "outputs": [],
   "source": [
    "tracer.estim <- function(sim){\n",
    "   sim.pi <- sapply(sim$theta,function(elem) elem$pi) \n",
    "   sim.mu <- sapply(sim$theta,function(elem) elem$mu) \n",
    "   sim.sig <- sapply(sim$theta,function(elem) elem$sig)     \n",
    "   K <- nrow(sim.pi)\n",
    "   R <- ncol(sim.pi)    \n",
    "   par(mfrow=c(3,1))          \n",
    "   plot(1:R,cumsum(sim.pi[1,])/(1:R),type='l',col=1,ylim=c(0,1),ylab='pi',xlab=\"nb d'itérations\")    \n",
    "   for(k in 2:K){\n",
    "       lines(1:R,cumsum(sim.pi[k,])/(1:R),col=k)            \n",
    "   }\n",
    "   estim.mu <- apply(sim.mu,1,function(col)cumsum(col)/(1:R))    \n",
    "   ymin <- min(estim.mu)\n",
    "   ymax <- max(estim.mu)    \n",
    "   plot(1:R,estim.mu[,1],type='l',col=1,ylim=c(ymin,ymax),ylab='mu',xlab=\"nb d'itérations\")    \n",
    "   for(k in 2:K){\n",
    "       lines(1:R,estim.mu[,k],col=k)            \n",
    "   }\n",
    "   estim.sig <- apply(sim.sig,1,function(col)cumsum(col)/(1:R))    \n",
    "   ymin <- min(estim.sig)\n",
    "   ymax <- max(estim.sig)    \n",
    "   plot(1:R,estim.sig[,1],type='l',col=1,ylim=c(ymin,ymax),ylab='sigma',xlab=\"nb d'itérations\")    \n",
    "   for(k in 2:K){\n",
    "       lines(1:R,estim.sig[,k],col=k)            \n",
    "   }\n",
    "   estim=list(pi=rowMeans(sim.pi), mu=rowMeans(sim.mu), sig=rowMeans(sim.sig))\n",
    "   return(estim)      \n",
    "}"
   ]
  },
  {
   "cell_type": "code",
   "execution_count": 34,
   "metadata": {},
   "outputs": [
    {
     "data": {
      "text/html": [
       "<dl>\n",
       "\t<dt>$pi</dt>\n",
       "\t\t<dd><ol class=list-inline>\n",
       "\t<li>0.369864245775988</li>\n",
       "\t<li>0.630135754224012</li>\n",
       "</ol>\n",
       "</dd>\n",
       "\t<dt>$mu</dt>\n",
       "\t\t<dd><ol class=list-inline>\n",
       "\t<li>0.0709549620592912</li>\n",
       "\t<li>3.88166780772894</li>\n",
       "</ol>\n",
       "</dd>\n",
       "\t<dt>$sig</dt>\n",
       "\t\t<dd><ol class=list-inline>\n",
       "\t<li>0.880524876932002</li>\n",
       "\t<li>0.713571362747987</li>\n",
       "</ol>\n",
       "</dd>\n",
       "</dl>\n"
      ],
      "text/latex": [
       "\\begin{description}\n",
       "\\item[\\$pi] \\begin{enumerate*}\n",
       "\\item 0.369864245775988\n",
       "\\item 0.630135754224012\n",
       "\\end{enumerate*}\n",
       "\n",
       "\\item[\\$mu] \\begin{enumerate*}\n",
       "\\item 0.0709549620592912\n",
       "\\item 3.88166780772894\n",
       "\\end{enumerate*}\n",
       "\n",
       "\\item[\\$sig] \\begin{enumerate*}\n",
       "\\item 0.880524876932002\n",
       "\\item 0.713571362747987\n",
       "\\end{enumerate*}\n",
       "\n",
       "\\end{description}\n"
      ],
      "text/markdown": [
       "$pi\n",
       ":   1. 0.369864245775988\n",
       "2. 0.630135754224012\n",
       "\n",
       "\n",
       "\n",
       "$mu\n",
       ":   1. 0.0709549620592912\n",
       "2. 3.88166780772894\n",
       "\n",
       "\n",
       "\n",
       "$sig\n",
       ":   1. 0.880524876932002\n",
       "2. 0.713571362747987\n",
       "\n",
       "\n",
       "\n",
       "\n",
       "\n"
      ],
      "text/plain": [
       "$pi\n",
       "[1] 0.3698642 0.6301358\n",
       "\n",
       "$mu\n",
       "[1] 0.07095496 3.88166781\n",
       "\n",
       "$sig\n",
       "[1] 0.8805249 0.7135714\n"
      ]
     },
     "metadata": {},
     "output_type": "display_data"
    },
    {
     "data": {
      "text/html": [
       "<dl>\n",
       "\t<dt>$pi</dt>\n",
       "\t\t<dd><ol class=list-inline>\n",
       "\t<li>0.372491597589507</li>\n",
       "\t<li>0.627508402410493</li>\n",
       "</ol>\n",
       "</dd>\n",
       "\t<dt>$mu</dt>\n",
       "\t\t<dd><ol class=list-inline>\n",
       "\t<li>0.0747169159770527</li>\n",
       "\t<li>3.91131066566138</li>\n",
       "</ol>\n",
       "</dd>\n",
       "\t<dt>$sig</dt>\n",
       "\t\t<dd><ol class=list-inline>\n",
       "\t<li>0.867604178160948</li>\n",
       "\t<li>0.684337043359945</li>\n",
       "</ol>\n",
       "</dd>\n",
       "</dl>\n"
      ],
      "text/latex": [
       "\\begin{description}\n",
       "\\item[\\$pi] \\begin{enumerate*}\n",
       "\\item 0.372491597589507\n",
       "\\item 0.627508402410493\n",
       "\\end{enumerate*}\n",
       "\n",
       "\\item[\\$mu] \\begin{enumerate*}\n",
       "\\item 0.0747169159770527\n",
       "\\item 3.91131066566138\n",
       "\\end{enumerate*}\n",
       "\n",
       "\\item[\\$sig] \\begin{enumerate*}\n",
       "\\item 0.867604178160948\n",
       "\\item 0.684337043359945\n",
       "\\end{enumerate*}\n",
       "\n",
       "\\end{description}\n"
      ],
      "text/markdown": [
       "$pi\n",
       ":   1. 0.372491597589507\n",
       "2. 0.627508402410493\n",
       "\n",
       "\n",
       "\n",
       "$mu\n",
       ":   1. 0.0747169159770527\n",
       "2. 3.91131066566138\n",
       "\n",
       "\n",
       "\n",
       "$sig\n",
       ":   1. 0.867604178160948\n",
       "2. 0.684337043359945\n",
       "\n",
       "\n",
       "\n",
       "\n",
       "\n"
      ],
      "text/plain": [
       "$pi\n",
       "[1] 0.3724916 0.6275084\n",
       "\n",
       "$mu\n",
       "[1] 0.07471692 3.91131067\n",
       "\n",
       "$sig\n",
       "[1] 0.8676042 0.6843370\n"
      ]
     },
     "metadata": {},
     "output_type": "display_data"
    },
    {
     "data": {
      "image/png": "[encoded data removed]",
      "text/plain": [
       "plot without title"
      ]
     },
     "metadata": {},
     "output_type": "display_data"
    }
   ],
   "source": [
    "tracer.estim(sim)\n",
    "res$theta"
   ]
  },
  {
   "cell_type": "code",
   "execution_count": 35,
   "metadata": {},
   "outputs": [],
   "source": [
    "class.zi <- function(sim){\n",
    "    \n",
    "    return(class)\n",
    "}"
   ]
  },
  {
   "cell_type": "code",
   "execution_count": 36,
   "metadata": {},
   "outputs": [],
   "source": [
    "class.zi <- function(sim){\n",
    "    K <- length(sim$theta[[1]]$pi)\n",
    "    sim.z <- sapply(sim$z,function(elem)elem) # n x R\n",
    "    class <- sapply(1:K,function(k) rowMeans(sim.z==k))\n",
    "    return(class)\n",
    "}"
   ]
  },
  {
   "cell_type": "code",
   "execution_count": 37,
   "metadata": {},
   "outputs": [
    {
     "data": {
      "image/png": "[encoded data removed]",
      "text/plain": [
       "plot without title"
      ]
     },
     "metadata": {},
     "output_type": "display_data"
    }
   ],
   "source": [
    "class <- class.zi(sim)\n",
    "plot(res$obs,class[,1],xlab='x_i',ylab=\"probabilité d'être dans la classe 1\")"
   ]
  },
  {
   "cell_type": "markdown",
   "metadata": {},
   "source": [
    "# Question 6\n",
    "- Pour les mêmes données, appliquer l'échantillonneur de Gibbs  en intialisant les vraies valeurs des paramètres mais **en permutant les composants**. Retracer le graphique de la log-aposterior avec les points simulés. Comparer à la question précédente.\n",
    "- Essayer d'autres points initaux et regarder si on arrive à explorer les deux modes."
   ]
  },
  {
   "cell_type": "code",
   "execution_count": 38,
   "metadata": {},
   "outputs": [],
   "source": [
    "theta.permute <- res$theta\n",
    "theta.permute$pi <- theta.permute$pi[2:1]\n",
    "theta.permute$mu <- theta.permute$mu[2:1]\n",
    "theta.permute$sig <- theta.permute$sig[2:1]\n",
    "\n",
    "sim <- gibbs(res$obs,theta.permute,psi)"
   ]
  },
  {
   "cell_type": "code",
   "execution_count": 39,
   "metadata": {},
   "outputs": [
    {
     "data": {
      "image/png": "[encoded data removed]",
      "text/plain": [
       "plot without title"
      ]
     },
     "metadata": {},
     "output_type": "display_data"
    }
   ],
   "source": [
    "sim.mu <- sapply(sim$theta,function(elem) elem$mu) \n",
    "image(mu.grille,mu.grille,L,col=grey(0:255/255),xlab='mu_1',ylab='mu_2')\n",
    "contour(mu.grille,mu.grille,L,add=T,nlevels=20,col='red') \n",
    "points(sim.mu[1,],sim.mu[2,],col='blue')"
   ]
  },
  {
   "cell_type": "code",
   "execution_count": 40,
   "metadata": {
    "scrolled": false
   },
   "outputs": [
    {
     "data": {
      "image/png": "[encoded data removed]",
      "text/plain": [
       "plot without title"
      ]
     },
     "metadata": {},
     "output_type": "display_data"
    }
   ],
   "source": [
    "theta <- res$theta\n",
    "theta$mu <- c(3,2)  # entre les deux modes\n",
    "sim <- gibbs(res$obs,theta,psi)\n",
    "image(mu.grille,mu.grille,L,col=grey(0:255/255),xlab='mu_1',ylab='mu_2')\n",
    "contour(mu.grille,mu.grille,L,add=T,nlevels=20,col='red') \n",
    "sim.mu <- sapply(sim$theta,function(elem) elem$mu) \n",
    "points(sim.mu[1,],sim.mu[2,],col='blue')   "
   ]
  },
  {
   "cell_type": "code",
   "execution_count": 41,
   "metadata": {
    "scrolled": true
   },
   "outputs": [
    {
     "data": {
      "image/png": "[encoded data removed]",
      "text/plain": [
       "plot without title"
      ]
     },
     "metadata": {},
     "output_type": "display_data"
    }
   ],
   "source": [
    "class <- class.zi(sim)\n",
    "plot(res$obs,class[,1],xlab='x_i',ylab=\"probabilité d'être dans la classe 1\")"
   ]
  },
  {
   "cell_type": "code",
   "execution_count": 42,
   "metadata": {},
   "outputs": [
    {
     "data": {
      "image/png": "[encoded data removed]",
      "text/plain": [
       "plot without title"
      ]
     },
     "metadata": {},
     "output_type": "display_data"
    }
   ],
   "source": [
    "theta <- res$theta\n",
    "theta$mu <- c(6,5) ##  logaposteriori très basse\n",
    "sim <- gibbs(res$obs,theta,psi)\n",
    "image(mu.grille,mu.grille,L,col=grey(0:255/255),xlab='mu_1',ylab='mu_2')\n",
    "contour(mu.grille,mu.grille,L,add=T,nlevels=20,col='red') \n",
    "sim.mu <- sapply(sim$theta,function(elem) elem$mu) \n",
    "points(sim.mu[1,],sim.mu[2,],col='blue')"
   ]
  },
  {
   "cell_type": "code",
   "execution_count": 43,
   "metadata": {},
   "outputs": [
    {
     "data": {
      "image/png": "[encoded data removed]",
      "text/plain": [
       "plot without title"
      ]
     },
     "metadata": {},
     "output_type": "display_data"
    }
   ],
   "source": [
    "class <- class.zi(sim)\n",
    "plot(res$obs,class[,1],xlab='x_i',ylab=\"probabilité d'être dans la classe 1\")"
   ]
  },
  {
   "cell_type": "markdown",
   "metadata": {},
   "source": [
    "Quelque soit le point initial, l'algorithme n'expolore qu'un seul mode. Il n'arrive pas à \"traverser\" une vallée pour passer à l'autre mode (même si on augmente considérablement le nombre d'itérations.)"
   ]
  },
  {
   "cell_type": "markdown",
   "metadata": {
    "collapsed": true
   },
   "source": [
    "### Application aux données réelles\n",
    "\n",
    "Pour appliquer l'échantillonneur de Gibbs, il faut choisir des valeurs des hyperparamètres. Nous allons faire le choix suivant pour un mélange de deux gaussiennes :\n",
    "- $\\gamma_k=\\frac12, k=1,2$,\n",
    "- $\\alpha_1=\\min\\{x_1,\\dots,x_n\\}, \\alpha_2=\\min\\{x_1,\\dots,x_n\\}$,\n",
    "- $\\lambda_k=2, k=1,2$,\n",
    "- $\\beta_k=s_x^2=\\frac1n\\sum_{i=1}^n(x_i-\\bar x)^2, k=1,2$\n",
    "\n",
    "Et pour initialiser $\\theta$, on utilisera :\n",
    "- $\\pi_k=\\frac12, k=1,2$\n",
    "- $\\mu_1=\\min\\{x_1,\\dots,x_n\\}, \\mu_2=\\min\\{x_1,\\dots,x_n\\}$,\n",
    "- $\\sigma_k=s_x, k=1,2$.\n",
    "\n",
    "\n",
    "# Question 7\n",
    "Appliquer le Gibbs sampler aux données **ailes** et **chlor** disponible dans le fichier **donneesmelange.RData**. Contrôler la convergence de l'algorithme à l'aide des tracés des estimateurs bayésiens en fonction du nombre d'itérations. Représenter graphiquement les probabilités $p_{i,1}$ des observations d'appartenir au premier groupe du mélange. Comparer les résultats à ceux obtenus par l'algorithme EM."
   ]
  },
  {
   "cell_type": "code",
   "execution_count": 44,
   "metadata": {},
   "outputs": [],
   "source": [
    "load('donneesmelange.RData')"
   ]
  },
  {
   "cell_type": "code",
   "execution_count": 45,
   "metadata": {
    "scrolled": true
   },
   "outputs": [
    {
     "data": {
      "text/html": [
       "<dl>\n",
       "\t<dt>$gamma</dt>\n",
       "\t\t<dd><ol class=list-inline>\n",
       "\t<li>0.5</li>\n",
       "\t<li>0.5</li>\n",
       "</ol>\n",
       "</dd>\n",
       "\t<dt>$alpha</dt>\n",
       "\t\t<dd><ol class=list-inline>\n",
       "\t<li>82</li>\n",
       "\t<li>98</li>\n",
       "</ol>\n",
       "</dd>\n",
       "\t<dt>$lambda</dt>\n",
       "\t\t<dd><ol class=list-inline>\n",
       "\t<li>2</li>\n",
       "\t<li>2</li>\n",
       "</ol>\n",
       "</dd>\n",
       "\t<dt>$beta</dt>\n",
       "\t\t<dd><ol class=list-inline>\n",
       "\t<li>11.9550904821108</li>\n",
       "\t<li>11.9550904821108</li>\n",
       "</ol>\n",
       "</dd>\n",
       "</dl>\n"
      ],
      "text/latex": [
       "\\begin{description}\n",
       "\\item[\\$gamma] \\begin{enumerate*}\n",
       "\\item 0.5\n",
       "\\item 0.5\n",
       "\\end{enumerate*}\n",
       "\n",
       "\\item[\\$alpha] \\begin{enumerate*}\n",
       "\\item 82\n",
       "\\item 98\n",
       "\\end{enumerate*}\n",
       "\n",
       "\\item[\\$lambda] \\begin{enumerate*}\n",
       "\\item 2\n",
       "\\item 2\n",
       "\\end{enumerate*}\n",
       "\n",
       "\\item[\\$beta] \\begin{enumerate*}\n",
       "\\item 11.9550904821108\n",
       "\\item 11.9550904821108\n",
       "\\end{enumerate*}\n",
       "\n",
       "\\end{description}\n"
      ],
      "text/markdown": [
       "$gamma\n",
       ":   1. 0.5\n",
       "2. 0.5\n",
       "\n",
       "\n",
       "\n",
       "$alpha\n",
       ":   1. 82\n",
       "2. 98\n",
       "\n",
       "\n",
       "\n",
       "$lambda\n",
       ":   1. 2\n",
       "2. 2\n",
       "\n",
       "\n",
       "\n",
       "$beta\n",
       ":   1. 11.9550904821108\n",
       "2. 11.9550904821108\n",
       "\n",
       "\n",
       "\n",
       "\n",
       "\n"
      ],
      "text/plain": [
       "$gamma\n",
       "[1] 0.5 0.5\n",
       "\n",
       "$alpha\n",
       "[1] 82 98\n",
       "\n",
       "$lambda\n",
       "[1] 2 2\n",
       "\n",
       "$beta\n",
       "[1] 11.95509 11.95509\n"
      ]
     },
     "metadata": {},
     "output_type": "display_data"
    },
    {
     "data": {
      "text/html": [
       "<dl>\n",
       "\t<dt>$pi</dt>\n",
       "\t\t<dd><ol class=list-inline>\n",
       "\t<li>0.5</li>\n",
       "\t<li>0.5</li>\n",
       "</ol>\n",
       "</dd>\n",
       "\t<dt>$mu</dt>\n",
       "\t\t<dd><ol class=list-inline>\n",
       "\t<li>82</li>\n",
       "\t<li>98</li>\n",
       "</ol>\n",
       "</dd>\n",
       "\t<dt>$sig</dt>\n",
       "\t\t<dd><ol class=list-inline>\n",
       "\t<li>3.45761340842362</li>\n",
       "\t<li>3.45761340842362</li>\n",
       "</ol>\n",
       "</dd>\n",
       "</dl>\n"
      ],
      "text/latex": [
       "\\begin{description}\n",
       "\\item[\\$pi] \\begin{enumerate*}\n",
       "\\item 0.5\n",
       "\\item 0.5\n",
       "\\end{enumerate*}\n",
       "\n",
       "\\item[\\$mu] \\begin{enumerate*}\n",
       "\\item 82\n",
       "\\item 98\n",
       "\\end{enumerate*}\n",
       "\n",
       "\\item[\\$sig] \\begin{enumerate*}\n",
       "\\item 3.45761340842362\n",
       "\\item 3.45761340842362\n",
       "\\end{enumerate*}\n",
       "\n",
       "\\end{description}\n"
      ],
      "text/markdown": [
       "$pi\n",
       ":   1. 0.5\n",
       "2. 0.5\n",
       "\n",
       "\n",
       "\n",
       "$mu\n",
       ":   1. 82\n",
       "2. 98\n",
       "\n",
       "\n",
       "\n",
       "$sig\n",
       ":   1. 3.45761340842362\n",
       "2. 3.45761340842362\n",
       "\n",
       "\n",
       "\n",
       "\n",
       "\n"
      ],
      "text/plain": [
       "$pi\n",
       "[1] 0.5 0.5\n",
       "\n",
       "$mu\n",
       "[1] 82 98\n",
       "\n",
       "$sig\n",
       "[1] 3.457613 3.457613\n"
      ]
     },
     "metadata": {},
     "output_type": "display_data"
    }
   ],
   "source": [
    "psi.ailes <- list(gamma=c(1/2,1/2), alpha= c(min(ailes),max(ailes)), lambda=c(2,2), beta=c(1,1)*var(ailes))\n",
    "psi.ailes\n",
    "\n",
    "theta.ailes <- list(pi=c(.5,.5),mu = c(min(ailes),max(ailes)),sig=sd(ailes)*c(1,1))\n",
    "theta.ailes"
   ]
  },
  {
   "cell_type": "code",
   "execution_count": 46,
   "metadata": {},
   "outputs": [],
   "source": [
    "gibbs.ailes <- gibbs(ailes,theta.ailes,psi.ailes,R=1000)"
   ]
  },
  {
   "cell_type": "code",
   "execution_count": 47,
   "metadata": {},
   "outputs": [
    {
     "data": {
      "text/html": [
       "<dl>\n",
       "\t<dt>$pi</dt>\n",
       "\t\t<dd><ol class=list-inline>\n",
       "\t<li>0.478489928628226</li>\n",
       "\t<li>0.521510071371774</li>\n",
       "</ol>\n",
       "</dd>\n",
       "\t<dt>$mu</dt>\n",
       "\t\t<dd><ol class=list-inline>\n",
       "\t<li>86.0780455802219</li>\n",
       "\t<li>92.3357606564246</li>\n",
       "</ol>\n",
       "</dd>\n",
       "\t<dt>$sig</dt>\n",
       "\t\t<dd><ol class=list-inline>\n",
       "\t<li>1.56115289373515</li>\n",
       "\t<li>1.74466083393084</li>\n",
       "</ol>\n",
       "</dd>\n",
       "</dl>\n"
      ],
      "text/latex": [
       "\\begin{description}\n",
       "\\item[\\$pi] \\begin{enumerate*}\n",
       "\\item 0.478489928628226\n",
       "\\item 0.521510071371774\n",
       "\\end{enumerate*}\n",
       "\n",
       "\\item[\\$mu] \\begin{enumerate*}\n",
       "\\item 86.0780455802219\n",
       "\\item 92.3357606564246\n",
       "\\end{enumerate*}\n",
       "\n",
       "\\item[\\$sig] \\begin{enumerate*}\n",
       "\\item 1.56115289373515\n",
       "\\item 1.74466083393084\n",
       "\\end{enumerate*}\n",
       "\n",
       "\\end{description}\n"
      ],
      "text/markdown": [
       "$pi\n",
       ":   1. 0.478489928628226\n",
       "2. 0.521510071371774\n",
       "\n",
       "\n",
       "\n",
       "$mu\n",
       ":   1. 86.0780455802219\n",
       "2. 92.3357606564246\n",
       "\n",
       "\n",
       "\n",
       "$sig\n",
       ":   1. 1.56115289373515\n",
       "2. 1.74466083393084\n",
       "\n",
       "\n",
       "\n",
       "\n",
       "\n"
      ],
      "text/plain": [
       "$pi\n",
       "[1] 0.4784899 0.5215101\n",
       "\n",
       "$mu\n",
       "[1] 86.07805 92.33576\n",
       "\n",
       "$sig\n",
       "[1] 1.561153 1.744661\n"
      ]
     },
     "metadata": {},
     "output_type": "display_data"
    },
    {
     "data": {
      "image/png": "[encoded data removed]",
      "text/plain": [
       "plot without title"
      ]
     },
     "metadata": {},
     "output_type": "display_data"
    }
   ],
   "source": [
    "tracer.estim(gibbs.ailes)"
   ]
  },
  {
   "cell_type": "code",
   "execution_count": 48,
   "metadata": {},
   "outputs": [
    {
     "data": {
      "image/png": "[encoded data removed]",
      "text/plain": [
       "plot without title"
      ]
     },
     "metadata": {},
     "output_type": "display_data"
    }
   ],
   "source": [
    "class <- class.zi(gibbs.ailes)\n",
    "plot(ailes,class[,1],xlab='x_i',ylab=\"probabilité d'être dans la classe 1\")"
   ]
  },
  {
   "cell_type": "code",
   "execution_count": 49,
   "metadata": {},
   "outputs": [
    {
     "data": {
      "text/html": [
       "<dl>\n",
       "\t<dt>$gamma</dt>\n",
       "\t\t<dd><ol class=list-inline>\n",
       "\t<li>0.5</li>\n",
       "\t<li>0.5</li>\n",
       "</ol>\n",
       "</dd>\n",
       "\t<dt>$alpha</dt>\n",
       "\t\t<dd><ol class=list-inline>\n",
       "\t<li>88</li>\n",
       "\t<li>115</li>\n",
       "</ol>\n",
       "</dd>\n",
       "\t<dt>$lambda</dt>\n",
       "\t\t<dd><ol class=list-inline>\n",
       "\t<li>2</li>\n",
       "\t<li>2</li>\n",
       "</ol>\n",
       "</dd>\n",
       "\t<dt>$beta</dt>\n",
       "\t\t<dd><ol class=list-inline>\n",
       "\t<li>13.6688549972376</li>\n",
       "\t<li>13.6688549972376</li>\n",
       "</ol>\n",
       "</dd>\n",
       "</dl>\n"
      ],
      "text/latex": [
       "\\begin{description}\n",
       "\\item[\\$gamma] \\begin{enumerate*}\n",
       "\\item 0.5\n",
       "\\item 0.5\n",
       "\\end{enumerate*}\n",
       "\n",
       "\\item[\\$alpha] \\begin{enumerate*}\n",
       "\\item 88\n",
       "\\item 115\n",
       "\\end{enumerate*}\n",
       "\n",
       "\\item[\\$lambda] \\begin{enumerate*}\n",
       "\\item 2\n",
       "\\item 2\n",
       "\\end{enumerate*}\n",
       "\n",
       "\\item[\\$beta] \\begin{enumerate*}\n",
       "\\item 13.6688549972376\n",
       "\\item 13.6688549972376\n",
       "\\end{enumerate*}\n",
       "\n",
       "\\end{description}\n"
      ],
      "text/markdown": [
       "$gamma\n",
       ":   1. 0.5\n",
       "2. 0.5\n",
       "\n",
       "\n",
       "\n",
       "$alpha\n",
       ":   1. 88\n",
       "2. 115\n",
       "\n",
       "\n",
       "\n",
       "$lambda\n",
       ":   1. 2\n",
       "2. 2\n",
       "\n",
       "\n",
       "\n",
       "$beta\n",
       ":   1. 13.6688549972376\n",
       "2. 13.6688549972376\n",
       "\n",
       "\n",
       "\n",
       "\n",
       "\n"
      ],
      "text/plain": [
       "$gamma\n",
       "[1] 0.5 0.5\n",
       "\n",
       "$alpha\n",
       "[1]  88 115\n",
       "\n",
       "$lambda\n",
       "[1] 2 2\n",
       "\n",
       "$beta\n",
       "[1] 13.66885 13.66885\n"
      ]
     },
     "metadata": {},
     "output_type": "display_data"
    },
    {
     "data": {
      "text/html": [
       "<dl>\n",
       "\t<dt>$pi</dt>\n",
       "\t\t<dd><ol class=list-inline>\n",
       "\t<li>0.5</li>\n",
       "\t<li>0.5</li>\n",
       "</ol>\n",
       "</dd>\n",
       "\t<dt>$mu</dt>\n",
       "\t\t<dd><ol class=list-inline>\n",
       "\t<li>88</li>\n",
       "\t<li>115</li>\n",
       "</ol>\n",
       "</dd>\n",
       "\t<dt>$sig</dt>\n",
       "\t\t<dd><ol class=list-inline>\n",
       "\t<li>3.69714146297347</li>\n",
       "\t<li>3.69714146297347</li>\n",
       "</ol>\n",
       "</dd>\n",
       "</dl>\n"
      ],
      "text/latex": [
       "\\begin{description}\n",
       "\\item[\\$pi] \\begin{enumerate*}\n",
       "\\item 0.5\n",
       "\\item 0.5\n",
       "\\end{enumerate*}\n",
       "\n",
       "\\item[\\$mu] \\begin{enumerate*}\n",
       "\\item 88\n",
       "\\item 115\n",
       "\\end{enumerate*}\n",
       "\n",
       "\\item[\\$sig] \\begin{enumerate*}\n",
       "\\item 3.69714146297347\n",
       "\\item 3.69714146297347\n",
       "\\end{enumerate*}\n",
       "\n",
       "\\end{description}\n"
      ],
      "text/markdown": [
       "$pi\n",
       ":   1. 0.5\n",
       "2. 0.5\n",
       "\n",
       "\n",
       "\n",
       "$mu\n",
       ":   1. 88\n",
       "2. 115\n",
       "\n",
       "\n",
       "\n",
       "$sig\n",
       ":   1. 3.69714146297347\n",
       "2. 3.69714146297347\n",
       "\n",
       "\n",
       "\n",
       "\n",
       "\n"
      ],
      "text/plain": [
       "$pi\n",
       "[1] 0.5 0.5\n",
       "\n",
       "$mu\n",
       "[1]  88 115\n",
       "\n",
       "$sig\n",
       "[1] 3.697141 3.697141\n"
      ]
     },
     "metadata": {},
     "output_type": "display_data"
    }
   ],
   "source": [
    "psi.chlor <- list(gamma=c(1/2,1/2), alpha= c(min(chlor),max(chlor)), lambda=c(2,2), beta=c(1,1)*var(chlor))\n",
    "psi.chlor\n",
    "\n",
    "theta.chlor <- list(pi=c(.5,.5),mu = c(min(chlor),max(chlor)),sig=sd(chlor)*c(1,1))\n",
    "theta.chlor"
   ]
  },
  {
   "cell_type": "code",
   "execution_count": 50,
   "metadata": {},
   "outputs": [],
   "source": [
    "gibbs.chlor <- gibbs(chlor,theta.chlor,psi.chlor,R=5000)"
   ]
  },
  {
   "cell_type": "code",
   "execution_count": 51,
   "metadata": {},
   "outputs": [
    {
     "data": {
      "text/html": [
       "<dl>\n",
       "\t<dt>$pi</dt>\n",
       "\t\t<dd><ol class=list-inline>\n",
       "\t<li>0.972690852706595</li>\n",
       "\t<li>0.027309147293405</li>\n",
       "</ol>\n",
       "</dd>\n",
       "\t<dt>$mu</dt>\n",
       "\t\t<dd><ol class=list-inline>\n",
       "\t<li>99.9054492597358</li>\n",
       "\t<li>111.375951430197</li>\n",
       "</ol>\n",
       "</dd>\n",
       "\t<dt>$sig</dt>\n",
       "\t\t<dd><ol class=list-inline>\n",
       "\t<li>3.58736443683544</li>\n",
       "\t<li>3.99133427282057</li>\n",
       "</ol>\n",
       "</dd>\n",
       "</dl>\n"
      ],
      "text/latex": [
       "\\begin{description}\n",
       "\\item[\\$pi] \\begin{enumerate*}\n",
       "\\item 0.972690852706595\n",
       "\\item 0.027309147293405\n",
       "\\end{enumerate*}\n",
       "\n",
       "\\item[\\$mu] \\begin{enumerate*}\n",
       "\\item 99.9054492597358\n",
       "\\item 111.375951430197\n",
       "\\end{enumerate*}\n",
       "\n",
       "\\item[\\$sig] \\begin{enumerate*}\n",
       "\\item 3.58736443683544\n",
       "\\item 3.99133427282057\n",
       "\\end{enumerate*}\n",
       "\n",
       "\\end{description}\n"
      ],
      "text/markdown": [
       "$pi\n",
       ":   1. 0.972690852706595\n",
       "2. 0.027309147293405\n",
       "\n",
       "\n",
       "\n",
       "$mu\n",
       ":   1. 99.9054492597358\n",
       "2. 111.375951430197\n",
       "\n",
       "\n",
       "\n",
       "$sig\n",
       ":   1. 3.58736443683544\n",
       "2. 3.99133427282057\n",
       "\n",
       "\n",
       "\n",
       "\n",
       "\n"
      ],
      "text/plain": [
       "$pi\n",
       "[1] 0.97269085 0.02730915\n",
       "\n",
       "$mu\n",
       "[1]  99.90545 111.37595\n",
       "\n",
       "$sig\n",
       "[1] 3.587364 3.991334\n"
      ]
     },
     "metadata": {},
     "output_type": "display_data"
    },
    {
     "data": {
      "image/png": "[encoded data removed]",
      "text/plain": [
       "plot without title"
      ]
     },
     "metadata": {},
     "output_type": "display_data"
    }
   ],
   "source": [
    "tracer.estim(gibbs.chlor)"
   ]
  },
  {
   "cell_type": "code",
   "execution_count": 52,
   "metadata": {},
   "outputs": [
    {
     "data": {
      "image/png": "[encoded data removed]",
      "text/plain": [
       "plot without title"
      ]
     },
     "metadata": {},
     "output_type": "display_data"
    }
   ],
   "source": [
    "class <- class.zi(gibbs.chlor)\n",
    "plot(chlor,class[,1],xlab='x_i',ylab=\"probabilité d'être dans la classe 1\")"
   ]
  }
 ],
 "metadata": {
  "kernelspec": {
   "display_name": "R",
   "language": "R",
   "name": "ir"
  },
  "language_info": {
   "codemirror_mode": "r",
   "file_extension": ".r",
   "mimetype": "text/x-r-source",
   "name": "R",
   "pygments_lexer": "r",
   "version": "3.6.1"
  }
 },
 "nbformat": 4,
 "nbformat_minor": 1
}
