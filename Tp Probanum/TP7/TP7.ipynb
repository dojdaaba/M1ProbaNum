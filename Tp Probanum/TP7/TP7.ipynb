{
 "cells": [
  {
   "cell_type": "markdown",
   "metadata": {},
   "source": [
    "# Bootstrap\n",
    "\n",
    "## Données *air-conditioning*\n",
    "Dans ce TP nous considérons des données concernant un système de climatisation. Les observations sont les durées (en heure) entre deux pannes de la climatisation (source: *Bootstrap methods and their application*, Davison & Hinkley, 1997). On s'intèresse à l'estimation du taux de défaillance. Celui est estimé par $T=1/\\bar X_n$ où $X_i$ désignent les observations. Voici les données :\n"
   ]
  },
  {
   "cell_type": "code",
   "execution_count": 1,
   "metadata": {},
   "outputs": [],
   "source": [
    "aircond <- c(487, 18, 85, 91, 5, 130, 230, 43, 98, 7, 100, 3)"
   ]
  },
  {
   "cell_type": "markdown",
   "metadata": {},
   "source": [
    "## Question 1\n",
    "\n",
    "Tracer l'histogramme des données **aircond**. Supposons que les données suivent une loi exponentielle $\\mathcal E(\\theta)$. Estimer le paramètre $\\theta$ à partir des données et superposer la densité estimée à l'histogramme. Le choix de la loi exponentielle vous semble adéquat?"
   ]
  },
  {
   "cell_type": "code",
   "execution_count": 2,
   "metadata": {},
   "outputs": [
    {
     "data": {
      "image/png": "[encoded data removed]",
      "text/plain": [
       "Plot with title \"Histogram of aircond\""
      ]
     },
     "metadata": {},
     "output_type": "display_data"
    }
   ],
   "source": [
    "hist(aircond, freq=FALSE, breaks=8)\n",
    "curve(dexp(x, 1/mean(aircond)), add=TRUE)"
   ]
  },
  {
   "cell_type": "markdown",
   "metadata": {},
   "source": [
    "## Générer des échantillons bootstrap\n",
    "\n",
    "Notons $x_1,\\dots,x_n$ des réalisations i.i.d. d'une loi $F$.\n",
    "\n",
    "Rappelons que l'on obtient un **échantillon bootstrap non paramétrique** en tirant avec remise des valeurs dans l'échantillon $(x_1,\\dots,x_n)$.\n",
    "\n",
    "Si on a un modèle paramétrique des données en sorte que $X_i\\sim F_\\theta$ avec un paramètre $\\theta$ inconnu et si on dispose d'un estimateur $T$ de $\\theta$, on créé un **échantillon bootstrap paramétrique** en simulant de la loi estimée $F_t$ où $t=T(x_1,\\dots,x_n)$ est la valeur de l'estimateur sur les données observées.\n",
    "\n",
    "## Question 2\n",
    "\n",
    "- Créer trois échantillons bootstrap non paramétrique des données **aircond** (utiliser la fonction **sample**). Comparez les fonctions de répartition empiriques associées par un graphique (utiliser la fonction **ecdf**). Ajouter la fonction de répartition empirique des données **aircond**. Commentez.\n",
    "- Créer trois échantillons bootstrap  paramétrique des données **aircond**. Plus précisément, supposons que les données sont i.i.d. de loi exponentielle. Comparez les fonctions de répartition empiriques associées par un graphique.  Ajouter la fonction de répartition empirique des données **aircond** ainsi que la fonction de répartition de la loi exponentielle ajustée. Commentez."
   ]
  },
  {
   "cell_type": "code",
   "execution_count": 3,
   "metadata": {
    "scrolled": false
   },
   "outputs": [
    {
     "data": {
      "image/png": "[encoded data removed]",
      "text/plain": [
       "Plot with title \"Echantillons bootstrap non paramétrique\""
      ]
     },
     "metadata": {},
     "output_type": "display_data"
    }
   ],
   "source": [
    "obs1.boot <- sample(aircond, replace=TRUE)\n",
    "obs2.boot <- sample(aircond, replace=TRUE)\n",
    "obs3.boot <- sample(aircond, replace=TRUE)\n",
    "plot(ecdf(obs1.boot), xlim=c(0, max(aircond)), col=2, main='Echantillons bootstrap non paramétrique')\n",
    "plot(ecdf(obs2.boot), add=TRUE, col=3)\n",
    "plot(ecdf(obs3.boot), add=TRUE, col=4)\n",
    "plot(ecdf(aircond), add=TRUE, col=1)\n",
    "legend(300, .6, lty=1, legend='aircond')"
   ]
  },
  {
   "cell_type": "code",
   "execution_count": 4,
   "metadata": {},
   "outputs": [
    {
     "data": {
      "image/png": "[encoded data removed]",
      "text/plain": [
       "Plot with title \"Echantillons bootstrap paramétrique\""
      ]
     },
     "metadata": {},
     "output_type": "display_data"
    }
   ],
   "source": [
    "n <- length(aircond)\n",
    "theta.hat <- 1/mean(aircond)\n",
    "obs1.boot <- rexp(n, theta.hat)\n",
    "obs2.boot <- rexp(n, theta.hat)\n",
    "obs3.boot <- rexp(n, theta.hat)\n",
    "plot(ecdf(obs1.boot), xlim=c(0, max(aircond)), col=2, main='Echantillons bootstrap paramétrique')\n",
    "plot(ecdf(obs2.boot), add=TRUE, col=3)\n",
    "plot(ecdf(obs3.boot), add=TRUE, col=4)\n",
    "plot(ecdf(aircond), add=TRUE, col=1)\n",
    "curve(pexp(x, theta.hat), add=TRUE,col=5)\n",
    "legend(300, .6, lty=1, legend='aircond')"
   ]
  },
  {
   "cell_type": "markdown",
   "metadata": {},
   "source": [
    "## Répliques bootstrap de l'estimateur\n",
    "\n",
    "Selon le type d'échantillon bootstrap utilisé (paramétrique ou non), on obtient des **répliques bootstrap** paramétrique ou non paramétrique $T^*$ de l'estimateur $T$. Autrement dit, $T^*$ est la valeur de l'estimateur $T$ sur un échantillon bootstrap.\n",
    "\n",
    "## Question 3\n",
    "\n",
    "- Ecrire une fonction **boot.np** qui prend en argument le vecteur de données **obs** et le nombre **R** de répliques bootstrap de l'estimateur $T=1/\\bar X_n$ souhaité. La fonction\n",
    "génère **R** échantillons bootstrap non paramétrique sur lesquels l'estimateur $T$ est évalué et elle renvoie ces répliques bootstrap.\n",
    "- Ecrire une fonction **boot.exp**  équivalente à la focntion **boot.np**, mais qui repose sur des échantillons bootstrap paramétriques dans le modèle des lois exponentielles.\n",
    "- Afin de comparer la loi de l'estimateur $T$ à la loi de la réplique bootstrap (paramétrique ou non) $T^*$, écrire une fonction **estim.T** qui génère $R$ réalisations de l'estimateur $T$ à partir de $R$ échantillons simulées de taille $n$ de loi exponentielle $\\mathcal E(\\theta)$ (les valeurs de $\\theta$, $n$ et $R$ sont à passer à la fonction en argument)."
   ]
  },
  {
   "cell_type": "code",
   "execution_count": 5,
   "metadata": {},
   "outputs": [],
   "source": [
    "boot.np <- function(obs, R=1000){\n",
    "  return(replicate(R, 1/mean(sample(obs, replace=TRUE))))\n",
    "}"
   ]
  },
  {
   "cell_type": "code",
   "execution_count": 6,
   "metadata": {},
   "outputs": [],
   "source": [
    "boot.exp <- function(obs, R=1000){\n",
    "  n <- length(obs)\n",
    "  theta.hat <- 1/mean(obs)  \n",
    "  return(replicate(R, 1/mean(rexp(n, theta.hat))))\n",
    "}"
   ]
  },
  {
   "cell_type": "code",
   "execution_count": 7,
   "metadata": {},
   "outputs": [],
   "source": [
    "estim.T <- function(theta, n, R=1000){\n",
    "    return(replicate(R, 1/mean(rexp(n, theta))))\n",
    "}"
   ]
  },
  {
   "cell_type": "markdown",
   "metadata": {},
   "source": [
    "## Question 4\n",
    "\n",
    "- Pour les données **aircond** générer 1000 répliques bootstrap de l'estimateur **T** par les deux approches : paramétrique et non paramétrique. Stocker les vecteurs dans deux variables distinctes.\n",
    "- Tracer l'histogramme des répliques bootstrap dans les deux cas. Tracer des QQ-plots pour comparer la distribution des deux vecteurs à la loi normale (fonction **qqnorm**). Que dire de la loi des répliques bootstrap ?\n",
    "- Tracer les fonctions de répartition empiriques des deux vecteurs dans un même graphique.  Faire un QQ-plot pour comparer les distributions des deux vecteurs entre eux (fonction **qqplot**). Interprétez !\n",
    "- Générer un très grand échantillon de la loi de $T$ avec $n=12$ et $\\theta=t=$ valeur observée de $T$ sur les données **aircond**. Ensuite tracer des QQ-plots pour comparer les répliques bootstrap (paramétrique et non paramétrique) aux valeurs simulées de $T$. Interpréter."
   ]
  },
  {
   "cell_type": "code",
   "execution_count": 8,
   "metadata": {},
   "outputs": [],
   "source": [
    "estim.np <- boot.np(aircond, 1000)\n",
    "estim.exp <- boot.exp(aircond, 1000)"
   ]
  },
  {
   "cell_type": "code",
   "execution_count": 9,
   "metadata": {},
   "outputs": [
    {
     "data": {
      "image/png": "[encoded data removed]",
      "text/plain": [
       "Plot with title \"Bootstrap paramétrique\""
      ]
     },
     "metadata": {},
     "output_type": "display_data"
    }
   ],
   "source": [
    "par(mfrow=c(1, 2))\n",
    "hist(estim.np, freq=FALSE, main='Bootstrap nonparamétrique', xlab='répliques bootstrap')\n",
    "hist(estim.exp, freq=FALSE, main='Bootstrap paramétrique', xlab='répliques bootstrap')"
   ]
  },
  {
   "cell_type": "code",
   "execution_count": 10,
   "metadata": {
    "scrolled": true
   },
   "outputs": [
    {
     "data": {
      "image/png": "[encoded data removed]",
      "text/plain": [
       "Plot with title \"Normal Q-Q Plot\""
      ]
     },
     "metadata": {},
     "output_type": "display_data"
    }
   ],
   "source": [
    "centreduit <- function(vec)\n",
    "    return((vec-mean(vec))/sd(vec))\n",
    "\n",
    "par(mfrow=c(1,2))\n",
    "qqnorm(centreduit(estim.np), ylab='répliques non paramétriques')\n",
    "abline(0,1)\n",
    "qqnorm(centreduit(estim.exp), ylab='répliques paramétriques')\n",
    "abline(0,1)"
   ]
  },
  {
   "cell_type": "code",
   "execution_count": 11,
   "metadata": {},
   "outputs": [
    {
     "data": {
      "image/png": "[encoded data removed]",
      "text/plain": [
       "Plot with title \"Répliques bootstrap\""
      ]
     },
     "metadata": {},
     "output_type": "display_data"
    }
   ],
   "source": [
    "plot(ecdf(estim.np), col='green', main='Répliques bootstrap')\n",
    "plot(ecdf(estim.exp), col='blue', add=TRUE)\n",
    "legend(.015, .5, legend=c('nonparamétrique', 'paramétrique'), col=c('green', 'blue'), lty=1)"
   ]
  },
  {
   "cell_type": "code",
   "execution_count": 12,
   "metadata": {},
   "outputs": [
    {
     "data": {
      "image/png": "[encoded data removed]",
      "text/plain": [
       "Plot with title \"QQ-plot\""
      ]
     },
     "metadata": {},
     "output_type": "display_data"
    }
   ],
   "source": [
    "qqplot(estim.np, estim.exp, xlab='répliques non paramétriques', ylab='répliques paramétriques', main='QQ-plot')\n",
    "abline(0, 1)"
   ]
  },
  {
   "cell_type": "code",
   "execution_count": 13,
   "metadata": {},
   "outputs": [
    {
     "data": {
      "image/png": "[encoded data removed]",
      "text/plain": [
       "Plot with title \"QQ-plot\""
      ]
     },
     "metadata": {},
     "output_type": "display_data"
    }
   ],
   "source": [
    "qqplot(centreduit(estim.np), centreduit(estim.exp), xlab='répliques non paramétriques', ylab='répliques paramétriques', main='QQ-plot')\n",
    "abline(0, 1)"
   ]
  },
  {
   "cell_type": "code",
   "execution_count": 14,
   "metadata": {},
   "outputs": [
    {
     "data": {
      "image/png": "[encoded data removed]",
      "text/plain": [
       "Plot with title \"Bootstrap paramétrique\""
      ]
     },
     "metadata": {},
     "output_type": "display_data"
    }
   ],
   "source": [
    "n <- length(aircond)\n",
    "theta <- 1/mean(aircond)\n",
    "T <- estim.T(theta, n, 100000)\n",
    "par(mfrow=c(1, 2))\n",
    "qqplot(T, estim.np, main='Bootstrap non paramétrique')\n",
    "abline(0,1)\n",
    "qqplot(T, estim.exp, main='Bootstrap paramétrique')\n",
    "abline(0,1)"
   ]
  },
  {
   "cell_type": "markdown",
   "metadata": {},
   "source": [
    "Réponse\n",
    "Dans les deux cas (param. et non param.), la loi des répliques bootstrap est unimodale et exhibe une certaine asymétrie (histogrammes). La loi n'est pas une loi normale (QQ-plots).\n",
    "Les deux vecteurs ont à peu près la même loi, car les fonctions de répartition empirique sont proches. Les points du QQ-plot des données centrées-réduites s'alignent bien sur la première bissectrice, ce qui indique que les lois sont les mêmes à une transformation affine près. Donc, il n'y a pas une grande différence entre la loi de l'estimateur bootstrap  T∗  dans le cas bootstrap paramétrique et dans le cas bootstrap non paramétrique.\n",
    "Avec les deux approches bootstrap la loi de  T∗  est relativement proche de celle de  T , car les points des deux dernières QQ-plots sont près de la première bissectrice.\n",
    "L'approximation obtenue avec le bootstrap paramétrique est même très bonne."
   ]
  },
  {
   "cell_type": "markdown",
   "metadata": {},
   "source": [
    "# Bootstrap : un contre-exemple\n",
    "\n",
    "Soit $X_1,\\dots,X_n$ un échantillon de variables i.i.d. de loi uniforme  $U(\\theta, \\theta+ 1)$ pour $\\theta\\in\\mathbb R$.\n",
    "\n",
    "On considère l'estimateur $T_n = X_{(1)} = \\min\\{X_i,\\dots, X_n\\}$ de $\\theta$. On s'intéresse à la distribution de la statistique\n",
    "$$L_n  = n(T_n  −  \\theta).$$\n",
    "\n",
    "On peut prouver rigoureusement le résultat asymptotique suivant :\n",
    "$$L_n\\stackrel{\\mathcal L}{\\longrightarrow}\\mathcal E(1),\\qquad\\text{lorsque }n\\to\\infty.$$\n",
    "\n",
    "## Question 5\n",
    "Vérifier à l'aide des simulations à partir de quelle taille d'échantillon $n$ l'approximation limite donnée ci-dessus est bonne. Pour cela :\n",
    "- écrire une fonction **simul_min** qui simule un grand nombre d'échantillon $X_1,\\dots,X_n$ sur lesquels la statistique $L_n$ est évaluée. Ensuite, on trace l'histogramme et un QQ-plot pour vérifier la loi de $L_n$.\n",
    "- appeler votre fonction en variant la taille d'échantillon (p. ex. $n = 5, 10, 20, 50, 200 ,1000, 10000$). Commentez.\n",
    "\n"
   ]
  },
  {
   "cell_type": "code",
   "execution_count": 15,
   "metadata": {},
   "outputs": [],
   "source": [
    "simul_min <- function(theta, n, R=1000){\n",
    "  estim <- replicate(R, min(runif(n, theta, theta+1)))\n",
    "  Ln <- n*(estim-theta)  \n",
    "  par(mfrow=c(1, 2))\n",
    "  hist(Ln, freq=FALSE)\n",
    "  curve(dexp(x, 1),col=2, add=TRUE)\n",
    "  qqplot(qexp((1:n)/n, 1), sort(Ln), xlab='Loi exponentielle')\n",
    "  abline(0, 1)\n",
    "  return(Ln)\n",
    "}"
   ]
  },
  {
   "cell_type": "code",
   "execution_count": 16,
   "metadata": {},
   "outputs": [
    {
     "data": {
      "image/png": "[encoded data removed]",
      "text/plain": [
       "Plot with title \"Histogram of Ln\""
      ]
     },
     "metadata": {},
     "output_type": "display_data"
    }
   ],
   "source": [
    "Ln <- simul_min(2, 50, 1000)"
   ]
  },
  {
   "cell_type": "markdown",
   "metadata": {},
   "source": [
    "Maintenant nous voulons faire du bootstrap **non paramétrique** afin d'approcher la loi de la statistique $L_n$.\n",
    "\n",
    "## Question 6\n",
    "\n",
    "Ecrire une fonction **boot_min** similaire à la fontion **simul_min** qui prend en argument un échantillon et le nombre $R$ d'échantillons bootstrap à générer. Cette fonction trace l'histogramme et le QQ-plot des répliques bootstrap \n",
    "$L_n^*$. Qu'observez-vous en appelant cette fonction ? Obtient-on les mêmes résultats que par des simuations de la question précédente ? Interprétez.\n",
    "\n",
    "\n"
   ]
  },
  {
   "cell_type": "code",
   "execution_count": 17,
   "metadata": {},
   "outputs": [],
   "source": [
    "boot_min <- function(obs, R=1000){\n",
    "  estim <- replicate(R, min(sample(obs, replace=TRUE)))\n",
    "  n <- length(obs)\n",
    "  theta <- min(obs)\n",
    "  Ln <- n*(estim-theta)  \n",
    "  par(mfrow=c(1, 2))\n",
    "  hist(Ln, freq=FALSE)\n",
    "  curve(dexp(x, 1), col=2, add=TRUE)\n",
    "  qqplot(qexp((1:n)/n, 1), Ln, xlab='Loi exponentielle')\n",
    "  abline(0, 1)\n",
    "  return(Ln)\n",
    "}"
   ]
  },
  {
   "cell_type": "code",
   "execution_count": 18,
   "metadata": {},
   "outputs": [
    {
     "data": {
      "image/png": "[encoded data removed]",
      "text/plain": [
       "Plot with title \"Histogram of Ln\""
      ]
     },
     "metadata": {},
     "output_type": "display_data"
    }
   ],
   "source": [
    "ln <- boot_min(runif(10000, 2, 3), 1000)"
   ]
  },
  {
   "cell_type": "markdown",
   "metadata": {},
   "source": [
    "## Question 7\n",
    "Pour mieux comprendre ce qui se passe en effectuant du bootstrap non paramétrique,  vérifier le nombre d’éléments différents dans le vecteur de répliques bootstrap $L^*_{n,r}, r=1,\\dots,R$? Regardez pour des grandes valeurs de $n$ et de $R$. Expliquez."
   ]
  },
  {
   "cell_type": "code",
   "execution_count": 19,
   "metadata": {},
   "outputs": [
    {
     "data": {
      "text/html": [
       "<ol class=list-inline>\n",
       "\t<li>0</li>\n",
       "\t<li>3.34359135013074</li>\n",
       "\t<li>4.8346912721172</li>\n",
       "\t<li>3.34455573465675</li>\n",
       "\t<li>5.31607081647962</li>\n",
       "\t<li>6.04485340882093</li>\n",
       "\t<li>5.63444732688367</li>\n",
       "\t<li>6.72197216190398</li>\n",
       "\t<li>6.05127876624465</li>\n",
       "</ol>\n"
      ],
      "text/latex": [
       "\\begin{enumerate*}\n",
       "\\item 0\n",
       "\\item 3.34359135013074\n",
       "\\item 4.8346912721172\n",
       "\\item 3.34455573465675\n",
       "\\item 5.31607081647962\n",
       "\\item 6.04485340882093\n",
       "\\item 5.63444732688367\n",
       "\\item 6.72197216190398\n",
       "\\item 6.05127876624465\n",
       "\\end{enumerate*}\n"
      ],
      "text/markdown": [
       "1. 0\n",
       "2. 3.34359135013074\n",
       "3. 4.8346912721172\n",
       "4. 3.34455573465675\n",
       "5. 5.31607081647962\n",
       "6. 6.04485340882093\n",
       "7. 5.63444732688367\n",
       "8. 6.72197216190398\n",
       "9. 6.05127876624465\n",
       "\n",
       "\n"
      ],
      "text/plain": [
       "[1] 0.000000 3.343591 4.834691 3.344556 5.316071 6.044853 5.634447 6.721972\n",
       "[9] 6.051279"
      ]
     },
     "metadata": {},
     "output_type": "display_data"
    },
    {
     "data": {
      "image/png": "[encoded data removed]",
      "text/plain": [
       "Plot with title \"Histogram of Ln\""
      ]
     },
     "metadata": {},
     "output_type": "display_data"
    }
   ],
   "source": [
    "ln <- boot_min(runif(100, 2, 3), 1000)\n",
    "unique(ln)"
   ]
  },
  {
   "cell_type": "markdown",
   "metadata": {},
   "source": [
    "Est-ce que le bootstrap paramétrique fait mieux ?\n",
    "\n",
    "## Question 8\n",
    "\n",
    "Mettre en oeuvre le bootstrap paramétrique où l'échantillon bootstrap est tiré selon la loi uniforme $U[t,t+1]$ où $t=T(x_1,\\dots,x_n)$ est la valeur observée de l'esimtateur $T$ sur les données. Tracer l'histogramme et le QQ-plot correspondant. Interpréter.\n",
    "\n"
   ]
  },
  {
   "cell_type": "code",
   "execution_count": 20,
   "metadata": {},
   "outputs": [],
   "source": [
    "bootparam_min <- function(obs, R=1000){\n",
    "  n <- length(obs)\n",
    "  theta <- min(obs)\n",
    "  estim <- replicate(R, min(runif(n, theta, theta+1)) )\n",
    "  Ln <- n*(estim-theta)  \n",
    "  par(mfrow=c(1, 2))\n",
    "  hist(Ln, freq=FALSE)\n",
    "  curve(dexp(x, 1), col=2, add=TRUE)\n",
    "  qqplot(qexp((1:n)/n, 1), Ln, xlab='Loi exponentielle')\n",
    "  abline(0, 1)\n",
    "  return(Ln)\n",
    "}"
   ]
  },
  {
   "cell_type": "code",
   "execution_count": 21,
   "metadata": {},
   "outputs": [
    {
     "data": {
      "image/png": "[encoded data removed]",
      "text/plain": [
       "Plot with title \"Histogram of Ln\""
      ]
     },
     "metadata": {},
     "output_type": "display_data"
    }
   ],
   "source": [
    "ln <- bootparam_min(runif(50, 2, 3), 1000)"
   ]
  },
  {
   "cell_type": "markdown",
   "metadata": {},
   "source": [
    "# Intervalles de confiance bootstrap \n",
    "\n",
    "Dans  cette partie nous considérons   des réalisations  $x_1,\\dots,x_n$ i.i.d. de loi exponentielle $\\mathcal E(\\theta)$ avec $\\theta>0$, \n",
    "et l'estimateur $T=1/\\bar X_n$. Notons $t=T(x_1,\\dots,x_n)$ la valeur observée de l'estimateur sur les données.\n",
    "\n",
    "Nous allons mettre en oeuvre les différents intervalles de  confiance par le bootstrap (ICB) vus en cours. \n",
    "\n",
    "Rappelons que le niveau de confiance **nominatif** d'un ICB est de $1-\\alpha$ pour $\\alpha$ fixé. Nous allons effectuer des simulations de Monte Carlo afin d'estimer le niveau de confiance **effectif** d'un ICB $\\mathcal I^*$, c'est-à-dire déterminer la quantité\n",
    "$$\\mathbb P_\\theta(\\theta\\in\\mathcal I^*)$$\n",
    "et comparer cette valeur à la valeur nominative de $1-\\alpha$ afin de juger la qualité de l'intervalle.\n",
    "\n"
   ]
  },
  {
   "cell_type": "markdown",
   "metadata": {},
   "source": [
    "## Par approximation normale\n",
    "L'ICB de niveau $1-\\alpha$ qui repose sur une approximation par la loi normale est donné par \n",
    "$$\\mathcal I^*_{\\text{norm}} = \\left[t-\\beta_B^*-\\sqrt{v^*_B}z_{1-\\alpha/2},t-\\beta_B^*-\\sqrt{v^*_B}z_{\\alpha/2} \\right],$$\n",
    "où $z_{\\alpha/2}$ et $z_{1-\\alpha/2}$ désignent les quantiles de la loi normale standard $\\mathcal N(0,1)$ et $\\beta_B^*$ et $v^*_B$ sont les estimateurs bootstrap du biais et de la variance de l'estimateur $T$ définis par\n",
    "$$\\beta_B^*=\\bar T^*-t,\\qquad\n",
    "v^*_B = \\frac1B\\sum_{b=1}^B(T^{*(b)}-\\bar T^*)^2,\\qquad \\text{ où } \\quad\\bar T^*=\\frac1B\\sum_{b=1}^BT^{*(b)},$$\n",
    "et $T^{*(b)},b=1,\\dots,B$ sont $B$ répliques bootstrap (paramétrique ou non paramétrique) de $T$.\n",
    "\n",
    "## Question 9\n",
    "- Ecrire une fonction **biais.var.boot** pour calculer les estimteurs bootstrap du biais et de la variance $\\beta_B^*$ et $v^*_B$. Cette fonction  prend en argument un vecteur d'observations **obs**, le nombre $B$ de répliques bootstrap $T^{*(b)}$ à générer et une variable **param** de type booléan. Elle renvoie les estimateurs bootstrap $\\beta_B^*$ et $v^*_B$. Selon la valeur de **param** on utilisera des échantillons bootstrap paramétrique ou non paramétrique.\n",
    "- Faites quelques essais sur des données simulées pour choisir une bonne valeur du nombre $B$ d'échantillons bootstrap à utiliser dans la fonction **biais.var.boot**.\n",
    "- Ecrire une fonction **icb.norm** qui renvoie les limites de l'ICB $\\mathcal I^*_{\\text{norm}}$. Elle prend en argument les données, le niveau $\\alpha$, le nombre de répliques bootstrap $B$ de l'esitmateur $v^*_B$ et un booléan **param** pour le type de bootstrap à utiliser.\n",
    "- Ecrire une fonction **niveau.icbnorm** pour faire des simulations de Monte Carlo pour estimer le niveau de confiance effectif $\\mathbb P_\\theta(\\theta\\in\\mathcal I^*_{\\text{norm}})$. Plus présisément, cette fonction\n",
    "    - génère un grand nombre de jeux de données $x_1,\\dots,x_n$ de  loi exponentielle $\\mathcal E(\\theta)$, \n",
    "    - calcule l'ICB $\\mathcal I^*_{\\text{norm}}$ sur chacun de ces jeux de données,\n",
    "    - et estime la proportion d'ICB qui contiennent la vraie valeur du paramètre $\\theta$.\n",
    "- Faites des simulations Monte Carlo avec différents paramètres. \n",
    "Que dire de la qualité de l'intervalle $\\mathcal I^*_{\\text{norm}}$ ? Comparer les performances de l'approche bootstrap paramétrique et non paramétrique. \n",
    "\n",
    "\n"
   ]
  },
  {
   "cell_type": "code",
   "execution_count": 22,
   "metadata": {},
   "outputs": [],
   "source": [
    "biais.var.boot <- function(obs, B, param=FALSE){\n",
    "    if (param)\n",
    "        estim.boot <- boot.exp(obs, B)\n",
    "    else\n",
    "        estim.boot <- boot.np(obs, B)\n",
    "    b <- mean(estim.boot)- 1/mean(obs)\n",
    "    v <- var(estim.boot)    \n",
    "    return(list(biais = b, var = v))\n",
    "}"
   ]
  },
  {
   "cell_type": "code",
   "execution_count": 23,
   "metadata": {},
   "outputs": [],
   "source": [
    "obs <- rexp(15, .1)"
   ]
  },
  {
   "cell_type": "code",
   "execution_count": 24,
   "metadata": {},
   "outputs": [
    {
     "data": {
      "text/html": [
       "<dl>\n",
       "\t<dt>$biais</dt>\n",
       "\t\t<dd>0.00695481471947733</dd>\n",
       "\t<dt>$var</dt>\n",
       "\t\t<dd>0.00112740258802048</dd>\n",
       "</dl>\n"
      ],
      "text/latex": [
       "\\begin{description}\n",
       "\\item[\\$biais] 0.00695481471947733\n",
       "\\item[\\$var] 0.00112740258802048\n",
       "\\end{description}\n"
      ],
      "text/markdown": [
       "$biais\n",
       ":   0.00695481471947733\n",
       "$var\n",
       ":   0.00112740258802048\n",
       "\n",
       "\n"
      ],
      "text/plain": [
       "$biais\n",
       "[1] 0.006954815\n",
       "\n",
       "$var\n",
       "[1] 0.001127403\n"
      ]
     },
     "metadata": {},
     "output_type": "display_data"
    }
   ],
   "source": [
    "biais.var.boot(obs, 300, param=TRUE)"
   ]
  },
  {
   "cell_type": "code",
   "execution_count": 25,
   "metadata": {},
   "outputs": [
    {
     "data": {
      "text/html": [
       "<dl>\n",
       "\t<dt>$biais</dt>\n",
       "\t\t<dd>0.00990635482467787</dd>\n",
       "\t<dt>$var</dt>\n",
       "\t\t<dd>0.00116698310263365</dd>\n",
       "</dl>\n"
      ],
      "text/latex": [
       "\\begin{description}\n",
       "\\item[\\$biais] 0.00990635482467787\n",
       "\\item[\\$var] 0.00116698310263365\n",
       "\\end{description}\n"
      ],
      "text/markdown": [
       "$biais\n",
       ":   0.00990635482467787\n",
       "$var\n",
       ":   0.00116698310263365\n",
       "\n",
       "\n"
      ],
      "text/plain": [
       "$biais\n",
       "[1] 0.009906355\n",
       "\n",
       "$var\n",
       "[1] 0.001166983\n"
      ]
     },
     "metadata": {},
     "output_type": "display_data"
    }
   ],
   "source": [
    "biais.var.boot(obs, 300, param=TRUE)"
   ]
  },
  {
   "cell_type": "code",
   "execution_count": 26,
   "metadata": {},
   "outputs": [],
   "source": [
    "icb.norm <- function(obs, alpha=.05, B=300, param=FALSE){\n",
    "    bv <- biais.var.boot(obs, B, param)\n",
    "    theta <- 1/mean(obs)\n",
    "    return(theta-bv$biais -sqrt(bv$var)*qnorm(1-alpha/2)*c(1, -1))\n",
    "}"
   ]
  },
  {
   "cell_type": "code",
   "execution_count": 27,
   "metadata": {},
   "outputs": [
    {
     "data": {
      "text/html": [
       "<ol class=list-inline>\n",
       "\t<li>0.0364901638877678</li>\n",
       "\t<li>0.167404973895106</li>\n",
       "</ol>\n"
      ],
      "text/latex": [
       "\\begin{enumerate*}\n",
       "\\item 0.0364901638877678\n",
       "\\item 0.167404973895106\n",
       "\\end{enumerate*}\n"
      ],
      "text/markdown": [
       "1. 0.0364901638877678\n",
       "2. 0.167404973895106\n",
       "\n",
       "\n"
      ],
      "text/plain": [
       "[1] 0.03649016 0.16740497"
      ]
     },
     "metadata": {},
     "output_type": "display_data"
    }
   ],
   "source": [
    "icb.norm(obs, param=FALSE)"
   ]
  },
  {
   "cell_type": "code",
   "execution_count": 28,
   "metadata": {},
   "outputs": [],
   "source": [
    "niveau.icbnorm <- function(theta, n, M, alpha=0.05, param=FALSE){\n",
    "    prop <- 0\n",
    "    for (i in 1:M){\n",
    "        obs <- rexp(n, theta)\n",
    "        icb <- icb.norm(obs, alpha, param=param)\n",
    "        prop <- prop + ((icb[1]<theta)&(theta<icb[2]))\n",
    "    }\n",
    "    return(prop/M)\n",
    "}"
   ]
  },
  {
   "cell_type": "code",
   "execution_count": 29,
   "metadata": {},
   "outputs": [
    {
     "data": {
      "text/html": [
       "0.958"
      ],
      "text/latex": [
       "0.958"
      ],
      "text/markdown": [
       "0.958"
      ],
      "text/plain": [
       "[1] 0.958"
      ]
     },
     "metadata": {},
     "output_type": "display_data"
    }
   ],
   "source": [
    "niveau.icbnorm(2, 10, 1000, param=TRUE)"
   ]
  },
  {
   "cell_type": "code",
   "execution_count": 30,
   "metadata": {},
   "outputs": [
    {
     "data": {
      "text/html": [
       "0.969"
      ],
      "text/latex": [
       "0.969"
      ],
      "text/markdown": [
       "0.969"
      ],
      "text/plain": [
       "[1] 0.969"
      ]
     },
     "metadata": {},
     "output_type": "display_data"
    }
   ],
   "source": [
    "niveau.icbnorm(1/mean(aircond), 12, 1000, param=TRUE)"
   ]
  },
  {
   "cell_type": "code",
   "execution_count": 31,
   "metadata": {},
   "outputs": [
    {
     "data": {
      "text/html": [
       "0.937"
      ],
      "text/latex": [
       "0.937"
      ],
      "text/markdown": [
       "0.937"
      ],
      "text/plain": [
       "[1] 0.937"
      ]
     },
     "metadata": {},
     "output_type": "display_data"
    }
   ],
   "source": [
    "niveau.icbnorm(.02, 10, 1000, param=FALSE)"
   ]
  },
  {
   "cell_type": "markdown",
   "metadata": {},
   "source": [
    "On a tjr des valeurs proche de 0.95"
   ]
  },
  {
   "cell_type": "markdown",
   "metadata": {},
   "source": [
    "## ICB de base\n",
    "\n",
    "L'intervalle de confiance par bootstrap de base est définit par\n",
    "$$\\mathcal I^*_{\\text{basic}} = \\left[2t-T^*_{(\\gamma_1)}, 2t-T^*_{(\\gamma_2)} \\right],$$\n",
    "où $T^*_{(s)}$ désigne la $s$-ième statistique d'ordre associée aux répliques bootstrap $T^*_1,\\dots,T^*_R$ et $$\\gamma_1=\\left\\lceil\\left(1-\\frac\\alpha 2\\right)R\\right\\rceil\\qquad\\text{ et }\\qquad\\gamma_2=\\left\\lceil \\frac\\alpha2R\\right\\rceil.\\qquad\\qquad\\qquad(*)$$ \n",
    "\n",
    "## Question 10\n",
    "- Ecrire une fonction **icb.basic** pour calculer les limites de l'ICB $\\mathcal I^*_{\\text{basic}}$ pour un échantillon donné.\n",
    "- Estimer le niveau de confiance effectif de cet intervalle en utilisant des simulations de Monte Carlo comme à la quesiton précédente.\n",
    "\n"
   ]
  },
  {
   "cell_type": "code",
   "execution_count": 32,
   "metadata": {},
   "outputs": [],
   "source": [
    "icb.basic <- function(obs, alpha=.05, R=1000, param=FALSE){\n",
    "    gamma <- c(1-alpha/2, alpha/2)\n",
    "    theta <- 1/mean(obs)\n",
    "    if (param)\n",
    "        estim.boot <- boot.exp(obs, R)\n",
    "    else\n",
    "        estim.boot <- boot.np(obs, R)\n",
    "   quant <- as.numeric(quantile(estim.boot, gamma))\n",
    "    return(2*theta-quant)\n",
    "}"
   ]
  },
  {
   "cell_type": "code",
   "execution_count": 33,
   "metadata": {},
   "outputs": [
    {
     "data": {
      "text/html": [
       "<ol class=list-inline>\n",
       "\t<li>0.0173349733695163</li>\n",
       "\t<li>0.147251512993458</li>\n",
       "</ol>\n"
      ],
      "text/latex": [
       "\\begin{enumerate*}\n",
       "\\item 0.0173349733695163\n",
       "\\item 0.147251512993458\n",
       "\\end{enumerate*}\n"
      ],
      "text/markdown": [
       "1. 0.0173349733695163\n",
       "2. 0.147251512993458\n",
       "\n",
       "\n"
      ],
      "text/plain": [
       "[1] 0.01733497 0.14725151"
      ]
     },
     "metadata": {},
     "output_type": "display_data"
    }
   ],
   "source": [
    "icb.basic(obs, param=TRUE)"
   ]
  },
  {
   "cell_type": "code",
   "execution_count": 34,
   "metadata": {},
   "outputs": [],
   "source": [
    "niveau.icbbasic <- function(theta, n, M, alpha=0.05, param=FALSE){\n",
    "    prop <- 0\n",
    "    for (i in 1:M){\n",
    "        obs <- rexp(n, theta)\n",
    "        icb <- icb.basic(obs, alpha, param=param)\n",
    "        prop <- prop + ((icb[1]<theta)&(theta<icb[2]))\n",
    "    }\n",
    "    return(prop/M)\n",
    "}"
   ]
  },
  {
   "cell_type": "code",
   "execution_count": 35,
   "metadata": {},
   "outputs": [
    {
     "data": {
      "text/html": [
       "0.878"
      ],
      "text/latex": [
       "0.878"
      ],
      "text/markdown": [
       "0.878"
      ],
      "text/plain": [
       "[1] 0.878"
      ]
     },
     "metadata": {},
     "output_type": "display_data"
    }
   ],
   "source": [
    "niveau.icbbasic(.2, 10, 1000, param=TRUE)"
   ]
  },
  {
   "cell_type": "code",
   "execution_count": 36,
   "metadata": {},
   "outputs": [
    {
     "data": {
      "text/html": [
       "0.926"
      ],
      "text/latex": [
       "0.926"
      ],
      "text/markdown": [
       "0.926"
      ],
      "text/plain": [
       "[1] 0.926"
      ]
     },
     "metadata": {},
     "output_type": "display_data"
    }
   ],
   "source": [
    "niveau.icbbasic(.2, 50, 1000, param=FALSE)"
   ]
  },
  {
   "cell_type": "markdown",
   "metadata": {},
   "source": [
    "on remarque une augmentation ici avec un niveau en dessous de la valeur nominatif."
   ]
  },
  {
   "cell_type": "code",
   "execution_count": 37,
   "metadata": {},
   "outputs": [
    {
     "data": {
      "text/html": [
       "0.913"
      ],
      "text/latex": [
       "0.913"
      ],
      "text/markdown": [
       "0.913"
      ],
      "text/plain": [
       "[1] 0.913"
      ]
     },
     "metadata": {},
     "output_type": "display_data"
    }
   ],
   "source": [
    "niveau.icbbasic(.2, 50, 1000, param=FALSE)"
   ]
  },
  {
   "cell_type": "code",
   "execution_count": 38,
   "metadata": {},
   "outputs": [
    {
     "data": {
      "text/html": [
       "0.935"
      ],
      "text/latex": [
       "0.935"
      ],
      "text/markdown": [
       "0.935"
      ],
      "text/plain": [
       "[1] 0.935"
      ]
     },
     "metadata": {},
     "output_type": "display_data"
    }
   ],
   "source": [
    "niveau.icbbasic(.2, 50, 1000, param=TRUE)"
   ]
  },
  {
   "cell_type": "markdown",
   "metadata": {},
   "source": [
    "## ICB studentisé\n",
    "\n",
    "L'ICB studentisé est définit par\n",
    "$$\\mathcal I^*_{\\text{stud}} = \\left[t-\\sqrt{v_R^*}Z^*_{(\\gamma_1)}, t-\\sqrt{v_R^*}Z^*_{(\\gamma_2)} \\right],$$\n",
    "avec $\\gamma_1$ et $\\gamma_2$ donnés en $(\\ast)$ et\n",
    "$$Z^*_r = \\frac{T^*_r-t}{\\sqrt{v^*_{r,B}}},$$\n",
    "où $v^*_{r,B}$ désigne l'estimateur bootstrap de la variance de $T$ associée au $r$-ième échantillon bootstrap $x^*_{r,1},\\dots,x^*_{r,n}$ (double bootstrap).\n",
    "\n",
    "## Question 11\n",
    "- Ecrire une fonction **icb.stud** pour calculer les limites de l'ICB $\\mathcal I^*_{\\text{stud}}$ pour un échantillon donné.\n",
    "- Estimer le niveau de confiance effectif de cet intervalle en utilisant des simulations de Monte Carlo.\n"
   ]
  },
  {
   "cell_type": "code",
   "execution_count": 39,
   "metadata": {},
   "outputs": [],
   "source": [
    "icb.stud <- function(obs, alpha=.05, R=300, B=50, param=FALSE){\n",
    "    gamma <- c(1-alpha/2, alpha/2)\n",
    "    theta <- 1/mean(obs)\n",
    "    n <- length(obs)\n",
    "    estim.boot <- rep(NA, R)\n",
    "    Z <- rep(NA, R)\n",
    "    for (i in 1:R){\n",
    "        if (param)\n",
    "            obs.boot <- rexp(n, theta)\n",
    "        else    \n",
    "            obs.boot <- sample(obs, replace=TRUE)            \n",
    "        estim.boot[i] <- 1/mean(obs.boot)\n",
    "        var.boot <- biais.var.boot(obs.boot,B)$var\n",
    "        Z[i] <- (estim.boot[i]-theta)/sqrt(var.boot)\n",
    "    }\n",
    "    quant <- as.numeric(quantile(Z, gamma))\n",
    "    var.boot <- var(estim.boot)\n",
    "    return(theta-sqrt(var.boot)*quant)\n",
    "}"
   ]
  },
  {
   "cell_type": "code",
   "execution_count": 40,
   "metadata": {},
   "outputs": [
    {
     "data": {
      "text/html": [
       "<ol class=list-inline>\n",
       "\t<li>0.0513077410227454</li>\n",
       "\t<li>0.184203685965008</li>\n",
       "</ol>\n"
      ],
      "text/latex": [
       "\\begin{enumerate*}\n",
       "\\item 0.0513077410227454\n",
       "\\item 0.184203685965008\n",
       "\\end{enumerate*}\n"
      ],
      "text/markdown": [
       "1. 0.0513077410227454\n",
       "2. 0.184203685965008\n",
       "\n",
       "\n"
      ],
      "text/plain": [
       "[1] 0.05130774 0.18420369"
      ]
     },
     "metadata": {},
     "output_type": "display_data"
    }
   ],
   "source": [
    "icb.stud(obs, param=TRUE, R=1000)"
   ]
  },
  {
   "cell_type": "code",
   "execution_count": 41,
   "metadata": {},
   "outputs": [],
   "source": [
    "niveau.icbstud <- function(theta, n, M, alpha=0.05, param=FALSE){\n",
    "    prop <- 0\n",
    "    for (i in 1:M){\n",
    "        obs <- rexp(n, theta)\n",
    "        icb <- icb.stud(obs, alpha, param=param)\n",
    "        prop <- prop + ((icb[1]<theta)&(theta<icb[2]))\n",
    "    }\n",
    "    return(prop/M)\n",
    "}"
   ]
  },
  {
   "cell_type": "code",
   "execution_count": 42,
   "metadata": {},
   "outputs": [
    {
     "data": {
      "text/html": [
       "1"
      ],
      "text/latex": [
       "1"
      ],
      "text/markdown": [
       "1"
      ],
      "text/plain": [
       "[1] 1"
      ]
     },
     "metadata": {},
     "output_type": "display_data"
    }
   ],
   "source": [
    "niveau.icbstud(2, 10, 100, param=TRUE)"
   ]
  },
  {
   "cell_type": "code",
   "execution_count": 43,
   "metadata": {},
   "outputs": [
    {
     "data": {
      "text/html": [
       "0.92"
      ],
      "text/latex": [
       "0.92"
      ],
      "text/markdown": [
       "0.92"
      ],
      "text/plain": [
       "[1] 0.92"
      ]
     },
     "metadata": {},
     "output_type": "display_data"
    }
   ],
   "source": [
    "niveau.icbstud(2, 10, 100, param=FALSE)"
   ]
  },
  {
   "cell_type": "code",
   "execution_count": 44,
   "metadata": {},
   "outputs": [
    {
     "data": {
      "text/html": [
       "0.97"
      ],
      "text/latex": [
       "0.97"
      ],
      "text/markdown": [
       "0.97"
      ],
      "text/plain": [
       "[1] 0.97"
      ]
     },
     "metadata": {},
     "output_type": "display_data"
    }
   ],
   "source": [
    "niveau.icbstud(.2, 30, 100, param=TRUE)"
   ]
  },
  {
   "cell_type": "code",
   "execution_count": 45,
   "metadata": {},
   "outputs": [
    {
     "data": {
      "text/html": [
       "0.97"
      ],
      "text/latex": [
       "0.97"
      ],
      "text/markdown": [
       "0.97"
      ],
      "text/plain": [
       "[1] 0.97"
      ]
     },
     "metadata": {},
     "output_type": "display_data"
    }
   ],
   "source": [
    "niveau.icbstud(.2, 30, 100, param=FALSE)\n"
   ]
  },
  {
   "cell_type": "markdown",
   "metadata": {},
   "source": [
    "bootstrap paramétrique donne des niveaux de confiance plus élevés et Augmenter la taille d'échantillon implique que le niveau effectif s'approche du niveau nominatif."
   ]
  },
  {
   "cell_type": "markdown",
   "metadata": {},
   "source": [
    "## Méthode des percentiles de base\n",
    "L'ICB par la méthode des percentiles de base est définit par\n",
    "$$\\mathcal I^*_{\\text{perc}} = \\left[T^*_{(\\gamma_2)}, T^*_{(\\gamma_1)} \\right].$$\n",
    "\n",
    "## Question 12\n",
    "- Ecrire une fonction **icb.perc** pour calculer les limites de l'ICB $\\mathcal I^*_{\\text{perc}}$ pour un échantillon donné.\n",
    "- Estimer le niveau de confiance effectif de cet intervalle en utilisant des simulations de Monte Carlo.\n",
    "\n"
   ]
  },
  {
   "cell_type": "code",
   "execution_count": 46,
   "metadata": {},
   "outputs": [],
   "source": [
    "icb.perc <- function(obs, alpha=.05, R=1000, param=FALSE){\n",
    "    gamma <- c(alpha/2, 1-alpha/2)\n",
    "    if (param)\n",
    "        estim.boot <- boot.exp(obs, R)\n",
    "    else\n",
    "        estim.boot <- boot.np(obs, R)\n",
    "    quant <- as.numeric(quantile(estim.boot, gamma))\n",
    "    return(quant)\n",
    "}"
   ]
  },
  {
   "cell_type": "code",
   "execution_count": 47,
   "metadata": {},
   "outputs": [
    {
     "data": {
      "text/html": [
       "<ol class=list-inline>\n",
       "\t<li>0.0711726786008025</li>\n",
       "\t<li>0.195421846051559</li>\n",
       "</ol>\n"
      ],
      "text/latex": [
       "\\begin{enumerate*}\n",
       "\\item 0.0711726786008025\n",
       "\\item 0.195421846051559\n",
       "\\end{enumerate*}\n"
      ],
      "text/markdown": [
       "1. 0.0711726786008025\n",
       "2. 0.195421846051559\n",
       "\n",
       "\n"
      ],
      "text/plain": [
       "[1] 0.07117268 0.19542185"
      ]
     },
     "metadata": {},
     "output_type": "display_data"
    }
   ],
   "source": [
    "icb.perc(obs)"
   ]
  },
  {
   "cell_type": "code",
   "execution_count": 48,
   "metadata": {},
   "outputs": [],
   "source": [
    "niveau.icbperc <- function(theta, n, M, alpha=0.05, param=FALSE){\n",
    "    prop <- 0\n",
    "    for (i in 1:M){\n",
    "        obs <- rexp(n, theta)\n",
    "        icb <- icb.perc(obs, alpha, param=param)\n",
    "        prop <- prop + ((icb[1]<theta)&(theta<icb[2]))\n",
    "    }\n",
    "    return(prop/M)\n",
    "}"
   ]
  },
  {
   "cell_type": "code",
   "execution_count": 49,
   "metadata": {},
   "outputs": [
    {
     "data": {
      "text/html": [
       "0.852"
      ],
      "text/latex": [
       "0.852"
      ],
      "text/markdown": [
       "0.852"
      ],
      "text/plain": [
       "[1] 0.852"
      ]
     },
     "metadata": {},
     "output_type": "display_data"
    }
   ],
   "source": [
    "niveau.icbperc(2, 10, 1000, param=FALSE)"
   ]
  },
  {
   "cell_type": "code",
   "execution_count": 50,
   "metadata": {},
   "outputs": [
    {
     "data": {
      "text/html": [
       "0.921"
      ],
      "text/latex": [
       "0.921"
      ],
      "text/markdown": [
       "0.921"
      ],
      "text/plain": [
       "[1] 0.921"
      ]
     },
     "metadata": {},
     "output_type": "display_data"
    }
   ],
   "source": [
    "niveau.icbperc(2, 10, 1000, param=TRUE)"
   ]
  },
  {
   "cell_type": "code",
   "execution_count": 51,
   "metadata": {},
   "outputs": [
    {
     "data": {
      "text/html": [
       "0.927"
      ],
      "text/latex": [
       "0.927"
      ],
      "text/markdown": [
       "0.927"
      ],
      "text/plain": [
       "[1] 0.927"
      ]
     },
     "metadata": {},
     "output_type": "display_data"
    }
   ],
   "source": [
    "niveau.icbperc(2, 30, 1000, param=FALSE)"
   ]
  },
  {
   "cell_type": "code",
   "execution_count": 52,
   "metadata": {},
   "outputs": [
    {
     "data": {
      "text/html": [
       "0.929"
      ],
      "text/latex": [
       "0.929"
      ],
      "text/markdown": [
       "0.929"
      ],
      "text/plain": [
       "[1] 0.929"
      ]
     },
     "metadata": {},
     "output_type": "display_data"
    }
   ],
   "source": [
    "niveau.icbperc(2, 30, 1000, param=TRUE)"
   ]
  },
  {
   "cell_type": "markdown",
   "metadata": {},
   "source": [
    "Comme précédemment juste les niveaux effectis observés sont en-dessous du niveau nominatif."
   ]
  },
  {
   "cell_type": "markdown",
   "metadata": {},
   "source": [
    "## Question 13\n",
    "\n",
    "Au vu de vos résultats de simulation comparer la performance des différents types d'intervalles de confiance et expliquer leur différences. Quelle approche, paramétrique ou non paramétrique, donne des meilleurs performances (dans le cadre étudié ici) ?\n",
    "\n",
    "\n",
    "## Question 14\n",
    "Calculer les différents intervalles de confiance pour les données **aircond** et comparer-les."
   ]
  },
  {
   "cell_type": "code",
   "execution_count": 53,
   "metadata": {},
   "outputs": [
    {
     "data": {
      "text/html": [
       "<ol class=list-inline>\n",
       "\t<li>-0.00195172382108257</li>\n",
       "\t<li>0.0173520270179223</li>\n",
       "</ol>\n"
      ],
      "text/latex": [
       "\\begin{enumerate*}\n",
       "\\item -0.00195172382108257\n",
       "\\item 0.0173520270179223\n",
       "\\end{enumerate*}\n"
      ],
      "text/markdown": [
       "1. -0.00195172382108257\n",
       "2. 0.0173520270179223\n",
       "\n",
       "\n"
      ],
      "text/plain": [
       "[1] -0.001951724  0.017352027"
      ]
     },
     "metadata": {},
     "output_type": "display_data"
    }
   ],
   "source": [
    "icb.norm(aircond)"
   ]
  },
  {
   "cell_type": "code",
   "execution_count": 54,
   "metadata": {},
   "outputs": [
    {
     "data": {
      "text/html": [
       "<ol class=list-inline>\n",
       "\t<li>-0.00222294400679303</li>\n",
       "\t<li>0.0132390614162755</li>\n",
       "</ol>\n"
      ],
      "text/latex": [
       "\\begin{enumerate*}\n",
       "\\item -0.00222294400679303\n",
       "\\item 0.0132390614162755\n",
       "\\end{enumerate*}\n"
      ],
      "text/markdown": [
       "1. -0.00222294400679303\n",
       "2. 0.0132390614162755\n",
       "\n",
       "\n"
      ],
      "text/plain": [
       "[1] -0.002222944  0.013239061"
      ]
     },
     "metadata": {},
     "output_type": "display_data"
    }
   ],
   "source": [
    "icb.basic(aircond)"
   ]
  },
  {
   "cell_type": "code",
   "execution_count": 55,
   "metadata": {},
   "outputs": [
    {
     "data": {
      "text/html": [
       "<ol class=list-inline>\n",
       "\t<li>0.00103197670480878</li>\n",
       "\t<li>0.0194345588772782</li>\n",
       "</ol>\n"
      ],
      "text/latex": [
       "\\begin{enumerate*}\n",
       "\\item 0.00103197670480878\n",
       "\\item 0.0194345588772782\n",
       "\\end{enumerate*}\n"
      ],
      "text/markdown": [
       "1. 0.00103197670480878\n",
       "2. 0.0194345588772782\n",
       "\n",
       "\n"
      ],
      "text/plain": [
       "[1] 0.001031977 0.019434559"
      ]
     },
     "metadata": {},
     "output_type": "display_data"
    }
   ],
   "source": [
    "icb.stud(aircond)"
   ]
  },
  {
   "cell_type": "code",
   "execution_count": 56,
   "metadata": {},
   "outputs": [
    {
     "data": {
      "text/html": [
       "<ol class=list-inline>\n",
       "\t<li>0.00528355213850196</li>\n",
       "\t<li>0.0219388472587741</li>\n",
       "</ol>\n"
      ],
      "text/latex": [
       "\\begin{enumerate*}\n",
       "\\item 0.00528355213850196\n",
       "\\item 0.0219388472587741\n",
       "\\end{enumerate*}\n"
      ],
      "text/markdown": [
       "1. 0.00528355213850196\n",
       "2. 0.0219388472587741\n",
       "\n",
       "\n"
      ],
      "text/plain": [
       "[1] 0.005283552 0.021938847"
      ]
     },
     "metadata": {},
     "output_type": "display_data"
    }
   ],
   "source": [
    "icb.perc(aircond)"
   ]
  }
 ],
 "metadata": {
  "kernelspec": {
   "display_name": "R",
   "language": "R",
   "name": "ir"
  },
  "language_info": {
   "codemirror_mode": "r",
   "file_extension": ".r",
   "mimetype": "text/x-r-source",
   "name": "R",
   "pygments_lexer": "r",
   "version": "3.6.1"
  }
 },
 "nbformat": 4,
 "nbformat_minor": 1
}
