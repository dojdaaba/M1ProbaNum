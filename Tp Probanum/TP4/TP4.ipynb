{
 "cells": [
  {
   "cell_type": "markdown",
   "metadata": {},
   "source": [
    "# Charge sinistre et loi Poisson-composée\n",
    "On définit la _charge sinistre totale_ (sur une période $T$) par la variable aléatoire positive\n",
    "$$\n",
    "S = \\sum_{i = 1}^N X_i\n",
    "$$\n",
    "où $N$ est une variable aléatoire à valeurs dans $\\mathbf{N}$ représentant le nombre de sinistres sur la période $T$, et pour $i \\ge 1$, $X_i$ est une variable aléatoire à valeurs dans $\\mathbf{R}_+$ représentant le coût du i-ème sinistre, avec la convention selon laquelle la somme est nulle si $N = 0$. Les $(X_i)_{i \\ge 1}$ sont supposées indépendantes et identiquement distribuées, et indépendantes de $N$ (indépendance fréquences - coûts).\n",
    "\n",
    "Une modélisation classique est de considérer \n",
    "- $N$ de loi de Poisson de paramètre $\\lambda > 0$ \n",
    "- $X_1$ de loi log-normale de paramètres $\\mu > 0$, $\\sigma^2 > 0$, c'est à dire $X_1 = \\exp(G_1)$ avec $G_1 \\sim \\mathcal{N}(\\mu, \\sigma^2)$ <br \\>\n",
    "(pour la simulation on peut utiliser directement `rlnorm`)."
   ]
  },
  {
   "cell_type": "markdown",
   "metadata": {},
   "source": [
    "## Calcul d'une probabilité de dépassement\n",
    "Soit $\\lambda = 10$, $\\mu = 0.1$ et $\\sigma = 0.3$. On veut calculer la probabilité que la charge sinistre totale dépasse un seuil $K$ c'est à dire \n",
    "$$\n",
    "p = \\mathbf{P}\\bigl[S > K\\bigr] \\quad \\text{pour $K$ grand}\n",
    "$$\n",
    "Pour mieux appréhender le problème on commence par représenter l'histogramme d'un échantillon de $100\\,000$ réalisations de $S$ et du seuil $K$ par une ligne verticale rouge. On obtient le graphique suivant\n",
    "![image](hist_S.png)\n",
    "Reproduire ce graphique. La légende s'obtient par la commande\n",
    "```R\n",
    "abline(v = K, col = \"red\", lty = 1)\n",
    "legend(22, 0.08, paste(\"seuil K = \", K), col = \"red\", lty = 1)\n",
    "```"
   ]
  },
  {
   "cell_type": "code",
   "execution_count": 1,
   "metadata": {
    "scrolled": true
   },
   "outputs": [
    {
     "data": {
      "image/png": "[encoded data removed]",
      "text/plain": [
       "Plot with title \"Histogramme d'un échantillon de S de taille n= 1e+05\""
      ]
     },
     "metadata": {},
     "output_type": "display_data"
    }
   ],
   "source": [
    "lambda <- 10\n",
    "mu <- 0.1\n",
    "sigma <- 0.3\n",
    "S <- function() {\n",
    "  N <- rpois(1, lambda)\n",
    "  X <- rlnorm(N, mu, sigma)\n",
    "  return(sum(X))\n",
    "}\n",
    "n <- 1e5\n",
    "s <- replicate(n, S())\n",
    "hist(s, breaks = 50, prob = T, main = paste(\"Histogramme d'un échantillon de S de taille n=\", n))\n",
    "K <- 20\n",
    "abline(v = K, col = \"red\", lty = 1)\n",
    "legend(22, 0.08, paste(\"seuil K = \", K), col = \"red\", lty = 1)"
   ]
  },
  {
   "cell_type": "markdown",
   "metadata": {},
   "source": [
    "### Estimateur Monte Carlo respectant une erreur relative fixée\n",
    "Ecrire l'estimateur Monte Carlo $p_n$ de la quantité $p$. \n",
    "\n",
    "- On rappelle que l'erreur absolue de l'estimateur Monte Carlo $p_n$ est définie par $|p_n - p|$ et que cette erreur est bornée par $e_n = 1.96 \\frac{\\sigma_n}{\\sqrt{n}}$ à 95% (_i.e._ avec probabilité 0.95) avec $\\sigma_n^2 = p_n - p_n^2$.\n",
    "\n",
    "- L'erreur relative de l'estimateur Monte Carlo est définie par $\\frac{|p_n - p|}{p}$ que l'on approche et que l'on borne par $\\frac{e_n}{p_n}$ à 95%.\n",
    "\n",
    "Ecrire une fonction \n",
    "```R\n",
    "    erreur_relative <- function(x, K)\n",
    "```\n",
    "qui renvoie l'erreur relative (plus exactement la borne $\\frac{e_n}{p_n}$) pour un échantillon `x` et un seuil `K`.\n",
    "\n",
    "Tracer l'erreur relative d'un échantillon de taille $100\\,000$ en fonction de $K$ pour $K$ allant de 20 à 30. Comment interpréter cette courbe ? "
   ]
  },
  {
   "cell_type": "code",
   "execution_count": 2,
   "metadata": {},
   "outputs": [
    {
     "data": {
      "image/png": "[encoded data removed]",
      "text/plain": [
       "Plot with title \"Erreur relative en fonction du seuil K\""
      ]
     },
     "metadata": {},
     "output_type": "display_data"
    }
   ],
   "source": [
    "erreur_relative <- function(x, K) {\n",
    "    p_n <- mean(x > K)\n",
    "    v_n <- p_n - p_n^2\n",
    "    e_n <- 1.96 * sqrt(v_n) / sqrt(length(x))\n",
    "    return(e_n / p_n)\n",
    "}\n",
    "s <- replicate(1e5, S())\n",
    "Ks <- seq(20,30,1)\n",
    "er_K <- sapply(Ks, function(K) erreur_relative(s, K))\n",
    "plot(Ks, er_K, t = \"l\", main=\"Erreur relative en fonction du seuil K\")"
   ]
  },
  {
   "cell_type": "markdown",
   "metadata": {},
   "source": [
    "Mettre en oeuvre un estimateur de Monte Carlo qui s'arrête dès que l'erreur relative est de 5%. On pourra par exemple introduire la variable aléatoire\n",
    "$$\n",
    "    \\tau^{(m)} = \\inf \\bigl\\{n \\ge 1, e_{n m} \\le 0.05 p_{n m} \\bigr\\},\n",
    "$$\n",
    "qui dépend d'un paramètre $m$ fixé, par exemple $m = 10\\,000$, et renvoyer $p_{\\tau^{(m)}}$ ainsi que la variance et l'intervalle de confiance associé. \n",
    "Le paramètre $m$ permet de recalculer l'estimateur et l'erreur uniquement toutes les $m$ itérations et donc de réduire la complexité par rapport au choix naïf $m = 1$. \n",
    "\n",
    "Le nombre d'itérations (la taille de l'échantillon) dans la méthode de Monte Carlo pour un $\\tau^{(m)}$ donné est donc $\\tau^{(m)} \\times m$.\n",
    "\n",
    "Voici un tableau de résultat possible lorsqu'on implémente cet estimateur de Monte Carlo adaptatif (jusqu'à l'itération $\\tau^{(m)} \\times m$) pour différentes valeurs de $K = 20,\\dots,25$:\n",
    "<table border=1>\n",
    "<tr> <th>  </th> <th> 20 </th> <th> 21 </th> <th> 22 </th> <th> 23 </th> <th> 24 </th> <th> 25 </th>  </tr>\n",
    "  <tr> <td align=\"right\"> Probabilité p_n </td> <td align=\"right\"> 0.0221429 </td> <td align=\"right\"> 0.0126923 </td> <td align=\"right\"> 0.00723182 </td> <td align=\"right\"> 0.00407105 </td> <td align=\"right\"> 0.00226471 </td> <td align=\"right\"> 0.00121024 </td> </tr>\n",
    "  <tr> <td align=\"right\"> Erreur relative </td> <td align=\"right\"> 0.0492298 </td> <td align=\"right\"> 0.0479447 </td> <td align=\"right\"> 0.0489604 </td> <td align=\"right\"> 0.0497308 </td> <td align=\"right\"> 0.0498888 </td> <td align=\"right\"> 0.0499639 </td> </tr>\n",
    "  <tr> <td align=\"right\"> Itérations </td> <td align=\"right\">   70000 </td> <td align=\"right\">  130000 </td> <td align=\"right\">  220000 </td> <td align=\"right\">  380000 </td> <td align=\"right\">  680000 </td> <td align=\"right\"> 1.27e+06 </td> </tr>\n",
    "   </table>\n",
    "   \n",
    "Vous pouvez aussi tracer le facteur $\\tau^{(m)}$ (ou le nombre d'itérations $\\tau^{(m)} \\times m$) en fonction de $K$. Comment interpréter cette courbe ?"
   ]
  },
  {
   "cell_type": "code",
   "execution_count": 3,
   "metadata": {},
   "outputs": [
    {
     "name": "stdout",
     "output_type": "stream",
     "text": [
      "[1] 0.1316019\n",
      "[1] 0.1749185\n",
      "[1] 0.2196445\n",
      "[1] 0.2982539\n",
      "[1] 0.3766926\n",
      "[1] 0.5906371\n"
     ]
    },
    {
     "data": {
      "text/html": [
       "<table>\n",
       "<thead><tr><th></th><th scope=col>20</th><th scope=col>21</th><th scope=col>22</th><th scope=col>23</th><th scope=col>24</th><th scope=col>25</th></tr></thead>\n",
       "<tbody>\n",
       "\t<tr><th scope=row>Probabilité p_n</th><td>2.158750e-02</td><td>1.260000e-02</td><td>7.213636e-03</td><td>4.191892e-03</td><td>2.207143e-03</td><td>1.194574e-03</td></tr>\n",
       "\t<tr><th scope=row>Erreur relative</th><td>4.665207e-02</td><td>4.812222e-02</td><td>4.902251e-02</td><td>4.966358e-02</td><td>4.980948e-02</td><td>4.989939e-02</td></tr>\n",
       "\t<tr><th scope=row>Itération tau</th><td>8.000000e+04</td><td>1.300000e+05</td><td>2.200000e+05</td><td>3.700000e+05</td><td>7.000000e+05</td><td>1.290000e+06</td></tr>\n",
       "</tbody>\n",
       "</table>\n"
      ],
      "text/latex": [
       "\\begin{tabular}{r|llllll}\n",
       "  & 20 & 21 & 22 & 23 & 24 & 25\\\\\n",
       "\\hline\n",
       "\tProbabilité p\\_n & 2.158750e-02 & 1.260000e-02 & 7.213636e-03 & 4.191892e-03 & 2.207143e-03 & 1.194574e-03\\\\\n",
       "\tErreur relative & 4.665207e-02 & 4.812222e-02 & 4.902251e-02 & 4.966358e-02 & 4.980948e-02 & 4.989939e-02\\\\\n",
       "\tItération tau & 8.000000e+04 & 1.300000e+05 & 2.200000e+05 & 3.700000e+05 & 7.000000e+05 & 1.290000e+06\\\\\n",
       "\\end{tabular}\n"
      ],
      "text/markdown": [
       "\n",
       "| <!--/--> | 20 | 21 | 22 | 23 | 24 | 25 |\n",
       "|---|---|---|---|---|---|---|\n",
       "| Probabilité p_n | 2.158750e-02 | 1.260000e-02 | 7.213636e-03 | 4.191892e-03 | 2.207143e-03 | 1.194574e-03 |\n",
       "| Erreur relative | 4.665207e-02 | 4.812222e-02 | 4.902251e-02 | 4.966358e-02 | 4.980948e-02 | 4.989939e-02 |\n",
       "| Itération tau | 8.000000e+04 | 1.300000e+05 | 2.200000e+05 | 3.700000e+05 | 7.000000e+05 | 1.290000e+06 |\n",
       "\n"
      ],
      "text/plain": [
       "                20           21           22           23          \n",
       "Probabilité p_n 2.158750e-02 1.260000e-02 7.213636e-03 4.191892e-03\n",
       "Erreur relative 4.665207e-02 4.812222e-02 4.902251e-02 4.966358e-02\n",
       "Itération tau   8.000000e+04 1.300000e+05 2.200000e+05 3.700000e+05\n",
       "                24           25          \n",
       "Probabilité p_n 2.207143e-03 1.194574e-03\n",
       "Erreur relative 4.980948e-02 4.989939e-02\n",
       "Itération tau   7.000000e+05 1.290000e+06"
      ]
     },
     "metadata": {},
     "output_type": "display_data"
    },
    {
     "data": {
      "image/png": "[encoded data removed]",
      "text/plain": [
       "Plot with title \"Itérations pour atteindre une erreur relative de 5%\""
      ]
     },
     "metadata": {},
     "output_type": "display_data"
    }
   ],
   "source": [
    "m <- 1e4\n",
    "monte_carlo <- function(K) {\n",
    "    s <- replicate(m, S())\n",
    "    e_n <- erreur_relative(s, K)\n",
    "    print(e_n)\n",
    "    while (e_n > 0.05) {\n",
    "        new_sample <- replicate(m, S())\n",
    "        s <- c(s, new_sample)\n",
    "        e_n <- erreur_relative(s, K)\n",
    "    }\n",
    "    return(c(mean(s > K), e_n, length(s)))\n",
    "}\n",
    "\n",
    "Ks <- seq(20, 25, by = 1)\n",
    "MC_K <- sapply(Ks, monte_carlo)\n",
    "colnames(MC_K) <- Ks\n",
    "rownames(MC_K) <- c(\"Probabilité p_n\", \"Erreur relative\", \"Itération tau\")\n",
    "MC_K\n",
    "plot(Ks, MC_K[3,], type = \"l\", ylab = \"Itérations nécessaires\", main = \"Itérations pour atteindre une erreur relative de 5%\")"
   ]
  },
  {
   "cell_type": "markdown",
   "metadata": {},
   "source": [
    "## Préliminaire\n",
    "Dans la suite pour comparer les différents estimateurs de Monte Carlo, on écrit la fonction suivante qui donne les informations lié à un échantillon `x`:\n",
    "```R\n",
    "mc_summary <- function(x) {\n",
    "    m <- mean(x)\n",
    "    v <- var(x)\n",
    "    e <- 1.96*sqrt(v / length(x))\n",
    "    return(c(\"Mean\" = m, \"Var\" = v, \"Erreur abs\" = e, \"Erreur rel\" = e / m))\n",
    "}\n",
    "```\n",
    "L'estimateur Monte Carlo standard s'écrit alors \n",
    "```R\n",
    "s <- replicate(n, S())\n",
    "x <- (s > K)\n",
    "(r_MC <- mc_summary(x))\n",
    "```"
   ]
  },
  {
   "cell_type": "code",
   "execution_count": 4,
   "metadata": {},
   "outputs": [
    {
     "data": {
      "text/html": [
       "<dl class=dl-horizontal>\n",
       "\t<dt>Mean</dt>\n",
       "\t\t<dd>0.00735</dd>\n",
       "\t<dt>Var</dt>\n",
       "\t\t<dd>0.0072960504605046</dd>\n",
       "\t<dt>Erreur abs</dt>\n",
       "\t\t<dd>0.000529419563758976</dd>\n",
       "\t<dt>Erreur rel</dt>\n",
       "\t\t<dd>0.0720298726202689</dd>\n",
       "</dl>\n"
      ],
      "text/latex": [
       "\\begin{description*}\n",
       "\\item[Mean] 0.00735\n",
       "\\item[Var] 0.0072960504605046\n",
       "\\item[Erreur abs] 0.000529419563758976\n",
       "\\item[Erreur rel] 0.0720298726202689\n",
       "\\end{description*}\n"
      ],
      "text/markdown": [
       "Mean\n",
       ":   0.00735Var\n",
       ":   0.0072960504605046Erreur abs\n",
       ":   0.000529419563758976Erreur rel\n",
       ":   0.0720298726202689\n",
       "\n"
      ],
      "text/plain": [
       "        Mean          Var   Erreur abs   Erreur rel \n",
       "0.0073500000 0.0072960505 0.0005294196 0.0720298726 "
      ]
     },
     "metadata": {},
     "output_type": "display_data"
    }
   ],
   "source": [
    "mc_summary <- function(x) {\n",
    "    m <- mean(x)\n",
    "    v <- var(x)\n",
    "    e <- 1.96*sqrt(v / length(x))\n",
    "    return(c(\"Mean\" = m, \"Var\" = v, \"Erreur abs\" = e, \"Erreur rel\" = e / m))\n",
    "}\n",
    "\n",
    "# estimateur Monte Carlo \n",
    "K <- 22\n",
    "s <- replicate(n, S())\n",
    "x <- (s > K)\n",
    "(r_MC <- mc_summary(x))"
   ]
  },
  {
   "cell_type": "markdown",
   "metadata": {},
   "source": [
    "## Préconditionnement\n",
    "Pour réduire la variance on teste d'abord l'idée présentée dans l'exercice 1 du TD3, c'est à dire qu'on considère la variable aléatoire \n",
    "$$\n",
    "    M = \\inf \\bigl\\{ r \\ge 1, \\sum_{i=1}^r X_i > K \\bigr\\}\n",
    "$$\n",
    "et la représentation suivante\n",
    "$$\n",
    "    p = \\mathbf{E} \\bigl[\\phi(M) \\bigr] \\quad \\text{avec} \\quad \\phi(m) = \\mathbf{P} \\bigl[ N \\ge m \\bigr]\n",
    "$$\n",
    "Coder une fonction `M()` qui renvoie une réalisation de la variable aléatoire $M$ et implémenter l'estimateur de $\\mathbf{E} \\bigl[\\phi(M) \\bigr]$ (avec $n = 100\\,000$) en utilisant les fonctions `dpois` et `ppois` (cf. la documentation). \n",
    "\n",
    "Comparer les ratios de variance obtenus pour différentes valeurs de $K$ (entre 20 et 25). Pour $K = 22$ le ratio de variance est de l'ordre de 110. \n",
    "\n",
    "Que dire de la complexité, du temps de calcul, lorsque $K$ est grand ($K > 25$) ? Pourquoi ? "
   ]
  },
  {
   "cell_type": "code",
   "execution_count": 5,
   "metadata": {},
   "outputs": [
    {
     "data": {
      "text/html": [
       "<dl class=dl-horizontal>\n",
       "\t<dt>Mean</dt>\n",
       "\t\t<dd>0.00719635855813128</dd>\n",
       "\t<dt>Var</dt>\n",
       "\t\t<dd>6.3647800135991e-05</dd>\n",
       "\t<dt>Erreur abs</dt>\n",
       "\t\t<dd>4.94478906529311e-05</dd>\n",
       "\t<dt>Erreur rel</dt>\n",
       "\t\t<dd>0.0068712377591385</dd>\n",
       "</dl>\n"
      ],
      "text/latex": [
       "\\begin{description*}\n",
       "\\item[Mean] 0.00719635855813128\n",
       "\\item[Var] 6.3647800135991e-05\n",
       "\\item[Erreur abs] 4.94478906529311e-05\n",
       "\\item[Erreur rel] 0.0068712377591385\n",
       "\\end{description*}\n"
      ],
      "text/markdown": [
       "Mean\n",
       ":   0.00719635855813128Var\n",
       ":   6.3647800135991e-05Erreur abs\n",
       ":   4.94478906529311e-05Erreur rel\n",
       ":   0.0068712377591385\n",
       "\n"
      ],
      "text/plain": [
       "        Mean          Var   Erreur abs   Erreur rel \n",
       "7.196359e-03 6.364780e-05 4.944789e-05 6.871238e-03 "
      ]
     },
     "metadata": {},
     "output_type": "display_data"
    },
    {
     "data": {
      "text/html": [
       "<dl class=dl-horizontal>\n",
       "\t<dt>Mean</dt>\n",
       "\t\t<dd>0.00701</dd>\n",
       "\t<dt>Var</dt>\n",
       "\t\t<dd>0.0069609295092951</dd>\n",
       "\t<dt>Erreur abs</dt>\n",
       "\t\t<dd>0.000517118040711287</dd>\n",
       "\t<dt>Erreur rel</dt>\n",
       "\t\t<dd>0.0737686220700838</dd>\n",
       "</dl>\n"
      ],
      "text/latex": [
       "\\begin{description*}\n",
       "\\item[Mean] 0.00701\n",
       "\\item[Var] 0.0069609295092951\n",
       "\\item[Erreur abs] 0.000517118040711287\n",
       "\\item[Erreur rel] 0.0737686220700838\n",
       "\\end{description*}\n"
      ],
      "text/markdown": [
       "Mean\n",
       ":   0.00701Var\n",
       ":   0.0069609295092951Erreur abs\n",
       ":   0.000517118040711287Erreur rel\n",
       ":   0.0737686220700838\n",
       "\n"
      ],
      "text/plain": [
       "       Mean         Var  Erreur abs  Erreur rel \n",
       "0.007010000 0.006960930 0.000517118 0.073768622 "
      ]
     },
     "metadata": {},
     "output_type": "display_data"
    }
   ],
   "source": [
    "K <- 22\n",
    "M <- function() {\n",
    "    S <- 0\n",
    "    M <- 0\n",
    "    repeat {  #boucle infinie\n",
    "        M <- M + 1\n",
    "        X <- rlnorm(1, mu, sigma)\n",
    "        S <- S + X\n",
    "        if (S > K) return(M)  \n",
    "    }\n",
    "}\n",
    "\n",
    "n <- 1e5\n",
    "# estimateur avec préconditionnement \n",
    "phi <- function(m) {\n",
    "    return(dpois(m, lambda) + ppois(m, lambda, lower.tail = FALSE))\n",
    "\n",
    "}\n",
    "m <- replicate(n, M())\n",
    "x <- phi(m)\n",
    "(r_cond <- mc_summary(x))\n",
    "\n",
    "# estimateur Monte Carlo \n",
    "s <- replicate(n, S())\n",
    "x <- (s > K)\n",
    "(r_MC <- mc_summary(x))"
   ]
  },
  {
   "cell_type": "code",
   "execution_count": 6,
   "metadata": {},
   "outputs": [
    {
     "data": {
      "text/html": [
       "<strong>Var:</strong> 109.366380211449"
      ],
      "text/latex": [
       "\\textbf{Var:} 109.366380211449"
      ],
      "text/markdown": [
       "**Var:** 109.366380211449"
      ],
      "text/plain": [
       "     Var \n",
       "109.3664 "
      ]
     },
     "metadata": {},
     "output_type": "display_data"
    }
   ],
   "source": [
    "# ratio de variance \n",
    "r_MC[2] / r_cond[2]"
   ]
  },
  {
   "cell_type": "markdown",
   "metadata": {},
   "source": [
    "## Echantillonage d'importance\n",
    "Pour réduire la variance sans faire exploser la complexité pour les grandes valeurs de $K$ on propose une méthode d'échantillonage d'importance (Importance Sampling) en modifiant la loi de la variable aléatoire $N$ (on peut faire un autre choix, en changeant la loi des $X_i$ ou bien en changeant la loi de $N$ et des $X_i$). Le changement de loi proposé ici repose sur le changement de probabilité, pour $\\theta \\in \\mathbf{R}$\n",
    "$$\n",
    "    \\frac{\\mathrm{d} \\mathbf{P}}{\\mathrm{d} \\mathbf{P}_\\theta} = L_\\theta \\quad \\text{avec} \\quad L_\\theta = \\exp\\bigl(-\\theta N + \\psi(\\theta) \\bigr),\n",
    "$$\n",
    "où $\\psi(\\theta) = \\log \\mathbf{E} \\bigl[ \\exp(\\theta N) \\bigr] = \\lambda (e^\\theta - 1)$. On vérifie par le calcul que la loi de $N$ sous $\\mathbf{P}_\\theta$ est la loi de Poisson de paramètre $\\tilde \\lambda = \\lambda e^\\theta$. Ainsi on a la représentation \n",
    "$$\n",
    "    \\mathbf{P}\\biggl[ \\sum_{i=1}^N X_i > K \\biggr] \n",
    "    = \\mathbf{E}\\biggl[\\mathbf{1}_{\\sum_{i=1}^{\\tilde N} X_i > K } \n",
    "    \\bigl(\\frac{\\lambda}{\\tilde \\lambda} \\bigr)^{\\tilde N} \n",
    "    \\exp(\\tilde \\lambda - \\lambda)\n",
    "    \\biggr] \\quad \\text{avec $\\tilde N \\sim \\mathcal{P}(\\tilde \\lambda)$}.\n",
    "$$\n",
    "\n",
    "Ecrire l'estimateur Monte Carlo basé sur cette représentation et le tester avec $K \\ge 20$ et $\\theta = 0.7$. \n",
    "Pour $K = 22$, le ratio de variance est de l'ordre de 17. \n",
    "\n",
    "Que se passe-t-il si le paramètre $\\theta$ est mal choisi (prendre par exemple $\\theta = 2$) ?"
   ]
  },
  {
   "cell_type": "code",
   "execution_count": 7,
   "metadata": {},
   "outputs": [
    {
     "data": {
      "text/html": [
       "<dl class=dl-horizontal>\n",
       "\t<dt>Mean</dt>\n",
       "\t\t<dd>0.00733165851272307</dd>\n",
       "\t<dt>Var</dt>\n",
       "\t\t<dd>0.000457559687132058</dd>\n",
       "\t<dt>Erreur abs</dt>\n",
       "\t\t<dd>0.000132580590362485</dd>\n",
       "\t<dt>Erreur rel</dt>\n",
       "\t\t<dd>0.0180833013611327</dd>\n",
       "</dl>\n"
      ],
      "text/latex": [
       "\\begin{description*}\n",
       "\\item[Mean] 0.00733165851272307\n",
       "\\item[Var] 0.000457559687132058\n",
       "\\item[Erreur abs] 0.000132580590362485\n",
       "\\item[Erreur rel] 0.0180833013611327\n",
       "\\end{description*}\n"
      ],
      "text/markdown": [
       "Mean\n",
       ":   0.00733165851272307Var\n",
       ":   0.000457559687132058Erreur abs\n",
       ":   0.000132580590362485Erreur rel\n",
       ":   0.0180833013611327\n",
       "\n"
      ],
      "text/plain": [
       "        Mean          Var   Erreur abs   Erreur rel \n",
       "0.0073316585 0.0004575597 0.0001325806 0.0180833014 "
      ]
     },
     "metadata": {},
     "output_type": "display_data"
    }
   ],
   "source": [
    "K <- 22\n",
    "lambda <- 10\n",
    "theta <- 0.7\n",
    "lambda_tilde <- lambda * exp(theta)\n",
    "SL <- function() {\n",
    "    N <- rpois(1, lambda_tilde)\n",
    "    X <- rlnorm(N, mu, sigma)\n",
    "    L <- (lambda / lambda_tilde)^N * exp(lambda_tilde - lambda)\n",
    "    if (sum(X) > K) return(L) \n",
    "    else return(0)\n",
    "}\n",
    "\n",
    "sl <- replicate(n, SL())\n",
    "(r_IS <- mc_summary(sl))"
   ]
  },
  {
   "cell_type": "code",
   "execution_count": 8,
   "metadata": {},
   "outputs": [
    {
     "data": {
      "text/html": [
       "<strong>Var:</strong> 15.2131617033956"
      ],
      "text/latex": [
       "\\textbf{Var:} 15.2131617033956"
      ],
      "text/markdown": [
       "**Var:** 15.2131617033956"
      ],
      "text/plain": [
       "     Var \n",
       "15.21316 "
      ]
     },
     "metadata": {},
     "output_type": "display_data"
    }
   ],
   "source": [
    "r_MC[\"Var\"] / r_IS[\"Var\"] "
   ]
  },
  {
   "cell_type": "markdown",
   "metadata": {},
   "source": [
    "# Calcul de sensibilités\n",
    "On utilisera la notation $S^{(\\lambda)}$ pour indiquer la dépendance de variable aléatoire $S = \\sum_{i=1}^{N} X_i$ en le paramètre $\\lambda > 0$ (paramètre de la loi de Poisson sous-jacente). On s'intéresse à la sensibilité de la probabilité $p$ en fonction de lambda c'est à dire \n",
    "$$\n",
    "    \\frac{\\partial}{\\partial \\lambda} p(\\lambda) = \\frac{\\partial}{\\partial \\lambda} \\mathbf{P} \\bigl[ S^{\\lambda} > K \\bigl]\n",
    "$$"
   ]
  },
  {
   "cell_type": "markdown",
   "metadata": {},
   "source": [
    "## Différences finies\n",
    "Implémenter l'estimateur Monte Carlo basé sur les différences finies d'ordre 2 \n",
    "$$\n",
    "    \\frac{\\partial}{\\partial \\lambda} p(\\lambda) = \\frac{p(\\lambda + h) - p(\\lambda- h)}{2h} + \\mathcal{O}(h^2)\n",
    "$$\n",
    "Comme vu en cours, il y a plusieurs façon d'implémenter l'estimateur Monte Carlo dans ce cadre biaisé. \n",
    "\n",
    "* Le premier estimateur naïf $J^{(1)}_{n,h}(\\lambda)$ est basé sur des réalisations indépendantes de $S^{(\\lambda+h)}$ et $S^{(\\lambda-h)}$ et n'est pas efficace: la variance explose lorsque $h$ tend vers 0. Ainsi on pose\n",
    "$$\n",
    "    J^{(1)}_{n, h}(\\lambda) = \\frac{1}{2 h n} \\bigl( \\sum_{k = 1}^n \\mathbf{1}_{\\{S^{(\\lambda+h)}_k > K\\}} - \\sum_{k = 1}^n  \\mathbf{1}_{\\{\\tilde S^{(\\lambda-h)}_k - K\\}} \\bigr),\n",
    "$$\n",
    "où $(S^{(\\lambda+h)}_k)_{k \\ge 1}$ et $(\\tilde S^{(\\lambda-h)}_k)_{k \\ge 1}$ sont des suites indépendantes de variables aléatoires _i.i.d._.\n",
    "\n",
    "* Le deuxième estimateur $J^{(2)}_{n,h}(\\lambda)$ utilise des réalisations fortements corrélées de la loi de Poisson au sens suivant: on utilise la même réalisation uniforme $U$ pour constuire deux réalisations $N^{(\\lambda+h)}$ et $N^{(\\lambda-h)}$ en utilisant la méthode de l'inverse de la fonction de répartition (un appel de `qpois(U, lambda+h)` et `qpois(U, lambda-h)`). Dans ce deuxième estimateur, les lois log-normales sont indépendantes. On a donc\n",
    "$$\n",
    "    J^{(2)}_{n, h}(\\lambda) = \\frac{1}{2 h n} \\sum_{k = 1}^n \\bigl(\\mathbf{1}_{\\{S^{(\\lambda+h)}_k > K\\}} - \\mathbf{1}_{\\{\\bar S^{(\\lambda-h)}_k - K\\}} \\bigr),\n",
    "$$\n",
    "où pour $k \\ge 1$, $S^{(\\lambda+h)}_k = \\sum_{i = 1}^{G(\\lambda+h, U_k)} X_{i,k}$ et $\\bar S^{(\\lambda-h)}_k = \\sum_{i = 1}^{G(\\lambda-h, U_k)} \\bar X_{i,k}$ avec $G(\\lambda, u)$ l'inverse généralisée de la loi de Poisson de paramètre $\\lambda$, $(U_k)_{k \\ge 1}$ suite _i.i.d._ uniforme sur $[0,1]$ indépendante de $(X_{i,k})_{i\\ge1, k\\ge 1}$ et $(\\bar X_{i,k})_{i\\ge1, k\\ge 1}$ deux suites (doublement indicées) _i.i.d._ de loi log-normale (de paramètres $\\mu$ et $\\sigma$ inchangés).\n",
    "\n",
    "\n",
    "* Un troisième estimateur $J^{(3)}_{n,h}(\\lambda)$ utilise des réalisations fortements corrélées de la loi de Poisson et des variables aléatoires log-normales communes. \n",
    "$$\n",
    "    J^{(3)}_{n, h}(\\lambda) = \\frac{1}{2 h n} \\sum_{k = 1}^n \\bigl(\\mathbf{1}_{\\{S^{(\\lambda+h)}_k > K\\}} - \\mathbf{1}_{\\{S^{(\\lambda-h)}_k - K\\}} \\bigr),\n",
    "$$\n",
    "où pour $k \\ge 1$, $S^{(\\lambda+h)}_k = \\sum_{i = 1}^{G(\\lambda+h, U_k)} X_{i,k}$ et $S^{(\\lambda-h)}_k = \\sum_{i = 1}^{G(\\lambda-h, U_k)} X_{i,k}$ avec $G(\\lambda, u)$ l'inverse généralisée de la loi de Poisson de paramètre $\\lambda$, $(U_k)_{k \\ge 1}$ suite _i.i.d._ uniforme sur $[0,1]$ indépendante de $(X_{i,k})_{i\\ge1, k\\ge 1}$ une suite (doublement indicée) _i.i.d._ de loi log-normale.\n",
    "\n",
    "Programmer ces 3 estimateurs pour différentes valeurs de $h$ (de 1 à 0.001). Voici un résultat possible pour l'estimateur $J^{(3)}_{n, h}(\\lambda)$:\n",
    "<table border=1>\n",
    "<tr> <th>  </th> <th> h =  1 </th> <th> h =  0.5 </th> <th> h =  0.1 </th> <th> h =  0.01 </th> <th> h =  0.001 </th>  </tr>\n",
    "  <tr> <td align=\"right\"> Mean </td> <td align=\"right\"> 0.01734 </td> <td align=\"right\"> 0.01645 </td> <td align=\"right\"> 0.01745 </td> <td align=\"right\">   0.018 </td> <td align=\"right\">    0.03 </td> </tr>\n",
    "  <tr> <td align=\"right\"> Var </td> <td align=\"right\"> 0.00836941 </td> <td align=\"right\"> 0.0161796 </td> <td align=\"right\"> 0.0869464 </td> <td align=\"right\"> 0.899685 </td> <td align=\"right\"> 14.9992 </td> </tr>\n",
    "  <tr> <td align=\"right\"> Erreur abs </td> <td align=\"right\"> 0.000567027 </td> <td align=\"right\"> 0.000788387 </td> <td align=\"right\"> 0.0018276 </td> <td align=\"right\"> 0.00587897 </td> <td align=\"right\"> 0.0240044 </td> </tr>\n",
    "  <tr> <td align=\"right\"> Erreur rel </td> <td align=\"right\"> 0.0327005 </td> <td align=\"right\"> 0.0479263 </td> <td align=\"right\"> 0.104734 </td> <td align=\"right\"> 0.326609 </td> <td align=\"right\"> 0.800147 </td> </tr>\n",
    "   </table>\n",
    "   \n",
    "Que se passe-t-il lorsque $h$ tend vers 0 ? \n",
    "\n",
    "_Remarque_: on ne considère ici que l'étude de l'erreur statistique (absolue et relative) relative à la méthode de Monte Carlo. On ne considère pas l'erreur de biais qui décroît en lors $h$ tend vers 0 et qui est peut-être non négligeable pour $h = 1$. Les IC construits ici sont biaisés et on ne peut pas affirmer que la vraie valeur est dans l'IC à 95% (au moins pour les grandes valeurs de $h$). "
   ]
  },
  {
   "cell_type": "code",
   "execution_count": 9,
   "metadata": {},
   "outputs": [
    {
     "data": {
      "text/html": [
       "<table>\n",
       "<thead><tr><th></th><th scope=col>h =  1</th><th scope=col>h =  0.5</th><th scope=col>h =  0.1</th><th scope=col>h =  0.01</th></tr></thead>\n",
       "<tbody>\n",
       "\t<tr><th scope=row>Mean</th><td>0.0005950000</td><td>-0.000680000</td><td>-0.001500000</td><td> -0.0135000 </td></tr>\n",
       "\t<tr><th scope=row>Var</th><td>0.0103072490</td><td> 0.040659944</td><td> 1.061008360</td><td>104.7258650 </td></tr>\n",
       "\t<tr><th scope=row>Erreur abs</th><td>0.0006292561</td><td> 0.001249797</td><td> 0.006384332</td><td>  0.0634283 </td></tr>\n",
       "\t<tr><th scope=row>Erreur rel</th><td>1.0575733308</td><td>-1.837936691</td><td>-4.256221442</td><td> -4.6983924 </td></tr>\n",
       "</tbody>\n",
       "</table>\n"
      ],
      "text/latex": [
       "\\begin{tabular}{r|llll}\n",
       "  & h =  1 & h =  0.5 & h =  0.1 & h =  0.01\\\\\n",
       "\\hline\n",
       "\tMean & 0.0005950000 & -0.000680000 & -0.001500000 &  -0.0135000 \\\\\n",
       "\tVar & 0.0103072490 &  0.040659944 &  1.061008360 & 104.7258650 \\\\\n",
       "\tErreur abs & 0.0006292561 &  0.001249797 &  0.006384332 &   0.0634283 \\\\\n",
       "\tErreur rel & 1.0575733308 & -1.837936691 & -4.256221442 &  -4.6983924 \\\\\n",
       "\\end{tabular}\n"
      ],
      "text/markdown": [
       "\n",
       "| <!--/--> | h =  1 | h =  0.5 | h =  0.1 | h =  0.01 |\n",
       "|---|---|---|---|---|\n",
       "| Mean | 0.0005950000 | -0.000680000 | -0.001500000 |  -0.0135000  |\n",
       "| Var | 0.0103072490 |  0.040659944 |  1.061008360 | 104.7258650  |\n",
       "| Erreur abs | 0.0006292561 |  0.001249797 |  0.006384332 |   0.0634283  |\n",
       "| Erreur rel | 1.0575733308 | -1.837936691 | -4.256221442 |  -4.6983924  |\n",
       "\n"
      ],
      "text/plain": [
       "           h =  1       h =  0.5     h =  0.1     h =  0.01  \n",
       "Mean       0.0005950000 -0.000680000 -0.001500000  -0.0135000\n",
       "Var        0.0103072490  0.040659944  1.061008360 104.7258650\n",
       "Erreur abs 0.0006292561  0.001249797  0.006384332   0.0634283\n",
       "Erreur rel 1.0575733308 -1.837936691 -4.256221442  -4.6983924"
      ]
     },
     "metadata": {},
     "output_type": "display_data"
    }
   ],
   "source": [
    "K <- 20\n",
    "lambda0 <- 10\n",
    "mu <- 0.1\n",
    "sigma <- 0.3\n",
    "n <- 1e5\n",
    "\n",
    "# premier estimateur\n",
    "J1 <- function(h) {\n",
    "    lambda <- lambda0 + h\n",
    "    s1 <- replicate(n, S())\n",
    "    xph <- (s1 > K)\n",
    " \n",
    "    lambda <- lambda0 - h\n",
    "    s2 <- replicate(n, S())\n",
    "    xmh <- (s2 > K)\n",
    "\n",
    "    x <- (xph - xmh) / (2*h)\n",
    "    return(mc_summary(x))\n",
    "}\n",
    "h <- c(1, 0.5, 0.1, 0.01)\n",
    "res <- sapply(h, J1)\n",
    "colnames(res) <- paste(\"h = \", h)\n",
    "res"
   ]
  },
  {
   "cell_type": "code",
   "execution_count": 10,
   "metadata": {},
   "outputs": [
    {
     "data": {
      "text/html": [
       "<table>\n",
       "<thead><tr><th></th><th scope=col>h =  1</th><th scope=col>h =  0.5</th><th scope=col>h =  0.1</th><th scope=col>h =  0.01</th></tr></thead>\n",
       "<tbody>\n",
       "\t<tr><th scope=row>Mean</th><td>0.0175700000</td><td>0.0171500000</td><td>0.013150000 </td><td> 0.02400000 </td></tr>\n",
       "\t<tr><th scope=row>Var</th><td>0.0088763839</td><td>0.0228361059</td><td>0.449081568 </td><td>44.29986700 </td></tr>\n",
       "\t<tr><th scope=row>Erreur abs</th><td>0.0005839479</td><td>0.0009366279</td><td>0.004153543 </td><td> 0.04125317 </td></tr>\n",
       "\t<tr><th scope=row>Erreur rel</th><td>0.0332355100</td><td>0.0546138723</td><td>0.315858766 </td><td> 1.71888191 </td></tr>\n",
       "</tbody>\n",
       "</table>\n"
      ],
      "text/latex": [
       "\\begin{tabular}{r|llll}\n",
       "  & h =  1 & h =  0.5 & h =  0.1 & h =  0.01\\\\\n",
       "\\hline\n",
       "\tMean & 0.0175700000 & 0.0171500000 & 0.013150000  &  0.02400000 \\\\\n",
       "\tVar & 0.0088763839 & 0.0228361059 & 0.449081568  & 44.29986700 \\\\\n",
       "\tErreur abs & 0.0005839479 & 0.0009366279 & 0.004153543  &  0.04125317 \\\\\n",
       "\tErreur rel & 0.0332355100 & 0.0546138723 & 0.315858766  &  1.71888191 \\\\\n",
       "\\end{tabular}\n"
      ],
      "text/markdown": [
       "\n",
       "| <!--/--> | h =  1 | h =  0.5 | h =  0.1 | h =  0.01 |\n",
       "|---|---|---|---|---|\n",
       "| Mean | 0.0175700000 | 0.0171500000 | 0.013150000  |  0.02400000  |\n",
       "| Var | 0.0088763839 | 0.0228361059 | 0.449081568  | 44.29986700  |\n",
       "| Erreur abs | 0.0005839479 | 0.0009366279 | 0.004153543  |  0.04125317  |\n",
       "| Erreur rel | 0.0332355100 | 0.0546138723 | 0.315858766  |  1.71888191  |\n",
       "\n"
      ],
      "text/plain": [
       "           h =  1       h =  0.5     h =  0.1    h =  0.01  \n",
       "Mean       0.0175700000 0.0171500000 0.013150000  0.02400000\n",
       "Var        0.0088763839 0.0228361059 0.449081568 44.29986700\n",
       "Erreur abs 0.0005839479 0.0009366279 0.004153543  0.04125317\n",
       "Erreur rel 0.0332355100 0.0546138723 0.315858766  1.71888191"
      ]
     },
     "metadata": {},
     "output_type": "display_data"
    }
   ],
   "source": [
    "lambda <- 10\n",
    "# deuxième estimateur\n",
    "J2 <- function(h) {\n",
    "    var_alea <- function() {\n",
    "        U <- runif(1, 0, 1)\n",
    "        Nmh <- qpois(U, lambda - h)\n",
    "        Nph <- qpois(U, lambda + h)\n",
    "        Xmh <- rlnorm(Nmh, mu, sigma)\n",
    "        Xph <- rlnorm(Nph, mu, sigma)\n",
    "        return(((sum(Xph) > K) - (sum(Xmh) > K)) / (2*h))\n",
    "    }\n",
    "    x <- replicate(n, var_alea())\n",
    "    mc_summary(x)\n",
    "}\n",
    "\n",
    "h <- c(1, 0.5, 0.1, 0.01)\n",
    "res <- sapply(h, J2)\n",
    "colnames(res) <- paste(\"h = \", h)\n",
    "res"
   ]
  },
  {
   "cell_type": "code",
   "execution_count": 11,
   "metadata": {},
   "outputs": [
    {
     "data": {
      "text/html": [
       "<table>\n",
       "<thead><tr><th></th><th scope=col>h =  1</th><th scope=col>h =  0.5</th><th scope=col>h =  0.1</th><th scope=col>h =  0.01</th><th scope=col>h =  0.001</th></tr></thead>\n",
       "<tbody>\n",
       "\t<tr><th scope=row>Mean</th><td>0.0173400000</td><td>0.0170100000</td><td>0.017300000 </td><td>0.012500000 </td><td>0.01500000  </td></tr>\n",
       "\t<tr><th scope=row>Var</th><td>0.0083694081</td><td>0.0167208271</td><td>0.086201572 </td><td>0.624849998 </td><td>7.49985000  </td></tr>\n",
       "\t<tr><th scope=row>Erreur abs</th><td>0.0005670266</td><td>0.0008014657</td><td>0.001819758 </td><td>0.004899412 </td><td>0.01697393  </td></tr>\n",
       "\t<tr><th scope=row>Erreur rel</th><td>0.0327004968</td><td>0.0471173261</td><td>0.105188330 </td><td>0.391952957 </td><td>1.13159521  </td></tr>\n",
       "</tbody>\n",
       "</table>\n"
      ],
      "text/latex": [
       "\\begin{tabular}{r|lllll}\n",
       "  & h =  1 & h =  0.5 & h =  0.1 & h =  0.01 & h =  0.001\\\\\n",
       "\\hline\n",
       "\tMean & 0.0173400000 & 0.0170100000 & 0.017300000  & 0.012500000  & 0.01500000  \\\\\n",
       "\tVar & 0.0083694081 & 0.0167208271 & 0.086201572  & 0.624849998  & 7.49985000  \\\\\n",
       "\tErreur abs & 0.0005670266 & 0.0008014657 & 0.001819758  & 0.004899412  & 0.01697393  \\\\\n",
       "\tErreur rel & 0.0327004968 & 0.0471173261 & 0.105188330  & 0.391952957  & 1.13159521  \\\\\n",
       "\\end{tabular}\n"
      ],
      "text/markdown": [
       "\n",
       "| <!--/--> | h =  1 | h =  0.5 | h =  0.1 | h =  0.01 | h =  0.001 |\n",
       "|---|---|---|---|---|---|\n",
       "| Mean | 0.0173400000 | 0.0170100000 | 0.017300000  | 0.012500000  | 0.01500000   |\n",
       "| Var | 0.0083694081 | 0.0167208271 | 0.086201572  | 0.624849998  | 7.49985000   |\n",
       "| Erreur abs | 0.0005670266 | 0.0008014657 | 0.001819758  | 0.004899412  | 0.01697393   |\n",
       "| Erreur rel | 0.0327004968 | 0.0471173261 | 0.105188330  | 0.391952957  | 1.13159521   |\n",
       "\n"
      ],
      "text/plain": [
       "           h =  1       h =  0.5     h =  0.1    h =  0.01   h =  0.001\n",
       "Mean       0.0173400000 0.0170100000 0.017300000 0.012500000 0.01500000\n",
       "Var        0.0083694081 0.0167208271 0.086201572 0.624849998 7.49985000\n",
       "Erreur abs 0.0005670266 0.0008014657 0.001819758 0.004899412 0.01697393\n",
       "Erreur rel 0.0327004968 0.0471173261 0.105188330 0.391952957 1.13159521"
      ]
     },
     "metadata": {},
     "output_type": "display_data"
    }
   ],
   "source": [
    "lambda <- 10\n",
    "# troisième estimateur\n",
    "J3 <- function(h) {\n",
    "    var_alea <- function() {\n",
    "        U <- runif(1, 0, 1)\n",
    "        Nmh <- qpois(U, lambda - h)\n",
    "        Nph <- qpois(U, lambda + h)\n",
    "        Nmin = min(Nmh, Nph)\n",
    "        Xmin <- rlnorm(Nmin, mu, sigma)\n",
    "        Xmh <- c(Xmin, rlnorm(max(Nmh-Nmin,0), mu, sigma))\n",
    "        Xph <- c(Xmin, rlnorm(max(Nph-Nmin,0), mu, sigma))        \n",
    "        return(((sum(Xph) > K) - (sum(Xmh) > K)) / (2*h))\n",
    "    }\n",
    "    x <- replicate(n, var_alea())\n",
    "    mc_summary(x)\n",
    "}\n",
    "\n",
    "h <- c(1, 0.5, 0.1, 0.01, 0.001)\n",
    "res <- sapply(h, J3)\n",
    "colnames(res) <- paste(\"h = \", h)\n",
    "res"
   ]
  }
 ],
 "metadata": {
  "kernelspec": {
   "display_name": "R",
   "language": "R",
   "name": "ir"
  },
  "language_info": {
   "codemirror_mode": "r",
   "file_extension": ".r",
   "mimetype": "text/x-r-source",
   "name": "R",
   "pygments_lexer": "r",
   "version": "3.6.1"
  }
 },
 "nbformat": 4,
 "nbformat_minor": 1
}
